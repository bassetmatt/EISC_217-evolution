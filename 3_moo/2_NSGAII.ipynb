{
 "cells": [
  {
   "cell_type": "markdown",
   "metadata": {
    "slideshow": {
     "slide_type": "slide"
    }
   },
   "source": [
    "<img src=\"../imgs/logo.png\" width=\"20%\" align=\"right\" style=\"margin:0px 20px\">\n",
    "\n",
    "\n",
    "# Evolutionary Computation\n",
    "\n",
    "## 3.2 NSGA-II\n",
    "\n",
    "<a rel=\"license\" href=\"http://creativecommons.org/licenses/by-sa/4.0/\"><img alt=\"Creative Commons License\" align=\"left\" src=\"https://i.creativecommons.org/l/by-sa/4.0/80x15.png\" /></a>&nbsp;| Dennis G. Wilson | <a href=\"https://d9w.github.io/evolution/\">https://d9w.github.io/evolution/</a>"
   ]
  },
  {
   "cell_type": "markdown",
   "metadata": {
    "slideshow": {
     "slide_type": "slide"
    }
   },
   "source": [
    "## Outline\n",
    "\n",
    "1. [The Knapsack Problem](#knapsack)\n",
    "2. [Evolution](#evolution)\n",
    "3. [Visualization](#visualization)"
   ]
  },
  {
   "cell_type": "code",
   "execution_count": 1,
   "metadata": {
    "slideshow": {
     "slide_type": "slide"
    }
   },
   "outputs": [],
   "source": [
    "using NSGAII\n",
    "using JuMP\n",
    "import GLPK\n",
    "using Plots\n",
    "default(show=:ijulia)"
   ]
  },
  {
   "cell_type": "markdown",
   "metadata": {
    "slideshow": {
     "slide_type": "fragment"
    }
   },
   "source": [
    "To experiment with NSGAII we'll be using a rather new implementation of it from Github: https://github.com/gsoleilhac/NSGAII.jl/.\n",
    "\n",
    "This implementation isn't so complicated and if we look at the code, we can see that much of it resembles our [notebook code](https://github.com/d9w/evolution/blob/master/2_ga/1_GAs.ipynb) on Genetic Algorithms. Let's look at the [functions](https://github.com/gsoleilhac/NSGAII.jl/blob/master/src/functions.jl) code which contains the main Genetic Algorithm loop, as well as the [NSGA-II](http://repository.ias.ac.in/83498/1/2-a.pdf) Fast Non-Dominated Sort and Crowding Distance Algorithm. Notice the structure of individuals in the code and how rank is stored; we will use this information later."
   ]
  },
  {
   "cell_type": "markdown",
   "metadata": {
    "slideshow": {
     "slide_type": "slide"
    }
   },
   "source": [
    "## <a id=\"knapsack\"></a>The Knapsack Problem"
   ]
  },
  {
   "cell_type": "markdown",
   "metadata": {
    "slideshow": {
     "slide_type": "fragment"
    }
   },
   "source": [
    "<img src=\"https://imgs.xkcd.com/comics/np_complete.png\">\n",
    "<div style=\"text-align:center\"><a href=\"https://xkcd.com/287/\">XKCD on the Knapsack Problem</a></div>\n"
   ]
  },
  {
   "cell_type": "markdown",
   "metadata": {
    "slideshow": {
     "slide_type": "slide"
    }
   },
   "source": [
    "Imagine we're travelling and our bag has a maximum weight limit. We want to fill this bag with items of different value and maximize the total value in our bag, as long as it stays in the weight limit. This is known as the \"knapsack problem\".\n",
    "<img src=\"../imgs/knapsack.png\" width=\"30%\" height=\"auto\">\n",
    "Instead of a bag with items, you could imagine a scenario like the comic. You want to order different appetizers, but you only want to spend a fixed maximum amount. How can you get the best appetizers?"
   ]
  },
  {
   "cell_type": "markdown",
   "metadata": {
    "slideshow": {
     "slide_type": "slide"
    }
   },
   "source": [
    "Let's look at an example, specifically using the version of the Knapsack problem known as the \"0-1 knapsack problem\" where we can have at most 1 copy of each item. We'll use 5 items and randomly geneate values for them."
   ]
  },
  {
   "cell_type": "code",
   "execution_count": 2,
   "metadata": {
    "slideshow": {
     "slide_type": "fragment"
    }
   },
   "outputs": [
    {
     "name": "stdout",
     "output_type": "stream",
     "text": [
      "[26, 62, 2, 80, 30] total value: 200\n"
     ]
    }
   ],
   "source": [
    "n = 5\n",
    "values = rand(0:100, n)\n",
    "println(values, \" total value: \", sum(values))"
   ]
  },
  {
   "cell_type": "code",
   "execution_count": 3,
   "metadata": {
    "slideshow": {
     "slide_type": "fragment"
    }
   },
   "outputs": [
    {
     "name": "stdout",
     "output_type": "stream",
     "text": [
      "[19, 20, 17, 13, 15] total weight: 84\n"
     ]
    }
   ],
   "source": [
    "weights = rand(10:20, n)\n",
    "max_weight = 55\n",
    "println(weights, \" total weight: \", sum(weights))"
   ]
  },
  {
   "cell_type": "markdown",
   "metadata": {
    "slideshow": {
     "slide_type": "fragment"
    }
   },
   "source": [
    "We won't be able to take all items because of the maximum weight of 55. We'll express our choice of items using a binary string, 1 if we take the item and 0 otherwise."
   ]
  },
  {
   "cell_type": "code",
   "execution_count": 4,
   "metadata": {
    "slideshow": {
     "slide_type": "fragment"
    }
   },
   "outputs": [
    {
     "name": "stdout",
     "output_type": "stream",
     "text": [
      "Bool[1, 1, 0, 1, 1]\n"
     ]
    }
   ],
   "source": [
    "using Random: bitrand\n",
    "choices = bitrand(n)\n",
    "println(choices)"
   ]
  },
  {
   "cell_type": "markdown",
   "metadata": {
    "slideshow": {
     "slide_type": "slide"
    }
   },
   "source": [
    "The total value of our knapsack is therefore the sum of the element-wise multiplication of our choices and the individual item values."
   ]
  },
  {
   "cell_type": "code",
   "execution_count": 5,
   "metadata": {
    "slideshow": {
     "slide_type": "fragment"
    }
   },
   "outputs": [
    {
     "data": {
      "text/plain": [
       "198"
      ]
     },
     "execution_count": 5,
     "metadata": {},
     "output_type": "execute_result"
    }
   ],
   "source": [
    "sum(choices .* values)"
   ]
  },
  {
   "cell_type": "markdown",
   "metadata": {
    "slideshow": {
     "slide_type": "fragment"
    }
   },
   "source": [
    "In other words, the dot product of the two vectors."
   ]
  },
  {
   "cell_type": "code",
   "execution_count": 6,
   "metadata": {
    "slideshow": {
     "slide_type": "fragment"
    }
   },
   "outputs": [
    {
     "data": {
      "text/plain": [
       "198"
      ]
     },
     "execution_count": 6,
     "metadata": {},
     "output_type": "execute_result"
    }
   ],
   "source": [
    "using LinearAlgebra: dot\n",
    "dot(choices, values)"
   ]
  },
  {
   "cell_type": "markdown",
   "metadata": {
    "slideshow": {
     "slide_type": "fragment"
    }
   },
   "source": [
    "We can also use the dot product to check if our choices fall under the weight limit"
   ]
  },
  {
   "cell_type": "code",
   "execution_count": 7,
   "metadata": {
    "slideshow": {
     "slide_type": "fragment"
    }
   },
   "outputs": [
    {
     "data": {
      "text/plain": [
       "(67, 55)"
      ]
     },
     "execution_count": 7,
     "metadata": {},
     "output_type": "execute_result"
    }
   ],
   "source": [
    "dot(choices, weights), max_weight"
   ]
  },
  {
   "cell_type": "markdown",
   "metadata": {
    "slideshow": {
     "slide_type": "slide"
    }
   },
   "source": [
    "Let's say you and a friend are travelling together and to make it cheaper, you're sharing a bag. You and your friend assign different values to each item based on what you want to bring on the trip. Your preferences are in `values` and your friends preferences are:"
   ]
  },
  {
   "cell_type": "code",
   "execution_count": 8,
   "metadata": {
    "slideshow": {
     "slide_type": "fragment"
    }
   },
   "outputs": [
    {
     "name": "stdout",
     "output_type": "stream",
     "text": [
      "You:\t[26, 62, 2, 80, 30] total value: 200\n",
      "Friend:\t[49, 60, 19, 34, 73] total value: 235\n"
     ]
    }
   ],
   "source": [
    "values2 = rand(0:100, n)\n",
    "println(\"You:\\t\", values, \" total value: \", sum(values))\n",
    "println(\"Friend:\\t\", values2, \" total value: \", sum(values2))"
   ]
  },
  {
   "cell_type": "markdown",
   "metadata": {
    "slideshow": {
     "slide_type": "fragment"
    }
   },
   "source": [
    "Let's see who is happier with the choices we made"
   ]
  },
  {
   "cell_type": "code",
   "execution_count": 9,
   "metadata": {
    "slideshow": {
     "slide_type": "fragment"
    }
   },
   "outputs": [
    {
     "name": "stdout",
     "output_type": "stream",
     "text": [
      "Bool[0, 0, 1, 1, 1]\n",
      "weight: 45\n",
      "You: 112 Friend: 126\n"
     ]
    }
   ],
   "source": [
    "choices = bitrand(n)\n",
    "println(choices)\n",
    "println(\"weight: \", dot(choices, weights))\n",
    "println(\"You: \", dot(choices, values), \" Friend: \", dot(choices, values2))"
   ]
  },
  {
   "cell_type": "markdown",
   "metadata": {
    "slideshow": {
     "slide_type": "fragment"
    }
   },
   "source": [
    "This is the multi-objective version of the Knapsack problem where we use $K$ different value vectors for $K$ objectives."
   ]
  },
  {
   "cell_type": "markdown",
   "metadata": {
    "slideshow": {
     "slide_type": "slide"
    }
   },
   "source": [
    "[The Knapsack problem](https://en.wikipedia.org/wiki/Knapsack_problem) has been thoroughly studied in theoretical computer science and evolutionary computation is not the only choice for solving it; dynamic programming and mixed integer programming are what [JuMP](https://github.com/JuliaOpt/JuMP.jl), an optimization library, uses."
   ]
  },
  {
   "cell_type": "code",
   "execution_count": 10,
   "metadata": {
    "slideshow": {
     "slide_type": "fragment"
    }
   },
   "outputs": [],
   "source": [
    "m = Model(GLPK.Optimizer)\n",
    "@variable(m, x[1:n], Bin)\n",
    "# Objective: maximize profit\n",
    "@objective(m, Max, dot(values, x))\n",
    "# Constraint: can carry all\n",
    "@constraint(m, dot(weights, x) <= max_weight)\n",
    "# Solve problem using MIP solver\n",
    "optimize!(m);"
   ]
  },
  {
   "cell_type": "code",
   "execution_count": 11,
   "metadata": {},
   "outputs": [
    {
     "data": {
      "text/latex": [
       "$$ 26 x_{1} + 62 x_{2} + 2 x_{3} + 80 x_{4} + 30 x_{5} $$"
      ],
      "text/plain": [
       "26 x[1] + 62 x[2] + 2 x[3] + 80 x[4] + 30 x[5]"
      ]
     },
     "execution_count": 11,
     "metadata": {},
     "output_type": "execute_result"
    }
   ],
   "source": [
    "objective_function(m)"
   ]
  },
  {
   "cell_type": "code",
   "execution_count": 12,
   "metadata": {
    "slideshow": {
     "slide_type": "fragment"
    }
   },
   "outputs": [
    {
     "name": "stdout",
     "output_type": "stream",
     "text": [
      "Objective is: 172.0\n",
      "Solution is:\n",
      "x[1] = 0.0, p[1]/w[1] = 1.368421052631579\n",
      "x[2] = 1.0, p[2]/w[2] = 3.1\n",
      "x[3] = 0.0, p[3]/w[3] = 0.11764705882352941\n",
      "x[4] = 1.0, p[4]/w[4] = 6.153846153846154\n",
      "x[5] = 1.0, p[5]/w[5] = 2.0\n"
     ]
    }
   ],
   "source": [
    "println(\"Objective is: \", objective_value(m))\n",
    "println(\"Solution is:\")\n",
    "for i in 1:n\n",
    "    print(\"x[$i] = \", value(x[i]))\n",
    "    println(\", p[$i]/w[$i] = \", values[i]/weights[i])\n",
    "end"
   ]
  },
  {
   "cell_type": "markdown",
   "metadata": {
    "slideshow": {
     "slide_type": "slide"
    }
   },
   "source": [
    "## <a id=\"evolution\"></a>Evolution"
   ]
  },
  {
   "cell_type": "markdown",
   "metadata": {
    "slideshow": {
     "slide_type": "fragment"
    }
   },
   "source": [
    "We will apply NSGA-II to the Knapsack problem. First, let's scale up the number of items to 100. "
   ]
  },
  {
   "cell_type": "code",
   "execution_count": 13,
   "metadata": {
    "slideshow": {
     "slide_type": "fragment"
    }
   },
   "outputs": [
    {
     "data": {
      "text/plain": [
       "150×10 Matrix{Float64}:\n",
       " 0.778409    0.944489    0.337169   …  0.560831   0.737957   0.00196998\n",
       " 0.991061    0.885405    0.231889      0.994784   0.89412    0.308168\n",
       " 0.24596     0.885633    0.565819      0.476002   0.0311889  0.953932\n",
       " 0.352881    0.179497    0.839682      0.0912976  0.943923   0.765309\n",
       " 0.661747    0.934298    0.105435      0.600919   0.636018   0.259944\n",
       " 0.00662103  0.784465    0.634043   …  0.0445761  0.899533   0.650213\n",
       " 0.56505     0.230866    0.0312392     0.0149475  0.422005   0.780734\n",
       " 0.956086    0.166565    0.710364      0.514238   0.994984   0.383277\n",
       " 0.411753    0.0141121   0.878421      0.894984   0.667031   0.300067\n",
       " 0.749398    0.0109723   0.0777145     0.614665   0.18385    0.485164\n",
       " 0.116008    0.413847    0.857585   …  0.721967   0.824869   0.106178\n",
       " 0.579229    0.00802463  0.529374      0.637798   0.781843   0.690111\n",
       " 0.088791    0.658617    0.149911      0.192464   0.198889   0.253381\n",
       " ⋮                                  ⋱                        \n",
       " 0.705517    0.123249    0.416221      0.426561   0.686145   0.986626\n",
       " 0.905194    0.473289    0.259363      0.530595   0.651385   0.432708\n",
       " 0.96283     0.05091     0.995908   …  0.451399   0.780078   0.612398\n",
       " 0.972798    0.561236    0.267684      0.219782   0.711575   0.269578\n",
       " 0.523477    0.443893    0.147808      0.0342278  0.0273645  0.155145\n",
       " 0.0692048   0.727523    0.16535       0.957706   0.842908   0.0825163\n",
       " 0.384534    0.853266    0.222969      0.683792   0.420156   0.968596\n",
       " 0.920078    0.690842    0.928361   …  0.606705   0.451245   0.476677\n",
       " 0.216447    0.995735    0.460841      0.985163   0.826327   0.513506\n",
       " 0.771176    0.743363    0.204255      0.198256   0.968514   0.419001\n",
       " 0.0334805   0.246493    0.644502      0.0751939  0.837678   0.415206\n",
       " 0.863458    0.948168    0.92202       0.574148   0.883799   0.723846"
      ]
     },
     "execution_count": 13,
     "metadata": {},
     "output_type": "execute_result"
    }
   ],
   "source": [
    "n = 150\n",
    "n_objectives = 10\n",
    "values = rand(n, n_objectives)"
   ]
  },
  {
   "cell_type": "markdown",
   "metadata": {
    "slideshow": {
     "slide_type": "slide"
    }
   },
   "source": [
    "Let's normalize our fitness values by their sum, so that the total maximum value is 1.0. This will help with plotting later."
   ]
  },
  {
   "cell_type": "code",
   "execution_count": 14,
   "metadata": {
    "slideshow": {
     "slide_type": "fragment"
    }
   },
   "outputs": [
    {
     "data": {
      "text/plain": [
       "1×10 Matrix{Float64}:\n",
       " 1.0  1.0  1.0  1.0  1.0  1.0  1.0  1.0  1.0  1.0"
      ]
     },
     "execution_count": 14,
     "metadata": {},
     "output_type": "execute_result"
    }
   ],
   "source": [
    "values = values ./ sum(values, dims=1);\n",
    "sum(values, dims=1)"
   ]
  },
  {
   "cell_type": "markdown",
   "metadata": {
    "slideshow": {
     "slide_type": "slide"
    }
   },
   "source": [
    "Similarly, let's normalize the weights to sum to 1 and set a maximum weight of 0.5, meaning we can keep only half the items on average. This will let us change the number of items more easily later on but doesn't impact the problem in any way."
   ]
  },
  {
   "cell_type": "code",
   "execution_count": 15,
   "metadata": {
    "slideshow": {
     "slide_type": "fragment"
    }
   },
   "outputs": [
    {
     "data": {
      "text/plain": [
       "0.5"
      ]
     },
     "execution_count": 15,
     "metadata": {},
     "output_type": "execute_result"
    }
   ],
   "source": [
    "weights = rand(n)\n",
    "weights = weights ./ sum(weights)\n",
    "max_weight = 0.5"
   ]
  },
  {
   "cell_type": "markdown",
   "metadata": {
    "slideshow": {
     "slide_type": "slide"
    }
   },
   "source": [
    "Let's write our objective function which will compute the value of our knapsack using each different column of profit values."
   ]
  },
  {
   "cell_type": "code",
   "execution_count": 16,
   "metadata": {
    "slideshow": {
     "slide_type": "fragment"
    }
   },
   "outputs": [
    {
     "data": {
      "text/plain": [
       "objective (generic function with 1 method)"
      ]
     },
     "execution_count": 16,
     "metadata": {},
     "output_type": "execute_result"
    }
   ],
   "source": [
    "function objective(genes::AbstractArray)\n",
    "    fits = zeros(n_objectives)\n",
    "    for i in 1:n_objectives\n",
    "        fits[i] = dot(genes, values[:, i])\n",
    "    end\n",
    "    tuple(fits...)\n",
    "end"
   ]
  },
  {
   "cell_type": "markdown",
   "metadata": {
    "slideshow": {
     "slide_type": "slide"
    }
   },
   "source": [
    "We'll add in our weight constraint separately. This is used in the evaluation of individuals and is considered a part of our objective function, but is handled separately. Our lecture on evolution with constraints will go into more detail on that. For this NSGA-II implementation, we return 0 if the condition passes and the distance from meeting the condition otherwise."
   ]
  },
  {
   "cell_type": "code",
   "execution_count": 17,
   "metadata": {
    "slideshow": {
     "slide_type": "fragment"
    }
   },
   "outputs": [
    {
     "data": {
      "text/plain": [
       "constraint (generic function with 1 method)"
      ]
     },
     "execution_count": 17,
     "metadata": {},
     "output_type": "execute_result"
    }
   ],
   "source": [
    "function constraint(genes::AbstractArray)\n",
    "    sum_weights = dot(genes, weights)\n",
    "    return sum_weights <= max_weight ? 0 : sum_weights - max_weight\n",
    "end"
   ]
  },
  {
   "cell_type": "markdown",
   "metadata": {
    "slideshow": {
     "slide_type": "slide"
    }
   },
   "source": [
    "That's all, so now we're ready to run NSGA-II. Let's run it for 100 generations on a population of 100. The function returns the set of non-dominated individuals at the end"
   ]
  },
  {
   "cell_type": "code",
   "execution_count": 18,
   "metadata": {
    "slideshow": {
     "slide_type": "fragment"
    }
   },
   "outputs": [
    {
     "data": {
      "text/plain": [
       "indiv([111010010010111...111011001111101] : (0.5897106550453305, 0.7039960315177284, 0.6694674154023261, 0.614901309501972, 0.6445179149160255, 0.5995792869695249, 0.5735472083935104, 0.6310234480593091, 0.5969528316638322, 0.6207746032321477) | rank : 1)"
      ]
     },
     "execution_count": 18,
     "metadata": {},
     "output_type": "execute_result"
    }
   ],
   "source": [
    "popsize = 100\n",
    "nbgen = 100\n",
    "init() = bitrand(n)\n",
    "non_dominated =  nsga_max(popsize, nbgen, objective, init, fCV=constraint)\n",
    "non_dominated[1]"
   ]
  },
  {
   "cell_type": "markdown",
   "metadata": {
    "slideshow": {
     "slide_type": "slide"
    }
   },
   "source": [
    "Let's see what type of total profit values we have from our two objectives."
   ]
  },
  {
   "cell_type": "code",
   "execution_count": 19,
   "metadata": {
    "slideshow": {
     "slide_type": "fragment"
    }
   },
   "outputs": [
    {
     "data": {
      "text/plain": [
       "100-element Vector{Vector{Float64}}:\n",
       " [0.5897106550453305, 0.7039960315177284, 0.6694674154023261, 0.614901309501972, 0.6445179149160255, 0.5995792869695249, 0.5735472083935104, 0.6310234480593091, 0.5969528316638322, 0.6207746032321477]\n",
       " [0.5721239702646681, 0.638214400321514, 0.7113653686163294, 0.6704195472378907, 0.7129122768008415, 0.6368581075884943, 0.6640918313741841, 0.6559226903980078, 0.6129131931829467, 0.7006575402507222]\n",
       " [0.6078546930966682, 0.6644895164990683, 0.7032740236815754, 0.7098841446783954, 0.6635023226608683, 0.6858087421035202, 0.6467685383998019, 0.7196846808019366, 0.6284109946913965, 0.6976496856298208]\n",
       " [0.630050207114454, 0.6732474602943643, 0.7345289494798994, 0.6787500027521661, 0.6672069636950668, 0.6354004977375466, 0.6602186400574087, 0.7070959513924557, 0.6721083306764654, 0.6960957978385336]\n",
       " [0.5397613293628657, 0.6519537565973191, 0.6533537580774754, 0.673161063764559, 0.7021426437131597, 0.5908455422723564, 0.6767315412972943, 0.6045229586915054, 0.6014949961667327, 0.690537286667523]\n",
       " [0.6257328600786146, 0.6814916480386456, 0.6858832307429159, 0.6629752960347657, 0.5881100321939698, 0.5670081579778671, 0.5995667521987699, 0.5942246119724613, 0.5999584212597397, 0.6892791397651359]\n",
       " [0.6300535694865107, 0.6244969476780584, 0.7629644428030921, 0.6667350528957475, 0.6597309381679761, 0.6402791837970332, 0.6316307298004811, 0.6390850359377652, 0.6333987040584612, 0.6784380008939062]\n",
       " [0.6328403078328243, 0.6831626649300092, 0.6672343248553432, 0.621713238074227, 0.5634555899982561, 0.5567271016637256, 0.6078889841720364, 0.6227256582832142, 0.6155448895668846, 0.6773926596934302]\n",
       " [0.662303286903902, 0.6228679164366733, 0.6614295585014957, 0.659989026059238, 0.6112254672154623, 0.6557347014172212, 0.6657096714387247, 0.7492973591502053, 0.643447555967991, 0.6734883534434254]\n",
       " [0.6414446696285783, 0.6034482060540608, 0.671233137698707, 0.6332679913228778, 0.6227410795002287, 0.6329925633325342, 0.6141725887707479, 0.7370446961584134, 0.6055755802574828, 0.668649940522586]\n",
       " [0.5748751099952041, 0.6718232045911321, 0.7285627285828461, 0.7426454861789523, 0.6710879301500852, 0.6415928255785968, 0.6469893172808946, 0.6814915857424778, 0.5953178673858497, 0.6673290591419629]\n",
       " [0.6943479046572582, 0.707127590229366, 0.6485313728020257, 0.6658459940586162, 0.5794216084375345, 0.6334914220671491, 0.6442735781906176, 0.6856386698528907, 0.6217640428961534, 0.6532691685542524]\n",
       " [0.6371056373130572, 0.653564153805074, 0.6454314998712525, 0.6427384529972994, 0.6641404007453952, 0.6313671400038836, 0.7091715277160009, 0.6491992623263176, 0.6077212873730029, 0.6486350952290574]\n",
       " ⋮\n",
       " [0.6267612847832065, 0.6467645191662136, 0.6854918134463894, 0.732583559118409, 0.6407280712007792, 0.6577232493127204, 0.6790115190913606, 0.6708924782128528, 0.628115794337492, 0.6357915644604157]\n",
       " [0.6492287482433069, 0.6286123858220153, 0.6217068538810387, 0.6450136311901435, 0.6006174603862169, 0.628209563859768, 0.6621734293000444, 0.6821492781217806, 0.5876337578198574, 0.6224848345455049]\n",
       " [0.6474880930402002, 0.6672574612179594, 0.622998664365892, 0.6275873578552802, 0.603481603728611, 0.6204602538351062, 0.6615759196664038, 0.6468394342874003, 0.5918278652686592, 0.606967488488786]\n",
       " [0.631513669059027, 0.6629333587704179, 0.7286500524895402, 0.7063060674171958, 0.6599480624034437, 0.6746109330547925, 0.6761900912105778, 0.6875633052335944, 0.6383304586133121, 0.6879961015281115]\n",
       " [0.6472321291002473, 0.6869942571046, 0.6515709507302541, 0.6447006537898106, 0.56813624862419, 0.6206368928688325, 0.6279865634786249, 0.6773469642766925, 0.6125536043605267, 0.6228476277741877]\n",
       " [0.662882651086904, 0.6360869714170142, 0.6056510001533666, 0.659493193054975, 0.5908374137582104, 0.6246822065792097, 0.6721695665849358, 0.6493908983855715, 0.577034046718129, 0.6145498908087126]\n",
       " [0.6562794095810076, 0.6981234181732224, 0.6610866475955177, 0.619899271190437, 0.5791454820400271, 0.6256958856678159, 0.5898141728461093, 0.666200264911602, 0.608963115583925, 0.6143234006253652]\n",
       " [0.6144097493039529, 0.6618960055978432, 0.7391678490814577, 0.6639332985250109, 0.6398945612606898, 0.6232452262953898, 0.6458096243036443, 0.6913590236227641, 0.6349354624561012, 0.6845141416039974]\n",
       " [0.6367963071101562, 0.7131495502862978, 0.6396739869469892, 0.6069367083477665, 0.6257027565651462, 0.6087473286302553, 0.6322863816501607, 0.6411163408560953, 0.590561679882494, 0.6173521637597753]\n",
       " [0.6074482369828506, 0.7022369302420955, 0.6432991108522341, 0.63151244472548, 0.6337665710549638, 0.5603106825123858, 0.6414999852453283, 0.6197854126951738, 0.585334347037827, 0.6296943844424673]\n",
       " [0.6284158681477697, 0.7020212853215158, 0.6675281084760689, 0.6488691011571055, 0.5764836449454052, 0.5776481296551714, 0.6075292836310131, 0.6377913421204053, 0.5837893822595788, 0.6108465868741195]\n",
       " [0.5766320395736595, 0.6701604471526904, 0.6804749750604587, 0.6707170906896417, 0.6972086696679658, 0.6229729382185929, 0.6658707534957162, 0.6206717108147637, 0.616983477969573, 0.6706181741764851]"
      ]
     },
     "execution_count": 19,
     "metadata": {},
     "output_type": "execute_result"
    }
   ],
   "source": [
    "unique([collect(i.y) for i in non_dominated])"
   ]
  },
  {
   "cell_type": "markdown",
   "metadata": {
    "slideshow": {
     "slide_type": "slide"
    }
   },
   "source": [
    "Finally, we can compare this value to a value obtained by JuMP. Note that JuMP can only currently perform single objective optimization, so we need to solve the different objectives separately."
   ]
  },
  {
   "cell_type": "code",
   "execution_count": 28,
   "metadata": {
    "slideshow": {
     "slide_type": "fragment"
    }
   },
   "outputs": [
    {
     "name": "stdout",
     "output_type": "stream",
     "text": [
      "Objective 1: 0.7970053833675926\n",
      "Objective 2: 0.6265383774142604"
     ]
    },
    {
     "ename": "LoadError",
     "evalue": "UndefVarError: y not defined",
     "output_type": "error",
     "traceback": [
      "UndefVarError: y not defined",
      "",
      "Stacktrace:",
      " [1] top-level scope",
      "   @ In[28]:13",
      " [2] eval",
      "   @ ./boot.jl:373 [inlined]",
      " [3] include_string(mapexpr::typeof(REPL.softscope), mod::Module, code::String, filename::String)",
      "   @ Base ./loading.jl:1196"
     ]
    }
   ],
   "source": [
    "m = Model(GLPK.Optimizer)\n",
    "@variable(m, x[1:n], Bin)\n",
    "# Objective: maximize profit\n",
    "@objective(m, Max, dot(values[:, 1], x))\n",
    "# Constraint: can carry all\n",
    "@constraint(m, dot(weights, x) <= max_weight)\n",
    "# Solve problem using MIP solver\n",
    "optimize!(m)\n",
    "println(\"Objective 1: \", objective_value(m))\n",
    "print(\"Objective 2: \")\n",
    "o2 = sum([value(x[i])*values[i, 2] for i in 1:n])\n",
    "print(o2)"
   ]
  },
  {
   "cell_type": "markdown",
   "metadata": {
    "slideshow": {
     "slide_type": "slide"
    }
   },
   "source": [
    "<div class=\"alert alert-success\">\n",
    "    <b>Exercise 1</b>\n",
    "    <br/>\n",
    "    Increase the problem difficulty by increasing the number of items and reducing the weight limit. How does NSGA-II do?\n",
    "    <br/>\n",
    "</div>"
   ]
  },
  {
   "cell_type": "markdown",
   "metadata": {},
   "source": [
    "<div class=\"alert alert-success\">\n",
    "    <b>Exercise 2</b>\n",
    "    <br/>\n",
    "    Increase the number of objectives to 5. What do you observe about the solutions found by NSGA-II? How do they compare with the solutions found by JuMP?\n",
    "    <br/>\n",
    "</div>"
   ]
  },
  {
   "cell_type": "markdown",
   "metadata": {
    "slideshow": {
     "slide_type": "slide"
    }
   },
   "source": [
    "## <a id=\"visualization\"></a>Visualization"
   ]
  },
  {
   "cell_type": "markdown",
   "metadata": {
    "slideshow": {
     "slide_type": "fragment"
    }
   },
   "source": [
    "To better understand NSGA-II's evolution, let's observe the population over time."
   ]
  },
  {
   "cell_type": "code",
   "execution_count": 34,
   "metadata": {
    "slideshow": {
     "slide_type": "slide"
    }
   },
   "outputs": [
    {
     "data": {
      "image/svg+xml": "<?xml version=\"1.0\" encoding=\"utf-8\"?>\n<svg xmlns=\"http://www.w3.org/2000/svg\" xmlns:xlink=\"http://www.w3.org/1999/xlink\" width=\"600\" height=\"400\" viewBox=\"0 0 2400 1600\">\n<defs>\n  <clipPath id=\"clip760\">\n    <rect x=\"0\" y=\"0\" width=\"2400\" height=\"1600\"/>\n  </clipPath>\n</defs>\n<path clip-path=\"url(#clip760)\" d=\"\nM0 1600 L2400 1600 L2400 0 L0 0  Z\n  \" fill=\"#ffffff\" fill-rule=\"evenodd\" fill-opacity=\"1\"/>\n<defs>\n  <clipPath id=\"clip761\">\n    <rect x=\"480\" y=\"0\" width=\"1681\" height=\"1600\"/>\n  </clipPath>\n</defs>\n<defs>\n  <clipPath id=\"clip762\">\n    <rect x=\"216\" y=\"47\" width=\"2137\" height=\"1440\"/>\n  </clipPath>\n</defs>\n<path clip-path=\"url(#clip762)\" d=\"\nM216.436 1401.43 L216.436 302.298 L998.383 47.2441 L2352.76 132.262 L2352.76 1231.39 L1570.81 1486.45 L216.436 1401.43  Z\n  \" fill=\"#ffffff\" fill-rule=\"evenodd\" fill-opacity=\"1\"/>\n<polyline clip-path=\"url(#clip762)\" style=\"stroke:#000000; stroke-linecap:butt; stroke-linejoin:round; stroke-width:2; stroke-opacity:0.1; fill:none\" points=\"\n  216.436,1401.43 998.383,1146.38 \n  \"/>\n<polyline clip-path=\"url(#clip762)\" style=\"stroke:#000000; stroke-linecap:butt; stroke-linejoin:round; stroke-width:2; stroke-opacity:0.1; fill:none\" points=\"\n  998.383,1146.38 998.383,47.2441 \n  \"/>\n<polyline clip-path=\"url(#clip762)\" style=\"stroke:#000000; stroke-linecap:butt; stroke-linejoin:round; stroke-width:2; stroke-opacity:0.1; fill:none\" points=\"\n  487.31,1418.43 1269.26,1163.38 \n  \"/>\n<polyline clip-path=\"url(#clip762)\" style=\"stroke:#000000; stroke-linecap:butt; stroke-linejoin:round; stroke-width:2; stroke-opacity:0.1; fill:none\" points=\"\n  1269.26,1163.38 1269.26,64.2477 \n  \"/>\n<polyline clip-path=\"url(#clip762)\" style=\"stroke:#000000; stroke-linecap:butt; stroke-linejoin:round; stroke-width:2; stroke-opacity:0.1; fill:none\" points=\"\n  758.185,1435.44 1540.13,1180.38 \n  \"/>\n<polyline clip-path=\"url(#clip762)\" style=\"stroke:#000000; stroke-linecap:butt; stroke-linejoin:round; stroke-width:2; stroke-opacity:0.1; fill:none\" points=\"\n  1540.13,1180.38 1540.13,81.2513 \n  \"/>\n<polyline clip-path=\"url(#clip762)\" style=\"stroke:#000000; stroke-linecap:butt; stroke-linejoin:round; stroke-width:2; stroke-opacity:0.1; fill:none\" points=\"\n  1029.06,1452.44 1811.01,1197.39 \n  \"/>\n<polyline clip-path=\"url(#clip762)\" style=\"stroke:#000000; stroke-linecap:butt; stroke-linejoin:round; stroke-width:2; stroke-opacity:0.1; fill:none\" points=\"\n  1811.01,1197.39 1811.01,98.255 \n  \"/>\n<polyline clip-path=\"url(#clip762)\" style=\"stroke:#000000; stroke-linecap:butt; stroke-linejoin:round; stroke-width:2; stroke-opacity:0.1; fill:none\" points=\"\n  1299.93,1469.44 2081.88,1214.39 \n  \"/>\n<polyline clip-path=\"url(#clip762)\" style=\"stroke:#000000; stroke-linecap:butt; stroke-linejoin:round; stroke-width:2; stroke-opacity:0.1; fill:none\" points=\"\n  2081.88,1214.39 2081.88,115.259 \n  \"/>\n<polyline clip-path=\"url(#clip762)\" style=\"stroke:#000000; stroke-linecap:butt; stroke-linejoin:round; stroke-width:2; stroke-opacity:0.1; fill:none\" points=\"\n  1570.81,1486.45 2352.76,1231.39 \n  \"/>\n<polyline clip-path=\"url(#clip762)\" style=\"stroke:#000000; stroke-linecap:butt; stroke-linejoin:round; stroke-width:2; stroke-opacity:0.1; fill:none\" points=\"\n  2352.76,1231.39 2352.76,132.262 \n  \"/>\n<polyline clip-path=\"url(#clip760)\" style=\"stroke:#000000; stroke-linecap:butt; stroke-linejoin:round; stroke-width:4; stroke-opacity:1; fill:none\" points=\"\n  216.436,1401.43 1570.81,1486.45 \n  \"/>\n<polyline clip-path=\"url(#clip760)\" style=\"stroke:#000000; stroke-linecap:butt; stroke-linejoin:round; stroke-width:4; stroke-opacity:1; fill:none\" points=\"\n  216.436,1401.43 225.819,1398.37 \n  \"/>\n<polyline clip-path=\"url(#clip760)\" style=\"stroke:#000000; stroke-linecap:butt; stroke-linejoin:round; stroke-width:4; stroke-opacity:1; fill:none\" points=\"\n  487.31,1418.43 496.694,1415.37 \n  \"/>\n<polyline clip-path=\"url(#clip760)\" style=\"stroke:#000000; stroke-linecap:butt; stroke-linejoin:round; stroke-width:4; stroke-opacity:1; fill:none\" points=\"\n  758.185,1435.44 767.568,1432.38 \n  \"/>\n<polyline clip-path=\"url(#clip760)\" style=\"stroke:#000000; stroke-linecap:butt; stroke-linejoin:round; stroke-width:4; stroke-opacity:1; fill:none\" points=\"\n  1029.06,1452.44 1038.44,1449.38 \n  \"/>\n<polyline clip-path=\"url(#clip760)\" style=\"stroke:#000000; stroke-linecap:butt; stroke-linejoin:round; stroke-width:4; stroke-opacity:1; fill:none\" points=\"\n  1299.93,1469.44 1309.32,1466.38 \n  \"/>\n<polyline clip-path=\"url(#clip760)\" style=\"stroke:#000000; stroke-linecap:butt; stroke-linejoin:round; stroke-width:4; stroke-opacity:1; fill:none\" points=\"\n  1570.81,1486.45 1580.19,1483.39 \n  \"/>\n<path clip-path=\"url(#clip760)\" d=\"M157.456 1415.97 Q153.845 1415.97 152.016 1419.54 Q150.211 1423.08 150.211 1430.21 Q150.211 1437.31 152.016 1440.88 Q153.845 1444.42 157.456 1444.42 Q161.09 1444.42 162.896 1440.88 Q164.724 1437.31 164.724 1430.21 Q164.724 1423.08 162.896 1419.54 Q161.09 1415.97 157.456 1415.97 M157.456 1412.27 Q163.266 1412.27 166.322 1416.87 Q169.4 1421.46 169.4 1430.21 Q169.4 1438.93 166.322 1443.54 Q163.266 1448.12 157.456 1448.12 Q151.646 1448.12 148.567 1443.54 Q145.512 1438.93 145.512 1430.21 Q145.512 1421.46 148.567 1416.87 Q151.646 1412.27 157.456 1412.27 Z\" fill=\"#000000\" fill-rule=\"evenodd\" fill-opacity=\"1\" /><path clip-path=\"url(#clip760)\" d=\"M177.618 1441.57 L182.502 1441.57 L182.502 1447.45 L177.618 1447.45 L177.618 1441.57 Z\" fill=\"#000000\" fill-rule=\"evenodd\" fill-opacity=\"1\" /><path clip-path=\"url(#clip760)\" d=\"M202.687 1415.97 Q199.076 1415.97 197.247 1419.54 Q195.442 1423.08 195.442 1430.21 Q195.442 1437.31 197.247 1440.88 Q199.076 1444.42 202.687 1444.42 Q206.321 1444.42 208.127 1440.88 Q209.956 1437.31 209.956 1430.21 Q209.956 1423.08 208.127 1419.54 Q206.321 1415.97 202.687 1415.97 M202.687 1412.27 Q208.497 1412.27 211.553 1416.87 Q214.632 1421.46 214.632 1430.21 Q214.632 1438.93 211.553 1443.54 Q208.497 1448.12 202.687 1448.12 Q196.877 1448.12 193.798 1443.54 Q190.743 1438.93 190.743 1430.21 Q190.743 1421.46 193.798 1416.87 Q196.877 1412.27 202.687 1412.27 Z\" fill=\"#000000\" fill-rule=\"evenodd\" fill-opacity=\"1\" /><path clip-path=\"url(#clip760)\" d=\"M429.928 1432.98 Q426.317 1432.98 424.488 1436.54 Q422.682 1440.08 422.682 1447.21 Q422.682 1454.32 424.488 1457.88 Q426.317 1461.42 429.928 1461.42 Q433.562 1461.42 435.367 1457.88 Q437.196 1454.32 437.196 1447.21 Q437.196 1440.08 435.367 1436.54 Q433.562 1432.98 429.928 1432.98 M429.928 1429.27 Q435.738 1429.27 438.793 1433.88 Q441.872 1438.46 441.872 1447.21 Q441.872 1455.94 438.793 1460.54 Q435.738 1465.13 429.928 1465.13 Q424.118 1465.13 421.039 1460.54 Q417.983 1455.94 417.983 1447.21 Q417.983 1438.46 421.039 1433.88 Q424.118 1429.27 429.928 1429.27 Z\" fill=\"#000000\" fill-rule=\"evenodd\" fill-opacity=\"1\" /><path clip-path=\"url(#clip760)\" d=\"M450.09 1458.58 L454.974 1458.58 L454.974 1464.46 L450.09 1464.46 L450.09 1458.58 Z\" fill=\"#000000\" fill-rule=\"evenodd\" fill-opacity=\"1\" /><path clip-path=\"url(#clip760)\" d=\"M469.187 1460.52 L485.506 1460.52 L485.506 1464.46 L463.562 1464.46 L463.562 1460.52 Q466.224 1457.77 470.807 1453.14 Q475.414 1448.48 476.594 1447.14 Q478.839 1444.62 479.719 1442.88 Q480.622 1441.12 480.622 1439.43 Q480.622 1436.68 478.677 1434.94 Q476.756 1433.21 473.654 1433.21 Q471.455 1433.21 469.002 1433.97 Q466.571 1434.73 463.793 1436.29 L463.793 1431.56 Q466.617 1430.43 469.071 1429.85 Q471.525 1429.27 473.562 1429.27 Q478.932 1429.27 482.126 1431.96 Q485.321 1434.64 485.321 1439.13 Q485.321 1441.26 484.511 1443.18 Q483.724 1445.08 481.617 1447.67 Q481.039 1448.35 477.937 1451.56 Q474.835 1454.76 469.187 1460.52 Z\" fill=\"#000000\" fill-rule=\"evenodd\" fill-opacity=\"1\" /><path clip-path=\"url(#clip760)\" d=\"M698.719 1449.98 Q695.108 1449.98 693.279 1453.54 Q691.474 1457.09 691.474 1464.22 Q691.474 1471.32 693.279 1474.89 Q695.108 1478.43 698.719 1478.43 Q702.353 1478.43 704.159 1474.89 Q705.987 1471.32 705.987 1464.22 Q705.987 1457.09 704.159 1453.54 Q702.353 1449.98 698.719 1449.98 M698.719 1446.28 Q704.529 1446.28 707.585 1450.88 Q710.663 1455.47 710.663 1464.22 Q710.663 1472.94 707.585 1477.55 Q704.529 1482.13 698.719 1482.13 Q692.909 1482.13 689.83 1477.55 Q686.775 1472.94 686.775 1464.22 Q686.775 1455.47 689.83 1450.88 Q692.909 1446.28 698.719 1446.28 Z\" fill=\"#000000\" fill-rule=\"evenodd\" fill-opacity=\"1\" /><path clip-path=\"url(#clip760)\" d=\"M718.881 1475.58 L723.765 1475.58 L723.765 1481.46 L718.881 1481.46 L718.881 1475.58 Z\" fill=\"#000000\" fill-rule=\"evenodd\" fill-opacity=\"1\" /><path clip-path=\"url(#clip760)\" d=\"M746.797 1450.97 L734.992 1469.42 L746.797 1469.42 L746.797 1450.97 M745.57 1446.9 L751.45 1446.9 L751.45 1469.42 L756.381 1469.42 L756.381 1473.31 L751.45 1473.31 L751.45 1481.46 L746.797 1481.46 L746.797 1473.31 L731.196 1473.31 L731.196 1468.8 L745.57 1446.9 Z\" fill=\"#000000\" fill-rule=\"evenodd\" fill-opacity=\"1\" /><path clip-path=\"url(#clip760)\" d=\"M969.917 1466.98 Q966.306 1466.98 964.478 1470.55 Q962.672 1474.09 962.672 1481.22 Q962.672 1488.33 964.478 1491.89 Q966.306 1495.43 969.917 1495.43 Q973.552 1495.43 975.357 1491.89 Q977.186 1488.33 977.186 1481.22 Q977.186 1474.09 975.357 1470.55 Q973.552 1466.98 969.917 1466.98 M969.917 1463.28 Q975.728 1463.28 978.783 1467.89 Q981.862 1472.47 981.862 1481.22 Q981.862 1489.95 978.783 1494.55 Q975.728 1499.14 969.917 1499.14 Q964.107 1499.14 961.029 1494.55 Q957.973 1489.95 957.973 1481.22 Q957.973 1472.47 961.029 1467.89 Q964.107 1463.28 969.917 1463.28 Z\" fill=\"#000000\" fill-rule=\"evenodd\" fill-opacity=\"1\" /><path clip-path=\"url(#clip760)\" d=\"M990.079 1492.58 L994.964 1492.58 L994.964 1498.46 L990.079 1498.46 L990.079 1492.58 Z\" fill=\"#000000\" fill-rule=\"evenodd\" fill-opacity=\"1\" /><path clip-path=\"url(#clip760)\" d=\"M1015.73 1479.32 Q1012.58 1479.32 1010.73 1481.47 Q1008.9 1483.63 1008.9 1487.38 Q1008.9 1491.1 1010.73 1493.28 Q1012.58 1495.43 1015.73 1495.43 Q1018.88 1495.43 1020.7 1493.28 Q1022.56 1491.1 1022.56 1487.38 Q1022.56 1483.63 1020.7 1481.47 Q1018.88 1479.32 1015.73 1479.32 M1025.01 1464.67 L1025.01 1468.93 Q1023.25 1468.09 1021.44 1467.65 Q1019.66 1467.21 1017.9 1467.21 Q1013.27 1467.21 1010.82 1470.34 Q1008.39 1473.46 1008.04 1479.78 Q1009.41 1477.77 1011.47 1476.7 Q1013.53 1475.62 1016.01 1475.62 Q1021.21 1475.62 1024.22 1478.79 Q1027.26 1481.94 1027.26 1487.38 Q1027.26 1492.7 1024.11 1495.92 Q1020.96 1499.14 1015.73 1499.14 Q1009.73 1499.14 1006.56 1494.55 Q1003.39 1489.95 1003.39 1481.22 Q1003.39 1473.02 1007.28 1468.16 Q1011.17 1463.28 1017.72 1463.28 Q1019.48 1463.28 1021.26 1463.63 Q1023.07 1463.97 1025.01 1464.67 Z\" fill=\"#000000\" fill-rule=\"evenodd\" fill-opacity=\"1\" /><path clip-path=\"url(#clip760)\" d=\"M1241.05 1483.99 Q1237.44 1483.99 1235.61 1487.55 Q1233.8 1491.09 1233.8 1498.22 Q1233.8 1505.33 1235.61 1508.89 Q1237.44 1512.44 1241.05 1512.44 Q1244.68 1512.44 1246.49 1508.89 Q1248.32 1505.33 1248.32 1498.22 Q1248.32 1491.09 1246.49 1487.55 Q1244.68 1483.99 1241.05 1483.99 M1241.05 1480.28 Q1246.86 1480.28 1249.91 1484.89 Q1252.99 1489.47 1252.99 1498.22 Q1252.99 1506.95 1249.91 1511.56 Q1246.86 1516.14 1241.05 1516.14 Q1235.24 1516.14 1232.16 1511.56 Q1229.1 1506.95 1229.1 1498.22 Q1229.1 1489.47 1232.16 1484.89 Q1235.24 1480.28 1241.05 1480.28 Z\" fill=\"#000000\" fill-rule=\"evenodd\" fill-opacity=\"1\" /><path clip-path=\"url(#clip760)\" d=\"M1261.21 1509.59 L1266.09 1509.59 L1266.09 1515.47 L1261.21 1515.47 L1261.21 1509.59 Z\" fill=\"#000000\" fill-rule=\"evenodd\" fill-opacity=\"1\" /><path clip-path=\"url(#clip760)\" d=\"M1286.28 1499.06 Q1282.94 1499.06 1281.02 1500.84 Q1279.13 1502.62 1279.13 1505.75 Q1279.13 1508.87 1281.02 1510.65 Q1282.94 1512.44 1286.28 1512.44 Q1289.61 1512.44 1291.53 1510.65 Q1293.45 1508.85 1293.45 1505.75 Q1293.45 1502.62 1291.53 1500.84 Q1289.63 1499.06 1286.28 1499.06 M1281.6 1497.06 Q1278.59 1496.32 1276.9 1494.26 Q1275.24 1492.2 1275.24 1489.24 Q1275.24 1485.1 1278.18 1482.69 Q1281.14 1480.28 1286.28 1480.28 Q1291.44 1480.28 1294.38 1482.69 Q1297.32 1485.1 1297.32 1489.24 Q1297.32 1492.2 1295.63 1494.26 Q1293.96 1496.32 1290.98 1497.06 Q1294.36 1497.85 1296.23 1500.14 Q1298.13 1502.44 1298.13 1505.75 Q1298.13 1510.77 1295.05 1513.45 Q1292 1516.14 1286.28 1516.14 Q1280.56 1516.14 1277.48 1513.45 Q1274.43 1510.77 1274.43 1505.75 Q1274.43 1502.44 1276.32 1500.14 Q1278.22 1497.85 1281.6 1497.06 M1279.89 1489.68 Q1279.89 1492.37 1281.56 1493.87 Q1283.25 1495.38 1286.28 1495.38 Q1289.29 1495.38 1290.98 1493.87 Q1292.69 1492.37 1292.69 1489.68 Q1292.69 1487 1290.98 1485.49 Q1289.29 1483.99 1286.28 1483.99 Q1283.25 1483.99 1281.56 1485.49 Q1279.89 1487 1279.89 1489.68 Z\" fill=\"#000000\" fill-rule=\"evenodd\" fill-opacity=\"1\" /><path clip-path=\"url(#clip760)\" d=\"M1502.64 1528.54 L1510.28 1528.54 L1510.28 1502.17 L1501.97 1503.84 L1501.97 1499.58 L1510.23 1497.91 L1514.91 1497.91 L1514.91 1528.54 L1522.55 1528.54 L1522.55 1532.47 L1502.64 1532.47 L1502.64 1528.54 Z\" fill=\"#000000\" fill-rule=\"evenodd\" fill-opacity=\"1\" /><path clip-path=\"url(#clip760)\" d=\"M1531.99 1526.59 L1536.87 1526.59 L1536.87 1532.47 L1531.99 1532.47 L1531.99 1526.59 Z\" fill=\"#000000\" fill-rule=\"evenodd\" fill-opacity=\"1\" /><path clip-path=\"url(#clip760)\" d=\"M1557.06 1500.99 Q1553.45 1500.99 1551.62 1504.55 Q1549.81 1508.1 1549.81 1515.23 Q1549.81 1522.33 1551.62 1525.9 Q1553.45 1529.44 1557.06 1529.44 Q1560.69 1529.44 1562.5 1525.9 Q1564.33 1522.33 1564.33 1515.23 Q1564.33 1508.1 1562.5 1504.55 Q1560.69 1500.99 1557.06 1500.99 M1557.06 1497.29 Q1562.87 1497.29 1565.93 1501.89 Q1569 1506.48 1569 1515.23 Q1569 1523.95 1565.93 1528.56 Q1562.87 1533.14 1557.06 1533.14 Q1551.25 1533.14 1548.17 1528.56 Q1545.12 1523.95 1545.12 1515.23 Q1545.12 1506.48 1548.17 1501.89 Q1551.25 1497.29 1557.06 1497.29 Z\" fill=\"#000000\" fill-rule=\"evenodd\" fill-opacity=\"1\" /><polyline clip-path=\"url(#clip762)\" style=\"stroke:#000000; stroke-linecap:butt; stroke-linejoin:round; stroke-width:2; stroke-opacity:0.1; fill:none\" points=\"\n  1570.81,1486.45 216.436,1401.43 \n  \"/>\n<polyline clip-path=\"url(#clip762)\" style=\"stroke:#000000; stroke-linecap:butt; stroke-linejoin:round; stroke-width:2; stroke-opacity:0.1; fill:none\" points=\"\n  216.436,1401.43 216.436,302.298 \n  \"/>\n<polyline clip-path=\"url(#clip762)\" style=\"stroke:#000000; stroke-linecap:butt; stroke-linejoin:round; stroke-width:2; stroke-opacity:0.1; fill:none\" points=\"\n  1727.2,1435.44 372.825,1350.42 \n  \"/>\n<polyline clip-path=\"url(#clip762)\" style=\"stroke:#000000; stroke-linecap:butt; stroke-linejoin:round; stroke-width:2; stroke-opacity:0.1; fill:none\" points=\"\n  372.825,1350.42 372.825,251.288 \n  \"/>\n<polyline clip-path=\"url(#clip762)\" style=\"stroke:#000000; stroke-linecap:butt; stroke-linejoin:round; stroke-width:2; stroke-opacity:0.1; fill:none\" points=\"\n  1883.59,1384.43 529.215,1299.41 \n  \"/>\n<polyline clip-path=\"url(#clip762)\" style=\"stroke:#000000; stroke-linecap:butt; stroke-linejoin:round; stroke-width:2; stroke-opacity:0.1; fill:none\" points=\"\n  529.215,1299.41 529.215,200.277 \n  \"/>\n<polyline clip-path=\"url(#clip762)\" style=\"stroke:#000000; stroke-linecap:butt; stroke-linejoin:round; stroke-width:2; stroke-opacity:0.1; fill:none\" points=\"\n  2039.98,1333.42 685.604,1248.4 \n  \"/>\n<polyline clip-path=\"url(#clip762)\" style=\"stroke:#000000; stroke-linecap:butt; stroke-linejoin:round; stroke-width:2; stroke-opacity:0.1; fill:none\" points=\"\n  685.604,1248.4 685.604,149.266 \n  \"/>\n<polyline clip-path=\"url(#clip762)\" style=\"stroke:#000000; stroke-linecap:butt; stroke-linejoin:round; stroke-width:2; stroke-opacity:0.1; fill:none\" points=\"\n  2196.37,1282.4 841.994,1197.39 \n  \"/>\n<polyline clip-path=\"url(#clip762)\" style=\"stroke:#000000; stroke-linecap:butt; stroke-linejoin:round; stroke-width:2; stroke-opacity:0.1; fill:none\" points=\"\n  841.994,1197.39 841.994,98.255 \n  \"/>\n<polyline clip-path=\"url(#clip762)\" style=\"stroke:#000000; stroke-linecap:butt; stroke-linejoin:round; stroke-width:2; stroke-opacity:0.1; fill:none\" points=\"\n  2352.76,1231.39 998.383,1146.38 \n  \"/>\n<polyline clip-path=\"url(#clip762)\" style=\"stroke:#000000; stroke-linecap:butt; stroke-linejoin:round; stroke-width:2; stroke-opacity:0.1; fill:none\" points=\"\n  998.383,1146.38 998.383,47.2441 \n  \"/>\n<polyline clip-path=\"url(#clip760)\" style=\"stroke:#000000; stroke-linecap:butt; stroke-linejoin:round; stroke-width:4; stroke-opacity:1; fill:none\" points=\"\n  1570.81,1486.45 2352.76,1231.39 \n  \"/>\n<polyline clip-path=\"url(#clip760)\" style=\"stroke:#000000; stroke-linecap:butt; stroke-linejoin:round; stroke-width:4; stroke-opacity:1; fill:none\" points=\"\n  1570.81,1486.45 1554.56,1485.43 \n  \"/>\n<polyline clip-path=\"url(#clip760)\" style=\"stroke:#000000; stroke-linecap:butt; stroke-linejoin:round; stroke-width:4; stroke-opacity:1; fill:none\" points=\"\n  1727.2,1435.44 1710.95,1434.42 \n  \"/>\n<polyline clip-path=\"url(#clip760)\" style=\"stroke:#000000; stroke-linecap:butt; stroke-linejoin:round; stroke-width:4; stroke-opacity:1; fill:none\" points=\"\n  1883.59,1384.43 1867.33,1383.41 \n  \"/>\n<polyline clip-path=\"url(#clip760)\" style=\"stroke:#000000; stroke-linecap:butt; stroke-linejoin:round; stroke-width:4; stroke-opacity:1; fill:none\" points=\"\n  2039.98,1333.42 2023.72,1332.4 \n  \"/>\n<polyline clip-path=\"url(#clip760)\" style=\"stroke:#000000; stroke-linecap:butt; stroke-linejoin:round; stroke-width:4; stroke-opacity:1; fill:none\" points=\"\n  2196.37,1282.4 2180.11,1281.38 \n  \"/>\n<polyline clip-path=\"url(#clip760)\" style=\"stroke:#000000; stroke-linecap:butt; stroke-linejoin:round; stroke-width:4; stroke-opacity:1; fill:none\" points=\"\n  2352.76,1231.39 2336.5,1230.37 \n  \"/>\n<path clip-path=\"url(#clip760)\" d=\"M1591.68 1499.63 Q1588.07 1499.63 1586.24 1503.19 Q1584.44 1506.73 1584.44 1513.86 Q1584.44 1520.97 1586.24 1524.53 Q1588.07 1528.08 1591.68 1528.08 Q1595.32 1528.08 1597.12 1524.53 Q1598.95 1520.97 1598.95 1513.86 Q1598.95 1506.73 1597.12 1503.19 Q1595.32 1499.63 1591.68 1499.63 M1591.68 1495.92 Q1597.49 1495.92 1600.55 1500.53 Q1603.63 1505.11 1603.63 1513.86 Q1603.63 1522.59 1600.55 1527.2 Q1597.49 1531.78 1591.68 1531.78 Q1585.87 1531.78 1582.79 1527.2 Q1579.74 1522.59 1579.74 1513.86 Q1579.74 1505.11 1582.79 1500.53 Q1585.87 1495.92 1591.68 1495.92 Z\" fill=\"#000000\" fill-rule=\"evenodd\" fill-opacity=\"1\" /><path clip-path=\"url(#clip760)\" d=\"M1611.85 1525.23 L1616.73 1525.23 L1616.73 1531.11 L1611.85 1531.11 L1611.85 1525.23 Z\" fill=\"#000000\" fill-rule=\"evenodd\" fill-opacity=\"1\" /><path clip-path=\"url(#clip760)\" d=\"M1636.91 1499.63 Q1633.3 1499.63 1631.48 1503.19 Q1629.67 1506.73 1629.67 1513.86 Q1629.67 1520.97 1631.48 1524.53 Q1633.3 1528.08 1636.91 1528.08 Q1640.55 1528.08 1642.35 1524.53 Q1644.18 1520.97 1644.18 1513.86 Q1644.18 1506.73 1642.35 1503.19 Q1640.55 1499.63 1636.91 1499.63 M1636.91 1495.92 Q1642.73 1495.92 1645.78 1500.53 Q1648.86 1505.11 1648.86 1513.86 Q1648.86 1522.59 1645.78 1527.2 Q1642.73 1531.78 1636.91 1531.78 Q1631.1 1531.78 1628.03 1527.2 Q1624.97 1522.59 1624.97 1513.86 Q1624.97 1505.11 1628.03 1500.53 Q1631.1 1495.92 1636.91 1495.92 Z\" fill=\"#000000\" fill-rule=\"evenodd\" fill-opacity=\"1\" /><path clip-path=\"url(#clip760)\" d=\"M1748.07 1448.62 Q1744.46 1448.62 1742.63 1452.18 Q1740.83 1455.72 1740.83 1462.85 Q1740.83 1469.96 1742.63 1473.52 Q1744.46 1477.06 1748.07 1477.06 Q1751.71 1477.06 1753.51 1473.52 Q1755.34 1469.96 1755.34 1462.85 Q1755.34 1455.72 1753.51 1452.18 Q1751.71 1448.62 1748.07 1448.62 M1748.07 1444.91 Q1753.88 1444.91 1756.94 1449.52 Q1760.02 1454.1 1760.02 1462.85 Q1760.02 1471.58 1756.94 1476.19 Q1753.88 1480.77 1748.07 1480.77 Q1742.26 1480.77 1739.18 1476.19 Q1736.13 1471.58 1736.13 1462.85 Q1736.13 1454.1 1739.18 1449.52 Q1742.26 1444.91 1748.07 1444.91 Z\" fill=\"#000000\" fill-rule=\"evenodd\" fill-opacity=\"1\" /><path clip-path=\"url(#clip760)\" d=\"M1768.24 1474.22 L1773.12 1474.22 L1773.12 1480.1 L1768.24 1480.1 L1768.24 1474.22 Z\" fill=\"#000000\" fill-rule=\"evenodd\" fill-opacity=\"1\" /><path clip-path=\"url(#clip760)\" d=\"M1787.33 1476.16 L1803.65 1476.16 L1803.65 1480.1 L1781.71 1480.1 L1781.71 1476.16 Q1784.37 1473.41 1788.95 1468.78 Q1793.56 1464.13 1794.74 1462.78 Q1796.98 1460.26 1797.86 1458.52 Q1798.77 1456.76 1798.77 1455.07 Q1798.77 1452.32 1796.82 1450.58 Q1794.9 1448.85 1791.8 1448.85 Q1789.6 1448.85 1787.15 1449.61 Q1784.72 1450.38 1781.94 1451.93 L1781.94 1447.2 Q1784.76 1446.07 1787.22 1445.49 Q1789.67 1444.91 1791.71 1444.91 Q1797.08 1444.91 1800.27 1447.6 Q1803.47 1450.28 1803.47 1454.77 Q1803.47 1456.9 1802.66 1458.82 Q1801.87 1460.72 1799.76 1463.31 Q1799.18 1463.99 1796.08 1467.2 Q1792.98 1470.4 1787.33 1476.16 Z\" fill=\"#000000\" fill-rule=\"evenodd\" fill-opacity=\"1\" /><path clip-path=\"url(#clip760)\" d=\"M1904.46 1397.61 Q1900.85 1397.61 1899.02 1401.17 Q1897.22 1404.71 1897.22 1411.84 Q1897.22 1418.95 1899.02 1422.51 Q1900.85 1426.05 1904.46 1426.05 Q1908.1 1426.05 1909.9 1422.51 Q1911.73 1418.95 1911.73 1411.84 Q1911.73 1404.71 1909.9 1401.17 Q1908.1 1397.61 1904.46 1397.61 M1904.46 1393.9 Q1910.27 1393.9 1913.33 1398.51 Q1916.41 1403.09 1916.41 1411.84 Q1916.41 1420.57 1913.33 1425.17 Q1910.27 1429.76 1904.46 1429.76 Q1898.65 1429.76 1895.57 1425.17 Q1892.52 1420.57 1892.52 1411.84 Q1892.52 1403.09 1895.57 1398.51 Q1898.65 1393.9 1904.46 1393.9 Z\" fill=\"#000000\" fill-rule=\"evenodd\" fill-opacity=\"1\" /><path clip-path=\"url(#clip760)\" d=\"M1924.62 1423.21 L1929.51 1423.21 L1929.51 1429.09 L1924.62 1429.09 L1924.62 1423.21 Z\" fill=\"#000000\" fill-rule=\"evenodd\" fill-opacity=\"1\" /><path clip-path=\"url(#clip760)\" d=\"M1952.54 1398.6 L1940.74 1417.05 L1952.54 1417.05 L1952.54 1398.6 M1951.31 1394.53 L1957.19 1394.53 L1957.19 1417.05 L1962.12 1417.05 L1962.12 1420.94 L1957.19 1420.94 L1957.19 1429.09 L1952.54 1429.09 L1952.54 1420.94 L1936.94 1420.94 L1936.94 1416.42 L1951.31 1394.53 Z\" fill=\"#000000\" fill-rule=\"evenodd\" fill-opacity=\"1\" /><path clip-path=\"url(#clip760)\" d=\"M2060.85 1346.59 Q2057.24 1346.59 2055.41 1350.16 Q2053.61 1353.7 2053.61 1360.83 Q2053.61 1367.94 2055.41 1371.5 Q2057.24 1375.04 2060.85 1375.04 Q2064.49 1375.04 2066.29 1371.5 Q2068.12 1367.94 2068.12 1360.83 Q2068.12 1353.7 2066.29 1350.16 Q2064.49 1346.59 2060.85 1346.59 M2060.85 1342.89 Q2066.66 1342.89 2069.72 1347.5 Q2072.8 1352.08 2072.8 1360.83 Q2072.8 1369.56 2069.72 1374.16 Q2066.66 1378.75 2060.85 1378.75 Q2055.04 1378.75 2051.96 1374.16 Q2048.91 1369.56 2048.91 1360.83 Q2048.91 1352.08 2051.96 1347.5 Q2055.04 1342.89 2060.85 1342.89 Z\" fill=\"#000000\" fill-rule=\"evenodd\" fill-opacity=\"1\" /><path clip-path=\"url(#clip760)\" d=\"M2081.01 1372.2 L2085.9 1372.2 L2085.9 1378.08 L2081.01 1378.08 L2081.01 1372.2 Z\" fill=\"#000000\" fill-rule=\"evenodd\" fill-opacity=\"1\" /><path clip-path=\"url(#clip760)\" d=\"M2106.66 1358.93 Q2103.51 1358.93 2101.66 1361.08 Q2099.83 1363.24 2099.83 1366.99 Q2099.83 1370.71 2101.66 1372.89 Q2103.51 1375.04 2106.66 1375.04 Q2109.81 1375.04 2111.64 1372.89 Q2113.49 1370.71 2113.49 1366.99 Q2113.49 1363.24 2111.64 1361.08 Q2109.81 1358.93 2106.66 1358.93 M2115.94 1344.28 L2115.94 1348.54 Q2114.19 1347.71 2112.38 1347.27 Q2110.6 1346.83 2108.84 1346.83 Q2104.21 1346.83 2101.75 1349.95 Q2099.32 1353.08 2098.98 1359.4 Q2100.34 1357.38 2102.4 1356.32 Q2104.46 1355.23 2106.94 1355.23 Q2112.15 1355.23 2115.16 1358.4 Q2118.19 1361.55 2118.19 1366.99 Q2118.19 1372.31 2115.04 1375.53 Q2111.89 1378.75 2106.66 1378.75 Q2100.67 1378.75 2097.5 1374.16 Q2094.32 1369.56 2094.32 1360.83 Q2094.32 1352.64 2098.21 1347.77 Q2102.1 1342.89 2108.65 1342.89 Q2110.41 1342.89 2112.19 1343.24 Q2114 1343.59 2115.94 1344.28 Z\" fill=\"#000000\" fill-rule=\"evenodd\" fill-opacity=\"1\" /><path clip-path=\"url(#clip760)\" d=\"M2217.24 1295.58 Q2213.63 1295.58 2211.8 1299.15 Q2210 1302.69 2210 1309.82 Q2210 1316.93 2211.8 1320.49 Q2213.63 1324.03 2217.24 1324.03 Q2220.88 1324.03 2222.68 1320.49 Q2224.51 1316.93 2224.51 1309.82 Q2224.51 1302.69 2222.68 1299.15 Q2220.88 1295.58 2217.24 1295.58 M2217.24 1291.88 Q2223.05 1291.88 2226.11 1296.49 Q2229.19 1301.07 2229.19 1309.82 Q2229.19 1318.55 2226.11 1323.15 Q2223.05 1327.74 2217.24 1327.74 Q2211.43 1327.74 2208.35 1323.15 Q2205.3 1318.55 2205.3 1309.82 Q2205.3 1301.07 2208.35 1296.49 Q2211.43 1291.88 2217.24 1291.88 Z\" fill=\"#000000\" fill-rule=\"evenodd\" fill-opacity=\"1\" /><path clip-path=\"url(#clip760)\" d=\"M2237.4 1321.19 L2242.29 1321.19 L2242.29 1327.06 L2237.4 1327.06 L2237.4 1321.19 Z\" fill=\"#000000\" fill-rule=\"evenodd\" fill-opacity=\"1\" /><path clip-path=\"url(#clip760)\" d=\"M2262.47 1310.65 Q2259.14 1310.65 2257.22 1312.44 Q2255.32 1314.22 2255.32 1317.34 Q2255.32 1320.47 2257.22 1322.25 Q2259.14 1324.03 2262.47 1324.03 Q2265.81 1324.03 2267.73 1322.25 Q2269.65 1320.44 2269.65 1317.34 Q2269.65 1314.22 2267.73 1312.44 Q2265.83 1310.65 2262.47 1310.65 M2257.8 1308.66 Q2254.79 1307.92 2253.1 1305.86 Q2251.43 1303.8 2251.43 1300.84 Q2251.43 1296.69 2254.37 1294.29 Q2257.33 1291.88 2262.47 1291.88 Q2267.63 1291.88 2270.57 1294.29 Q2273.51 1296.69 2273.51 1300.84 Q2273.51 1303.8 2271.82 1305.86 Q2270.16 1307.92 2267.17 1308.66 Q2270.55 1309.45 2272.43 1311.74 Q2274.32 1314.03 2274.32 1317.34 Q2274.32 1322.37 2271.25 1325.05 Q2268.19 1327.74 2262.47 1327.74 Q2256.76 1327.74 2253.68 1325.05 Q2250.62 1322.37 2250.62 1317.34 Q2250.62 1314.03 2252.52 1311.74 Q2254.42 1309.45 2257.8 1308.66 M2256.08 1301.28 Q2256.08 1303.96 2257.75 1305.47 Q2259.44 1306.97 2262.47 1306.97 Q2265.48 1306.97 2267.17 1305.47 Q2268.88 1303.96 2268.88 1301.28 Q2268.88 1298.59 2267.17 1297.09 Q2265.48 1295.58 2262.47 1295.58 Q2259.44 1295.58 2257.75 1297.09 Q2256.08 1298.59 2256.08 1301.28 Z\" fill=\"#000000\" fill-rule=\"evenodd\" fill-opacity=\"1\" /><path clip-path=\"url(#clip760)\" d=\"M2362.36 1272.12 L2370 1272.12 L2370 1245.75 L2361.69 1247.42 L2361.69 1243.16 L2369.95 1241.49 L2374.63 1241.49 L2374.63 1272.12 L2382.27 1272.12 L2382.27 1276.05 L2362.36 1276.05 L2362.36 1272.12 Z\" fill=\"#000000\" fill-rule=\"evenodd\" fill-opacity=\"1\" /><path clip-path=\"url(#clip760)\" d=\"M2391.71 1270.17 L2396.59 1270.17 L2396.59 1276.05 L2391.71 1276.05 L2391.71 1270.17 Z\" fill=\"#000000\" fill-rule=\"evenodd\" fill-opacity=\"1\" /><path clip-path=\"url(#clip760)\" d=\"M2416.78 1244.57 Q2413.17 1244.57 2411.34 1248.14 Q2409.53 1251.68 2409.53 1258.81 Q2409.53 1265.92 2411.34 1269.48 Q2413.17 1273.02 2416.78 1273.02 Q2420.41 1273.02 2422.22 1269.48 Q2424.05 1265.92 2424.05 1258.81 Q2424.05 1251.68 2422.22 1248.14 Q2420.41 1244.57 2416.78 1244.57 M2416.78 1240.87 Q2422.59 1240.87 2425.64 1245.48 Q2428.72 1250.06 2428.72 1258.81 Q2428.72 1267.54 2425.64 1272.14 Q2422.59 1276.73 2416.78 1276.73 Q2410.97 1276.73 2407.89 1272.14 Q2404.83 1267.54 2404.83 1258.81 Q2404.83 1250.06 2407.89 1245.48 Q2410.97 1240.87 2416.78 1240.87 Z\" fill=\"#000000\" fill-rule=\"evenodd\" fill-opacity=\"1\" /><polyline clip-path=\"url(#clip762)\" style=\"stroke:#000000; stroke-linecap:butt; stroke-linejoin:round; stroke-width:2; stroke-opacity:0.1; fill:none\" points=\"\n  216.436,1273.01 998.383,1017.96 \n  \"/>\n<polyline clip-path=\"url(#clip762)\" style=\"stroke:#000000; stroke-linecap:butt; stroke-linejoin:round; stroke-width:2; stroke-opacity:0.1; fill:none\" points=\"\n  998.383,1017.96 2352.76,1102.98 \n  \"/>\n<polyline clip-path=\"url(#clip762)\" style=\"stroke:#000000; stroke-linecap:butt; stroke-linejoin:round; stroke-width:2; stroke-opacity:0.1; fill:none\" points=\"\n  216.436,1110.93 998.383,855.88 \n  \"/>\n<polyline clip-path=\"url(#clip762)\" style=\"stroke:#000000; stroke-linecap:butt; stroke-linejoin:round; stroke-width:2; stroke-opacity:0.1; fill:none\" points=\"\n  998.383,855.88 2352.76,940.898 \n  \"/>\n<polyline clip-path=\"url(#clip762)\" style=\"stroke:#000000; stroke-linecap:butt; stroke-linejoin:round; stroke-width:2; stroke-opacity:0.1; fill:none\" points=\"\n  216.436,948.855 998.383,693.801 \n  \"/>\n<polyline clip-path=\"url(#clip762)\" style=\"stroke:#000000; stroke-linecap:butt; stroke-linejoin:round; stroke-width:2; stroke-opacity:0.1; fill:none\" points=\"\n  998.383,693.801 2352.76,778.819 \n  \"/>\n<polyline clip-path=\"url(#clip762)\" style=\"stroke:#000000; stroke-linecap:butt; stroke-linejoin:round; stroke-width:2; stroke-opacity:0.1; fill:none\" points=\"\n  216.436,786.776 998.383,531.722 \n  \"/>\n<polyline clip-path=\"url(#clip762)\" style=\"stroke:#000000; stroke-linecap:butt; stroke-linejoin:round; stroke-width:2; stroke-opacity:0.1; fill:none\" points=\"\n  998.383,531.722 2352.76,616.74 \n  \"/>\n<polyline clip-path=\"url(#clip762)\" style=\"stroke:#000000; stroke-linecap:butt; stroke-linejoin:round; stroke-width:2; stroke-opacity:0.1; fill:none\" points=\"\n  216.436,624.697 998.383,369.642 \n  \"/>\n<polyline clip-path=\"url(#clip762)\" style=\"stroke:#000000; stroke-linecap:butt; stroke-linejoin:round; stroke-width:2; stroke-opacity:0.1; fill:none\" points=\"\n  998.383,369.642 2352.76,454.66 \n  \"/>\n<polyline clip-path=\"url(#clip762)\" style=\"stroke:#000000; stroke-linecap:butt; stroke-linejoin:round; stroke-width:2; stroke-opacity:0.1; fill:none\" points=\"\n  216.436,462.617 998.383,207.563 \n  \"/>\n<polyline clip-path=\"url(#clip762)\" style=\"stroke:#000000; stroke-linecap:butt; stroke-linejoin:round; stroke-width:2; stroke-opacity:0.1; fill:none\" points=\"\n  998.383,207.563 2352.76,292.581 \n  \"/>\n<polyline clip-path=\"url(#clip760)\" style=\"stroke:#000000; stroke-linecap:butt; stroke-linejoin:round; stroke-width:4; stroke-opacity:1; fill:none\" points=\"\n  216.436,1401.43 216.436,302.298 \n  \"/>\n<polyline clip-path=\"url(#clip760)\" style=\"stroke:#000000; stroke-linecap:butt; stroke-linejoin:round; stroke-width:4; stroke-opacity:1; fill:none\" points=\"\n  216.436,1273.01 225.819,1269.95 \n  \"/>\n<polyline clip-path=\"url(#clip760)\" style=\"stroke:#000000; stroke-linecap:butt; stroke-linejoin:round; stroke-width:4; stroke-opacity:1; fill:none\" points=\"\n  216.436,1110.93 225.819,1107.87 \n  \"/>\n<polyline clip-path=\"url(#clip760)\" style=\"stroke:#000000; stroke-linecap:butt; stroke-linejoin:round; stroke-width:4; stroke-opacity:1; fill:none\" points=\"\n  216.436,948.855 225.819,945.795 \n  \"/>\n<polyline clip-path=\"url(#clip760)\" style=\"stroke:#000000; stroke-linecap:butt; stroke-linejoin:round; stroke-width:4; stroke-opacity:1; fill:none\" points=\"\n  216.436,786.776 225.819,783.715 \n  \"/>\n<polyline clip-path=\"url(#clip760)\" style=\"stroke:#000000; stroke-linecap:butt; stroke-linejoin:round; stroke-width:4; stroke-opacity:1; fill:none\" points=\"\n  216.436,624.697 225.819,621.636 \n  \"/>\n<polyline clip-path=\"url(#clip760)\" style=\"stroke:#000000; stroke-linecap:butt; stroke-linejoin:round; stroke-width:4; stroke-opacity:1; fill:none\" points=\"\n  216.436,462.617 225.819,459.557 \n  \"/>\n<path clip-path=\"url(#clip760)\" d=\"M71.1319 1258.81 Q67.5208 1258.81 65.6921 1262.38 Q63.8865 1265.92 63.8865 1273.05 Q63.8865 1280.16 65.6921 1283.72 Q67.5208 1287.26 71.1319 1287.26 Q74.7661 1287.26 76.5717 1283.72 Q78.4004 1280.16 78.4004 1273.05 Q78.4004 1265.92 76.5717 1262.38 Q74.7661 1258.81 71.1319 1258.81 M71.1319 1255.11 Q76.942 1255.11 79.9976 1259.72 Q83.0763 1264.3 83.0763 1273.05 Q83.0763 1281.78 79.9976 1286.38 Q76.942 1290.97 71.1319 1290.97 Q65.3217 1290.97 62.243 1286.38 Q59.1875 1281.78 59.1875 1273.05 Q59.1875 1264.3 62.243 1259.72 Q65.3217 1255.11 71.1319 1255.11 Z\" fill=\"#000000\" fill-rule=\"evenodd\" fill-opacity=\"1\" /><path clip-path=\"url(#clip760)\" d=\"M91.2938 1284.41 L96.178 1284.41 L96.178 1290.29 L91.2938 1290.29 L91.2938 1284.41 Z\" fill=\"#000000\" fill-rule=\"evenodd\" fill-opacity=\"1\" /><path clip-path=\"url(#clip760)\" d=\"M106.409 1255.73 L124.766 1255.73 L124.766 1259.67 L110.692 1259.67 L110.692 1268.14 Q111.71 1267.79 112.729 1267.63 Q113.747 1267.45 114.766 1267.45 Q120.553 1267.45 123.933 1270.62 Q127.312 1273.79 127.312 1279.21 Q127.312 1284.78 123.84 1287.89 Q120.368 1290.97 114.048 1290.97 Q111.872 1290.97 109.604 1290.59 Q107.359 1290.22 104.951 1289.48 L104.951 1284.78 Q107.034 1285.92 109.257 1286.47 Q111.479 1287.03 113.956 1287.03 Q117.96 1287.03 120.298 1284.92 Q122.636 1282.82 122.636 1279.21 Q122.636 1275.6 120.298 1273.49 Q117.96 1271.38 113.956 1271.38 Q112.081 1271.38 110.206 1271.8 Q108.354 1272.22 106.409 1273.1 L106.409 1255.73 Z\" fill=\"#000000\" fill-rule=\"evenodd\" fill-opacity=\"1\" /><path clip-path=\"url(#clip760)\" d=\"M135.344 1255.73 L157.567 1255.73 L157.567 1257.72 L145.02 1290.29 L140.136 1290.29 L151.942 1259.67 L135.344 1259.67 L135.344 1255.73 Z\" fill=\"#000000\" fill-rule=\"evenodd\" fill-opacity=\"1\" /><path clip-path=\"url(#clip760)\" d=\"M166.733 1255.73 L185.09 1255.73 L185.09 1259.67 L171.016 1259.67 L171.016 1268.14 Q172.034 1267.79 173.053 1267.63 Q174.071 1267.45 175.09 1267.45 Q180.877 1267.45 184.256 1270.62 Q187.636 1273.79 187.636 1279.21 Q187.636 1284.78 184.164 1287.89 Q180.691 1290.97 174.372 1290.97 Q172.196 1290.97 169.928 1290.59 Q167.682 1290.22 165.275 1289.48 L165.275 1284.78 Q167.358 1285.92 169.58 1286.47 Q171.803 1287.03 174.279 1287.03 Q178.284 1287.03 180.622 1284.92 Q182.96 1282.82 182.96 1279.21 Q182.96 1275.6 180.622 1273.49 Q178.284 1271.38 174.279 1271.38 Q172.404 1271.38 170.529 1271.8 Q168.678 1272.22 166.733 1273.1 L166.733 1255.73 Z\" fill=\"#000000\" fill-rule=\"evenodd\" fill-opacity=\"1\" /><path clip-path=\"url(#clip760)\" d=\"M70.1365 1096.73 Q66.5254 1096.73 64.6967 1100.3 Q62.8912 1103.84 62.8912 1110.97 Q62.8912 1118.08 64.6967 1121.64 Q66.5254 1125.18 70.1365 1125.18 Q73.7707 1125.18 75.5763 1121.64 Q77.405 1118.08 77.405 1110.97 Q77.405 1103.84 75.5763 1100.3 Q73.7707 1096.73 70.1365 1096.73 M70.1365 1093.03 Q75.9467 1093.03 79.0022 1097.64 Q82.0809 1102.22 82.0809 1110.97 Q82.0809 1119.7 79.0022 1124.3 Q75.9467 1128.89 70.1365 1128.89 Q64.3264 1128.89 61.2477 1124.3 Q58.1921 1119.7 58.1921 1110.97 Q58.1921 1102.22 61.2477 1097.64 Q64.3264 1093.03 70.1365 1093.03 Z\" fill=\"#000000\" fill-rule=\"evenodd\" fill-opacity=\"1\" /><path clip-path=\"url(#clip760)\" d=\"M90.2984 1122.34 L95.1827 1122.34 L95.1827 1128.21 L90.2984 1128.21 L90.2984 1122.34 Z\" fill=\"#000000\" fill-rule=\"evenodd\" fill-opacity=\"1\" /><path clip-path=\"url(#clip760)\" d=\"M115.946 1109.07 Q112.798 1109.07 110.946 1111.22 Q109.118 1113.38 109.118 1117.13 Q109.118 1120.85 110.946 1123.03 Q112.798 1125.18 115.946 1125.18 Q119.095 1125.18 120.923 1123.03 Q122.775 1120.85 122.775 1117.13 Q122.775 1113.38 120.923 1111.22 Q119.095 1109.07 115.946 1109.07 M125.229 1094.42 L125.229 1098.68 Q123.47 1097.84 121.664 1097.4 Q119.882 1096.96 118.122 1096.96 Q113.493 1096.96 111.039 1100.09 Q108.609 1103.21 108.261 1109.53 Q109.627 1107.52 111.687 1106.46 Q113.747 1105.37 116.224 1105.37 Q121.433 1105.37 124.442 1108.54 Q127.474 1111.69 127.474 1117.13 Q127.474 1122.45 124.326 1125.67 Q121.178 1128.89 115.946 1128.89 Q109.951 1128.89 106.78 1124.3 Q103.609 1119.7 103.609 1110.97 Q103.609 1102.78 107.497 1097.91 Q111.386 1093.03 117.937 1093.03 Q119.696 1093.03 121.479 1093.38 Q123.284 1093.72 125.229 1094.42 Z\" fill=\"#000000\" fill-rule=\"evenodd\" fill-opacity=\"1\" /><path clip-path=\"url(#clip760)\" d=\"M145.53 1096.73 Q141.919 1096.73 140.09 1100.3 Q138.284 1103.84 138.284 1110.97 Q138.284 1118.08 140.09 1121.64 Q141.919 1125.18 145.53 1125.18 Q149.164 1125.18 150.969 1121.64 Q152.798 1118.08 152.798 1110.97 Q152.798 1103.84 150.969 1100.3 Q149.164 1096.73 145.53 1096.73 M145.53 1093.03 Q151.34 1093.03 154.395 1097.64 Q157.474 1102.22 157.474 1110.97 Q157.474 1119.7 154.395 1124.3 Q151.34 1128.89 145.53 1128.89 Q139.719 1128.89 136.641 1124.3 Q133.585 1119.7 133.585 1110.97 Q133.585 1102.22 136.641 1097.64 Q139.719 1093.03 145.53 1093.03 Z\" fill=\"#000000\" fill-rule=\"evenodd\" fill-opacity=\"1\" /><path clip-path=\"url(#clip760)\" d=\"M175.691 1096.73 Q172.08 1096.73 170.252 1100.3 Q168.446 1103.84 168.446 1110.97 Q168.446 1118.08 170.252 1121.64 Q172.08 1125.18 175.691 1125.18 Q179.326 1125.18 181.131 1121.64 Q182.96 1118.08 182.96 1110.97 Q182.96 1103.84 181.131 1100.3 Q179.326 1096.73 175.691 1096.73 M175.691 1093.03 Q181.502 1093.03 184.557 1097.64 Q187.636 1102.22 187.636 1110.97 Q187.636 1119.7 184.557 1124.3 Q181.502 1128.89 175.691 1128.89 Q169.881 1128.89 166.803 1124.3 Q163.747 1119.7 163.747 1110.97 Q163.747 1102.22 166.803 1097.64 Q169.881 1093.03 175.691 1093.03 Z\" fill=\"#000000\" fill-rule=\"evenodd\" fill-opacity=\"1\" /><path clip-path=\"url(#clip760)\" d=\"M71.1319 934.654 Q67.5208 934.654 65.6921 938.219 Q63.8865 941.76 63.8865 948.89 Q63.8865 955.997 65.6921 959.561 Q67.5208 963.103 71.1319 963.103 Q74.7661 963.103 76.5717 959.561 Q78.4004 955.997 78.4004 948.89 Q78.4004 941.76 76.5717 938.219 Q74.7661 934.654 71.1319 934.654 M71.1319 930.95 Q76.942 930.95 79.9976 935.557 Q83.0763 940.14 83.0763 948.89 Q83.0763 957.617 79.9976 962.223 Q76.942 966.807 71.1319 966.807 Q65.3217 966.807 62.243 962.223 Q59.1875 957.617 59.1875 948.89 Q59.1875 940.14 62.243 935.557 Q65.3217 930.95 71.1319 930.95 Z\" fill=\"#000000\" fill-rule=\"evenodd\" fill-opacity=\"1\" /><path clip-path=\"url(#clip760)\" d=\"M91.2938 960.256 L96.178 960.256 L96.178 966.135 L91.2938 966.135 L91.2938 960.256 Z\" fill=\"#000000\" fill-rule=\"evenodd\" fill-opacity=\"1\" /><path clip-path=\"url(#clip760)\" d=\"M116.942 946.992 Q113.794 946.992 111.942 949.145 Q110.113 951.297 110.113 955.047 Q110.113 958.774 111.942 960.95 Q113.794 963.103 116.942 963.103 Q120.09 963.103 121.919 960.95 Q123.77 958.774 123.77 955.047 Q123.77 951.297 121.919 949.145 Q120.09 946.992 116.942 946.992 M126.224 932.339 L126.224 936.598 Q124.465 935.765 122.659 935.325 Q120.877 934.886 119.118 934.886 Q114.488 934.886 112.034 938.01 Q109.604 941.135 109.257 947.455 Q110.622 945.441 112.683 944.376 Q114.743 943.288 117.22 943.288 Q122.428 943.288 125.437 946.46 Q128.47 949.608 128.47 955.047 Q128.47 960.371 125.321 963.589 Q122.173 966.807 116.942 966.807 Q110.946 966.807 107.775 962.223 Q104.604 957.617 104.604 948.89 Q104.604 940.696 108.493 935.835 Q112.382 930.95 118.933 930.95 Q120.692 930.95 122.474 931.298 Q124.28 931.645 126.224 932.339 Z\" fill=\"#000000\" fill-rule=\"evenodd\" fill-opacity=\"1\" /><path clip-path=\"url(#clip760)\" d=\"M140.553 962.2 L156.872 962.2 L156.872 966.135 L134.928 966.135 L134.928 962.2 Q137.59 959.446 142.173 954.816 Q146.78 950.163 147.96 948.821 Q150.206 946.297 151.085 944.561 Q151.988 942.802 151.988 941.112 Q151.988 938.358 150.043 936.622 Q148.122 934.886 145.02 934.886 Q142.821 934.886 140.368 935.649 Q137.937 936.413 135.159 937.964 L135.159 933.242 Q137.983 932.108 140.437 931.529 Q142.891 930.95 144.928 930.95 Q150.298 930.95 153.493 933.636 Q156.687 936.321 156.687 940.811 Q156.687 942.941 155.877 944.862 Q155.09 946.76 152.983 949.353 Q152.405 950.024 149.303 953.242 Q146.201 956.436 140.553 962.2 Z\" fill=\"#000000\" fill-rule=\"evenodd\" fill-opacity=\"1\" /><path clip-path=\"url(#clip760)\" d=\"M166.733 931.575 L185.09 931.575 L185.09 935.511 L171.016 935.511 L171.016 943.983 Q172.034 943.635 173.053 943.473 Q174.071 943.288 175.09 943.288 Q180.877 943.288 184.256 946.46 Q187.636 949.631 187.636 955.047 Q187.636 960.626 184.164 963.728 Q180.691 966.807 174.372 966.807 Q172.196 966.807 169.928 966.436 Q167.682 966.066 165.275 965.325 L165.275 960.626 Q167.358 961.76 169.58 962.316 Q171.803 962.871 174.279 962.871 Q178.284 962.871 180.622 960.765 Q182.96 958.659 182.96 955.047 Q182.96 951.436 180.622 949.33 Q178.284 947.223 174.279 947.223 Q172.404 947.223 170.529 947.64 Q168.678 948.057 166.733 948.936 L166.733 931.575 Z\" fill=\"#000000\" fill-rule=\"evenodd\" fill-opacity=\"1\" /><path clip-path=\"url(#clip760)\" d=\"M70.1365 772.575 Q66.5254 772.575 64.6967 776.139 Q62.8912 779.681 62.8912 786.811 Q62.8912 793.917 64.6967 797.482 Q66.5254 801.024 70.1365 801.024 Q73.7707 801.024 75.5763 797.482 Q77.405 793.917 77.405 786.811 Q77.405 779.681 75.5763 776.139 Q73.7707 772.575 70.1365 772.575 M70.1365 768.871 Q75.9467 768.871 79.0022 773.477 Q82.0809 778.061 82.0809 786.811 Q82.0809 795.538 79.0022 800.144 Q75.9467 804.727 70.1365 804.727 Q64.3264 804.727 61.2477 800.144 Q58.1921 795.538 58.1921 786.811 Q58.1921 778.061 61.2477 773.477 Q64.3264 768.871 70.1365 768.871 Z\" fill=\"#000000\" fill-rule=\"evenodd\" fill-opacity=\"1\" /><path clip-path=\"url(#clip760)\" d=\"M90.2984 798.176 L95.1827 798.176 L95.1827 804.056 L90.2984 804.056 L90.2984 798.176 Z\" fill=\"#000000\" fill-rule=\"evenodd\" fill-opacity=\"1\" /><path clip-path=\"url(#clip760)\" d=\"M115.946 784.913 Q112.798 784.913 110.946 787.065 Q109.118 789.218 109.118 792.968 Q109.118 796.695 110.946 798.871 Q112.798 801.024 115.946 801.024 Q119.095 801.024 120.923 798.871 Q122.775 796.695 122.775 792.968 Q122.775 789.218 120.923 787.065 Q119.095 784.913 115.946 784.913 M125.229 770.26 L125.229 774.519 Q123.47 773.686 121.664 773.246 Q119.882 772.806 118.122 772.806 Q113.493 772.806 111.039 775.931 Q108.609 779.056 108.261 785.376 Q109.627 783.362 111.687 782.297 Q113.747 781.209 116.224 781.209 Q121.433 781.209 124.442 784.38 Q127.474 787.528 127.474 792.968 Q127.474 798.292 124.326 801.51 Q121.178 804.727 115.946 804.727 Q109.951 804.727 106.78 800.144 Q103.609 795.538 103.609 786.811 Q103.609 778.616 107.497 773.755 Q111.386 768.871 117.937 768.871 Q119.696 768.871 121.479 769.218 Q123.284 769.565 125.229 770.26 Z\" fill=\"#000000\" fill-rule=\"evenodd\" fill-opacity=\"1\" /><path clip-path=\"url(#clip760)\" d=\"M135.576 769.496 L153.932 769.496 L153.932 773.431 L139.858 773.431 L139.858 781.903 Q140.877 781.556 141.895 781.394 Q142.914 781.209 143.932 781.209 Q149.719 781.209 153.099 784.38 Q156.479 787.551 156.479 792.968 Q156.479 798.547 153.006 801.649 Q149.534 804.727 143.215 804.727 Q141.039 804.727 138.77 804.357 Q136.525 803.987 134.118 803.246 L134.118 798.547 Q136.201 799.681 138.423 800.237 Q140.645 800.792 143.122 800.792 Q147.127 800.792 149.465 798.686 Q151.803 796.579 151.803 792.968 Q151.803 789.357 149.465 787.251 Q147.127 785.144 143.122 785.144 Q141.247 785.144 139.372 785.561 Q137.52 785.977 135.576 786.857 L135.576 769.496 Z\" fill=\"#000000\" fill-rule=\"evenodd\" fill-opacity=\"1\" /><path clip-path=\"url(#clip760)\" d=\"M175.691 772.575 Q172.08 772.575 170.252 776.139 Q168.446 779.681 168.446 786.811 Q168.446 793.917 170.252 797.482 Q172.08 801.024 175.691 801.024 Q179.326 801.024 181.131 797.482 Q182.96 793.917 182.96 786.811 Q182.96 779.681 181.131 776.139 Q179.326 772.575 175.691 772.575 M175.691 768.871 Q181.502 768.871 184.557 773.477 Q187.636 778.061 187.636 786.811 Q187.636 795.538 184.557 800.144 Q181.502 804.727 175.691 804.727 Q169.881 804.727 166.803 800.144 Q163.747 795.538 163.747 786.811 Q163.747 778.061 166.803 773.477 Q169.881 768.871 175.691 768.871 Z\" fill=\"#000000\" fill-rule=\"evenodd\" fill-opacity=\"1\" /><path clip-path=\"url(#clip760)\" d=\"M71.1319 610.495 Q67.5208 610.495 65.6921 614.06 Q63.8865 617.602 63.8865 624.731 Q63.8865 631.838 65.6921 635.403 Q67.5208 638.944 71.1319 638.944 Q74.7661 638.944 76.5717 635.403 Q78.4004 631.838 78.4004 624.731 Q78.4004 617.602 76.5717 614.06 Q74.7661 610.495 71.1319 610.495 M71.1319 606.792 Q76.942 606.792 79.9976 611.398 Q83.0763 615.981 83.0763 624.731 Q83.0763 633.458 79.9976 638.065 Q76.942 642.648 71.1319 642.648 Q65.3217 642.648 62.243 638.065 Q59.1875 633.458 59.1875 624.731 Q59.1875 615.981 62.243 611.398 Q65.3217 606.792 71.1319 606.792 Z\" fill=\"#000000\" fill-rule=\"evenodd\" fill-opacity=\"1\" /><path clip-path=\"url(#clip760)\" d=\"M91.2938 636.097 L96.178 636.097 L96.178 641.977 L91.2938 641.977 L91.2938 636.097 Z\" fill=\"#000000\" fill-rule=\"evenodd\" fill-opacity=\"1\" /><path clip-path=\"url(#clip760)\" d=\"M116.942 622.833 Q113.794 622.833 111.942 624.986 Q110.113 627.139 110.113 630.889 Q110.113 634.616 111.942 636.791 Q113.794 638.944 116.942 638.944 Q120.09 638.944 121.919 636.791 Q123.77 634.616 123.77 630.889 Q123.77 627.139 121.919 624.986 Q120.09 622.833 116.942 622.833 M126.224 608.181 L126.224 612.44 Q124.465 611.606 122.659 611.167 Q120.877 610.727 119.118 610.727 Q114.488 610.727 112.034 613.852 Q109.604 616.977 109.257 623.296 Q110.622 621.282 112.683 620.217 Q114.743 619.13 117.22 619.13 Q122.428 619.13 125.437 622.301 Q128.47 625.449 128.47 630.889 Q128.47 636.213 125.321 639.43 Q122.173 642.648 116.942 642.648 Q110.946 642.648 107.775 638.065 Q104.604 633.458 104.604 624.731 Q104.604 616.537 108.493 611.676 Q112.382 606.792 118.933 606.792 Q120.692 606.792 122.474 607.139 Q124.28 607.486 126.224 608.181 Z\" fill=\"#000000\" fill-rule=\"evenodd\" fill-opacity=\"1\" /><path clip-path=\"url(#clip760)\" d=\"M135.344 607.417 L157.567 607.417 L157.567 609.407 L145.02 641.977 L140.136 641.977 L151.942 611.352 L135.344 611.352 L135.344 607.417 Z\" fill=\"#000000\" fill-rule=\"evenodd\" fill-opacity=\"1\" /><path clip-path=\"url(#clip760)\" d=\"M166.733 607.417 L185.09 607.417 L185.09 611.352 L171.016 611.352 L171.016 619.824 Q172.034 619.477 173.053 619.315 Q174.071 619.13 175.09 619.13 Q180.877 619.13 184.256 622.301 Q187.636 625.472 187.636 630.889 Q187.636 636.467 184.164 639.569 Q180.691 642.648 174.372 642.648 Q172.196 642.648 169.928 642.278 Q167.682 641.907 165.275 641.166 L165.275 636.467 Q167.358 637.602 169.58 638.157 Q171.803 638.713 174.279 638.713 Q178.284 638.713 180.622 636.606 Q182.96 634.5 182.96 630.889 Q182.96 627.278 180.622 625.171 Q178.284 623.065 174.279 623.065 Q172.404 623.065 170.529 623.481 Q168.678 623.898 166.733 624.778 L166.733 607.417 Z\" fill=\"#000000\" fill-rule=\"evenodd\" fill-opacity=\"1\" /><path clip-path=\"url(#clip760)\" d=\"M70.1365 448.416 Q66.5254 448.416 64.6967 451.981 Q62.8912 455.522 62.8912 462.652 Q62.8912 469.758 64.6967 473.323 Q66.5254 476.865 70.1365 476.865 Q73.7707 476.865 75.5763 473.323 Q77.405 469.758 77.405 462.652 Q77.405 455.522 75.5763 451.981 Q73.7707 448.416 70.1365 448.416 M70.1365 444.712 Q75.9467 444.712 79.0022 449.319 Q82.0809 453.902 82.0809 462.652 Q82.0809 471.379 79.0022 475.985 Q75.9467 480.569 70.1365 480.569 Q64.3264 480.569 61.2477 475.985 Q58.1921 471.379 58.1921 462.652 Q58.1921 453.902 61.2477 449.319 Q64.3264 444.712 70.1365 444.712 Z\" fill=\"#000000\" fill-rule=\"evenodd\" fill-opacity=\"1\" /><path clip-path=\"url(#clip760)\" d=\"M90.2984 474.018 L95.1827 474.018 L95.1827 479.897 L90.2984 479.897 L90.2984 474.018 Z\" fill=\"#000000\" fill-rule=\"evenodd\" fill-opacity=\"1\" /><path clip-path=\"url(#clip760)\" d=\"M104.187 445.337 L126.409 445.337 L126.409 447.328 L113.863 479.897 L108.979 479.897 L120.784 449.272 L104.187 449.272 L104.187 445.337 Z\" fill=\"#000000\" fill-rule=\"evenodd\" fill-opacity=\"1\" /><path clip-path=\"url(#clip760)\" d=\"M145.53 448.416 Q141.919 448.416 140.09 451.981 Q138.284 455.522 138.284 462.652 Q138.284 469.758 140.09 473.323 Q141.919 476.865 145.53 476.865 Q149.164 476.865 150.969 473.323 Q152.798 469.758 152.798 462.652 Q152.798 455.522 150.969 451.981 Q149.164 448.416 145.53 448.416 M145.53 444.712 Q151.34 444.712 154.395 449.319 Q157.474 453.902 157.474 462.652 Q157.474 471.379 154.395 475.985 Q151.34 480.569 145.53 480.569 Q139.719 480.569 136.641 475.985 Q133.585 471.379 133.585 462.652 Q133.585 453.902 136.641 449.319 Q139.719 444.712 145.53 444.712 Z\" fill=\"#000000\" fill-rule=\"evenodd\" fill-opacity=\"1\" /><path clip-path=\"url(#clip760)\" d=\"M175.691 448.416 Q172.08 448.416 170.252 451.981 Q168.446 455.522 168.446 462.652 Q168.446 469.758 170.252 473.323 Q172.08 476.865 175.691 476.865 Q179.326 476.865 181.131 473.323 Q182.96 469.758 182.96 462.652 Q182.96 455.522 181.131 451.981 Q179.326 448.416 175.691 448.416 M175.691 444.712 Q181.502 444.712 184.557 449.319 Q187.636 453.902 187.636 462.652 Q187.636 471.379 184.557 475.985 Q181.502 480.569 175.691 480.569 Q169.881 480.569 166.803 475.985 Q163.747 471.379 163.747 462.652 Q163.747 453.902 166.803 449.319 Q169.881 444.712 175.691 444.712 Z\" fill=\"#000000\" fill-rule=\"evenodd\" fill-opacity=\"1\" /><circle clip-path=\"url(#clip762)\" cx=\"1447.73\" cy=\"565.991\" r=\"14\" fill=\"#009af9\" fill-rule=\"evenodd\" fill-opacity=\"1\" stroke=\"#000000\" stroke-opacity=\"1\" stroke-width=\"3.2\"/>\n<circle clip-path=\"url(#clip762)\" cx=\"1532.43\" cy=\"1015.09\" r=\"14\" fill=\"#009af9\" fill-rule=\"evenodd\" fill-opacity=\"1\" stroke=\"#000000\" stroke-opacity=\"1\" stroke-width=\"3.2\"/>\n<circle clip-path=\"url(#clip762)\" cx=\"1596.55\" cy=\"564.547\" r=\"14\" fill=\"#009af9\" fill-rule=\"evenodd\" fill-opacity=\"1\" stroke=\"#000000\" stroke-opacity=\"1\" stroke-width=\"3.2\"/>\n<circle clip-path=\"url(#clip762)\" cx=\"1539.16\" cy=\"865.762\" r=\"14\" fill=\"#009af9\" fill-rule=\"evenodd\" fill-opacity=\"1\" stroke=\"#000000\" stroke-opacity=\"1\" stroke-width=\"3.2\"/>\n<circle clip-path=\"url(#clip762)\" cx=\"1489.52\" cy=\"912.007\" r=\"14\" fill=\"#009af9\" fill-rule=\"evenodd\" fill-opacity=\"1\" stroke=\"#000000\" stroke-opacity=\"1\" stroke-width=\"3.2\"/>\n<circle clip-path=\"url(#clip762)\" cx=\"1539.2\" cy=\"226.843\" r=\"14\" fill=\"#009af9\" fill-rule=\"evenodd\" fill-opacity=\"1\" stroke=\"#000000\" stroke-opacity=\"1\" stroke-width=\"3.2\"/>\n<circle clip-path=\"url(#clip762)\" cx=\"1522.9\" cy=\"574.085\" r=\"14\" fill=\"#009af9\" fill-rule=\"evenodd\" fill-opacity=\"1\" stroke=\"#000000\" stroke-opacity=\"1\" stroke-width=\"3.2\"/>\n<circle clip-path=\"url(#clip762)\" cx=\"1600.64\" cy=\"520.247\" r=\"14\" fill=\"#009af9\" fill-rule=\"evenodd\" fill-opacity=\"1\" stroke=\"#000000\" stroke-opacity=\"1\" stroke-width=\"3.2\"/>\n<circle clip-path=\"url(#clip762)\" cx=\"1515.43\" cy=\"297.697\" r=\"14\" fill=\"#009af9\" fill-rule=\"evenodd\" fill-opacity=\"1\" stroke=\"#000000\" stroke-opacity=\"1\" stroke-width=\"3.2\"/>\n<circle clip-path=\"url(#clip762)\" cx=\"1461.49\" cy=\"593.597\" r=\"14\" fill=\"#009af9\" fill-rule=\"evenodd\" fill-opacity=\"1\" stroke=\"#000000\" stroke-opacity=\"1\" stroke-width=\"3.2\"/>\n<circle clip-path=\"url(#clip762)\" cx=\"1622.57\" cy=\"464.191\" r=\"14\" fill=\"#009af9\" fill-rule=\"evenodd\" fill-opacity=\"1\" stroke=\"#000000\" stroke-opacity=\"1\" stroke-width=\"3.2\"/>\n<circle clip-path=\"url(#clip762)\" cx=\"1520.53\" cy=\"724.73\" r=\"14\" fill=\"#009af9\" fill-rule=\"evenodd\" fill-opacity=\"1\" stroke=\"#000000\" stroke-opacity=\"1\" stroke-width=\"3.2\"/>\n<circle clip-path=\"url(#clip762)\" cx=\"1501.74\" cy=\"645.193\" r=\"14\" fill=\"#009af9\" fill-rule=\"evenodd\" fill-opacity=\"1\" stroke=\"#000000\" stroke-opacity=\"1\" stroke-width=\"3.2\"/>\n<circle clip-path=\"url(#clip762)\" cx=\"1562.69\" cy=\"806.233\" r=\"14\" fill=\"#009af9\" fill-rule=\"evenodd\" fill-opacity=\"1\" stroke=\"#000000\" stroke-opacity=\"1\" stroke-width=\"3.2\"/>\n<circle clip-path=\"url(#clip762)\" cx=\"1534.2\" cy=\"664.104\" r=\"14\" fill=\"#009af9\" fill-rule=\"evenodd\" fill-opacity=\"1\" stroke=\"#000000\" stroke-opacity=\"1\" stroke-width=\"3.2\"/>\n<circle clip-path=\"url(#clip762)\" cx=\"1596.34\" cy=\"571.325\" r=\"14\" fill=\"#009af9\" fill-rule=\"evenodd\" fill-opacity=\"1\" stroke=\"#000000\" stroke-opacity=\"1\" stroke-width=\"3.2\"/>\n<circle clip-path=\"url(#clip762)\" cx=\"1607.7\" cy=\"564.336\" r=\"14\" fill=\"#009af9\" fill-rule=\"evenodd\" fill-opacity=\"1\" stroke=\"#000000\" stroke-opacity=\"1\" stroke-width=\"3.2\"/>\n<circle clip-path=\"url(#clip762)\" cx=\"1497.27\" cy=\"914.659\" r=\"14\" fill=\"#009af9\" fill-rule=\"evenodd\" fill-opacity=\"1\" stroke=\"#000000\" stroke-opacity=\"1\" stroke-width=\"3.2\"/>\n<circle clip-path=\"url(#clip762)\" cx=\"1543.06\" cy=\"938.265\" r=\"14\" fill=\"#009af9\" fill-rule=\"evenodd\" fill-opacity=\"1\" stroke=\"#000000\" stroke-opacity=\"1\" stroke-width=\"3.2\"/>\n<circle clip-path=\"url(#clip762)\" cx=\"1574.44\" cy=\"471.117\" r=\"14\" fill=\"#009af9\" fill-rule=\"evenodd\" fill-opacity=\"1\" stroke=\"#000000\" stroke-opacity=\"1\" stroke-width=\"3.2\"/>\n<circle clip-path=\"url(#clip762)\" cx=\"1507.21\" cy=\"651.516\" r=\"14\" fill=\"#009af9\" fill-rule=\"evenodd\" fill-opacity=\"1\" stroke=\"#000000\" stroke-opacity=\"1\" stroke-width=\"3.2\"/>\n<circle clip-path=\"url(#clip762)\" cx=\"1523.5\" cy=\"267.381\" r=\"14\" fill=\"#009af9\" fill-rule=\"evenodd\" fill-opacity=\"1\" stroke=\"#000000\" stroke-opacity=\"1\" stroke-width=\"3.2\"/>\n<circle clip-path=\"url(#clip762)\" cx=\"1582.34\" cy=\"629.454\" r=\"14\" fill=\"#009af9\" fill-rule=\"evenodd\" fill-opacity=\"1\" stroke=\"#000000\" stroke-opacity=\"1\" stroke-width=\"3.2\"/>\n<circle clip-path=\"url(#clip762)\" cx=\"1598.49\" cy=\"661.347\" r=\"14\" fill=\"#009af9\" fill-rule=\"evenodd\" fill-opacity=\"1\" stroke=\"#000000\" stroke-opacity=\"1\" stroke-width=\"3.2\"/>\n<circle clip-path=\"url(#clip762)\" cx=\"1597.85\" cy=\"440.962\" r=\"14\" fill=\"#009af9\" fill-rule=\"evenodd\" fill-opacity=\"1\" stroke=\"#000000\" stroke-opacity=\"1\" stroke-width=\"3.2\"/>\n<circle clip-path=\"url(#clip762)\" cx=\"1520.74\" cy=\"459.35\" r=\"14\" fill=\"#009af9\" fill-rule=\"evenodd\" fill-opacity=\"1\" stroke=\"#000000\" stroke-opacity=\"1\" stroke-width=\"3.2\"/>\n<circle clip-path=\"url(#clip762)\" cx=\"1515.07\" cy=\"761.55\" r=\"14\" fill=\"#009af9\" fill-rule=\"evenodd\" fill-opacity=\"1\" stroke=\"#000000\" stroke-opacity=\"1\" stroke-width=\"3.2\"/>\n<circle clip-path=\"url(#clip762)\" cx=\"1603.21\" cy=\"445.603\" r=\"14\" fill=\"#009af9\" fill-rule=\"evenodd\" fill-opacity=\"1\" stroke=\"#000000\" stroke-opacity=\"1\" stroke-width=\"3.2\"/>\n<circle clip-path=\"url(#clip762)\" cx=\"1602.38\" cy=\"814.481\" r=\"14\" fill=\"#009af9\" fill-rule=\"evenodd\" fill-opacity=\"1\" stroke=\"#000000\" stroke-opacity=\"1\" stroke-width=\"3.2\"/>\n<circle clip-path=\"url(#clip762)\" cx=\"1496.29\" cy=\"858.836\" r=\"14\" fill=\"#009af9\" fill-rule=\"evenodd\" fill-opacity=\"1\" stroke=\"#000000\" stroke-opacity=\"1\" stroke-width=\"3.2\"/>\n<circle clip-path=\"url(#clip762)\" cx=\"1454.26\" cy=\"803.414\" r=\"14\" fill=\"#009af9\" fill-rule=\"evenodd\" fill-opacity=\"1\" stroke=\"#000000\" stroke-opacity=\"1\" stroke-width=\"3.2\"/>\n<circle clip-path=\"url(#clip762)\" cx=\"1503.41\" cy=\"576.394\" r=\"14\" fill=\"#009af9\" fill-rule=\"evenodd\" fill-opacity=\"1\" stroke=\"#000000\" stroke-opacity=\"1\" stroke-width=\"3.2\"/>\n<circle clip-path=\"url(#clip762)\" cx=\"1575.82\" cy=\"413.895\" r=\"14\" fill=\"#009af9\" fill-rule=\"evenodd\" fill-opacity=\"1\" stroke=\"#000000\" stroke-opacity=\"1\" stroke-width=\"3.2\"/>\n<circle clip-path=\"url(#clip762)\" cx=\"1515.44\" cy=\"789.103\" r=\"14\" fill=\"#009af9\" fill-rule=\"evenodd\" fill-opacity=\"1\" stroke=\"#000000\" stroke-opacity=\"1\" stroke-width=\"3.2\"/>\n<circle clip-path=\"url(#clip762)\" cx=\"1536.38\" cy=\"440.678\" r=\"14\" fill=\"#009af9\" fill-rule=\"evenodd\" fill-opacity=\"1\" stroke=\"#000000\" stroke-opacity=\"1\" stroke-width=\"3.2\"/>\n<circle clip-path=\"url(#clip762)\" cx=\"1620.17\" cy=\"483.103\" r=\"14\" fill=\"#009af9\" fill-rule=\"evenodd\" fill-opacity=\"1\" stroke=\"#000000\" stroke-opacity=\"1\" stroke-width=\"3.2\"/>\n<circle clip-path=\"url(#clip762)\" cx=\"1537.49\" cy=\"845.49\" r=\"14\" fill=\"#009af9\" fill-rule=\"evenodd\" fill-opacity=\"1\" stroke=\"#000000\" stroke-opacity=\"1\" stroke-width=\"3.2\"/>\n<circle clip-path=\"url(#clip762)\" cx=\"1505.3\" cy=\"657.61\" r=\"14\" fill=\"#009af9\" fill-rule=\"evenodd\" fill-opacity=\"1\" stroke=\"#000000\" stroke-opacity=\"1\" stroke-width=\"3.2\"/>\n<circle clip-path=\"url(#clip762)\" cx=\"1563.68\" cy=\"535.713\" r=\"14\" fill=\"#009af9\" fill-rule=\"evenodd\" fill-opacity=\"1\" stroke=\"#000000\" stroke-opacity=\"1\" stroke-width=\"3.2\"/>\n<circle clip-path=\"url(#clip762)\" cx=\"1499.04\" cy=\"879.525\" r=\"14\" fill=\"#009af9\" fill-rule=\"evenodd\" fill-opacity=\"1\" stroke=\"#000000\" stroke-opacity=\"1\" stroke-width=\"3.2\"/>\n<circle clip-path=\"url(#clip762)\" cx=\"1541.17\" cy=\"415.99\" r=\"14\" fill=\"#009af9\" fill-rule=\"evenodd\" fill-opacity=\"1\" stroke=\"#000000\" stroke-opacity=\"1\" stroke-width=\"3.2\"/>\n<circle clip-path=\"url(#clip762)\" cx=\"1615.86\" cy=\"486.465\" r=\"14\" fill=\"#009af9\" fill-rule=\"evenodd\" fill-opacity=\"1\" stroke=\"#000000\" stroke-opacity=\"1\" stroke-width=\"3.2\"/>\n<circle clip-path=\"url(#clip762)\" cx=\"1515.53\" cy=\"842.923\" r=\"14\" fill=\"#009af9\" fill-rule=\"evenodd\" fill-opacity=\"1\" stroke=\"#000000\" stroke-opacity=\"1\" stroke-width=\"3.2\"/>\n<circle clip-path=\"url(#clip762)\" cx=\"1615.51\" cy=\"574.174\" r=\"14\" fill=\"#009af9\" fill-rule=\"evenodd\" fill-opacity=\"1\" stroke=\"#000000\" stroke-opacity=\"1\" stroke-width=\"3.2\"/>\n<circle clip-path=\"url(#clip762)\" cx=\"1595.73\" cy=\"644.812\" r=\"14\" fill=\"#009af9\" fill-rule=\"evenodd\" fill-opacity=\"1\" stroke=\"#000000\" stroke-opacity=\"1\" stroke-width=\"3.2\"/>\n<circle clip-path=\"url(#clip762)\" cx=\"1489.46\" cy=\"817.856\" r=\"14\" fill=\"#009af9\" fill-rule=\"evenodd\" fill-opacity=\"1\" stroke=\"#000000\" stroke-opacity=\"1\" stroke-width=\"3.2\"/>\n<circle clip-path=\"url(#clip762)\" cx=\"1509.93\" cy=\"552.676\" r=\"14\" fill=\"#009af9\" fill-rule=\"evenodd\" fill-opacity=\"1\" stroke=\"#000000\" stroke-opacity=\"1\" stroke-width=\"3.2\"/>\n<circle clip-path=\"url(#clip762)\" cx=\"1485.79\" cy=\"762.961\" r=\"14\" fill=\"#009af9\" fill-rule=\"evenodd\" fill-opacity=\"1\" stroke=\"#000000\" stroke-opacity=\"1\" stroke-width=\"3.2\"/>\n<circle clip-path=\"url(#clip762)\" cx=\"1535.66\" cy=\"506.306\" r=\"14\" fill=\"#009af9\" fill-rule=\"evenodd\" fill-opacity=\"1\" stroke=\"#000000\" stroke-opacity=\"1\" stroke-width=\"3.2\"/>\n<circle clip-path=\"url(#clip762)\" cx=\"1460.71\" cy=\"497.493\" r=\"14\" fill=\"#009af9\" fill-rule=\"evenodd\" fill-opacity=\"1\" stroke=\"#000000\" stroke-opacity=\"1\" stroke-width=\"3.2\"/>\n<circle clip-path=\"url(#clip762)\" cx=\"1624.59\" cy=\"725.165\" r=\"14\" fill=\"#009af9\" fill-rule=\"evenodd\" fill-opacity=\"1\" stroke=\"#000000\" stroke-opacity=\"1\" stroke-width=\"3.2\"/>\n<circle clip-path=\"url(#clip762)\" cx=\"1531.95\" cy=\"500.295\" r=\"14\" fill=\"#009af9\" fill-rule=\"evenodd\" fill-opacity=\"1\" stroke=\"#000000\" stroke-opacity=\"1\" stroke-width=\"3.2\"/>\n<circle clip-path=\"url(#clip762)\" cx=\"1620.96\" cy=\"547.347\" r=\"14\" fill=\"#009af9\" fill-rule=\"evenodd\" fill-opacity=\"1\" stroke=\"#000000\" stroke-opacity=\"1\" stroke-width=\"3.2\"/>\n<circle clip-path=\"url(#clip762)\" cx=\"1506.98\" cy=\"606.982\" r=\"14\" fill=\"#009af9\" fill-rule=\"evenodd\" fill-opacity=\"1\" stroke=\"#000000\" stroke-opacity=\"1\" stroke-width=\"3.2\"/>\n<circle clip-path=\"url(#clip762)\" cx=\"1511.72\" cy=\"778.038\" r=\"14\" fill=\"#009af9\" fill-rule=\"evenodd\" fill-opacity=\"1\" stroke=\"#000000\" stroke-opacity=\"1\" stroke-width=\"3.2\"/>\n<circle clip-path=\"url(#clip762)\" cx=\"1515.47\" cy=\"795.046\" r=\"14\" fill=\"#009af9\" fill-rule=\"evenodd\" fill-opacity=\"1\" stroke=\"#000000\" stroke-opacity=\"1\" stroke-width=\"3.2\"/>\n<circle clip-path=\"url(#clip762)\" cx=\"1583.35\" cy=\"777.682\" r=\"14\" fill=\"#009af9\" fill-rule=\"evenodd\" fill-opacity=\"1\" stroke=\"#000000\" stroke-opacity=\"1\" stroke-width=\"3.2\"/>\n<circle clip-path=\"url(#clip762)\" cx=\"1510.56\" cy=\"989.828\" r=\"14\" fill=\"#009af9\" fill-rule=\"evenodd\" fill-opacity=\"1\" stroke=\"#000000\" stroke-opacity=\"1\" stroke-width=\"3.2\"/>\n<circle clip-path=\"url(#clip762)\" cx=\"1578.69\" cy=\"685.546\" r=\"14\" fill=\"#009af9\" fill-rule=\"evenodd\" fill-opacity=\"1\" stroke=\"#000000\" stroke-opacity=\"1\" stroke-width=\"3.2\"/>\n<circle clip-path=\"url(#clip762)\" cx=\"1485.23\" cy=\"400.479\" r=\"14\" fill=\"#009af9\" fill-rule=\"evenodd\" fill-opacity=\"1\" stroke=\"#000000\" stroke-opacity=\"1\" stroke-width=\"3.2\"/>\n<circle clip-path=\"url(#clip762)\" cx=\"1509.39\" cy=\"906.418\" r=\"14\" fill=\"#009af9\" fill-rule=\"evenodd\" fill-opacity=\"1\" stroke=\"#000000\" stroke-opacity=\"1\" stroke-width=\"3.2\"/>\n<circle clip-path=\"url(#clip762)\" cx=\"1567.86\" cy=\"665.505\" r=\"14\" fill=\"#009af9\" fill-rule=\"evenodd\" fill-opacity=\"1\" stroke=\"#000000\" stroke-opacity=\"1\" stroke-width=\"3.2\"/>\n<circle clip-path=\"url(#clip762)\" cx=\"1477.49\" cy=\"445.329\" r=\"14\" fill=\"#009af9\" fill-rule=\"evenodd\" fill-opacity=\"1\" stroke=\"#000000\" stroke-opacity=\"1\" stroke-width=\"3.2\"/>\n<circle clip-path=\"url(#clip762)\" cx=\"1589.79\" cy=\"577.525\" r=\"14\" fill=\"#009af9\" fill-rule=\"evenodd\" fill-opacity=\"1\" stroke=\"#000000\" stroke-opacity=\"1\" stroke-width=\"3.2\"/>\n<circle clip-path=\"url(#clip762)\" cx=\"1496.9\" cy=\"575.65\" r=\"14\" fill=\"#009af9\" fill-rule=\"evenodd\" fill-opacity=\"1\" stroke=\"#000000\" stroke-opacity=\"1\" stroke-width=\"3.2\"/>\n<circle clip-path=\"url(#clip762)\" cx=\"1470.58\" cy=\"697.067\" r=\"14\" fill=\"#009af9\" fill-rule=\"evenodd\" fill-opacity=\"1\" stroke=\"#000000\" stroke-opacity=\"1\" stroke-width=\"3.2\"/>\n<circle clip-path=\"url(#clip762)\" cx=\"1583.44\" cy=\"537.513\" r=\"14\" fill=\"#009af9\" fill-rule=\"evenodd\" fill-opacity=\"1\" stroke=\"#000000\" stroke-opacity=\"1\" stroke-width=\"3.2\"/>\n<circle clip-path=\"url(#clip762)\" cx=\"1548.1\" cy=\"819.639\" r=\"14\" fill=\"#009af9\" fill-rule=\"evenodd\" fill-opacity=\"1\" stroke=\"#000000\" stroke-opacity=\"1\" stroke-width=\"3.2\"/>\n<circle clip-path=\"url(#clip762)\" cx=\"1552.28\" cy=\"823.219\" r=\"14\" fill=\"#009af9\" fill-rule=\"evenodd\" fill-opacity=\"1\" stroke=\"#000000\" stroke-opacity=\"1\" stroke-width=\"3.2\"/>\n<circle clip-path=\"url(#clip762)\" cx=\"1491.96\" cy=\"799.542\" r=\"14\" fill=\"#009af9\" fill-rule=\"evenodd\" fill-opacity=\"1\" stroke=\"#000000\" stroke-opacity=\"1\" stroke-width=\"3.2\"/>\n<circle clip-path=\"url(#clip762)\" cx=\"1502.84\" cy=\"374.978\" r=\"14\" fill=\"#009af9\" fill-rule=\"evenodd\" fill-opacity=\"1\" stroke=\"#000000\" stroke-opacity=\"1\" stroke-width=\"3.2\"/>\n<circle clip-path=\"url(#clip762)\" cx=\"1536.08\" cy=\"341.416\" r=\"14\" fill=\"#009af9\" fill-rule=\"evenodd\" fill-opacity=\"1\" stroke=\"#000000\" stroke-opacity=\"1\" stroke-width=\"3.2\"/>\n<circle clip-path=\"url(#clip762)\" cx=\"1582.03\" cy=\"433.364\" r=\"14\" fill=\"#009af9\" fill-rule=\"evenodd\" fill-opacity=\"1\" stroke=\"#000000\" stroke-opacity=\"1\" stroke-width=\"3.2\"/>\n<circle clip-path=\"url(#clip762)\" cx=\"1544.86\" cy=\"443.329\" r=\"14\" fill=\"#009af9\" fill-rule=\"evenodd\" fill-opacity=\"1\" stroke=\"#000000\" stroke-opacity=\"1\" stroke-width=\"3.2\"/>\n<circle clip-path=\"url(#clip762)\" cx=\"1497.61\" cy=\"565.264\" r=\"14\" fill=\"#009af9\" fill-rule=\"evenodd\" fill-opacity=\"1\" stroke=\"#000000\" stroke-opacity=\"1\" stroke-width=\"3.2\"/>\n<circle clip-path=\"url(#clip762)\" cx=\"1533.54\" cy=\"892.449\" r=\"14\" fill=\"#009af9\" fill-rule=\"evenodd\" fill-opacity=\"1\" stroke=\"#000000\" stroke-opacity=\"1\" stroke-width=\"3.2\"/>\n<circle clip-path=\"url(#clip762)\" cx=\"1508.51\" cy=\"716.409\" r=\"14\" fill=\"#009af9\" fill-rule=\"evenodd\" fill-opacity=\"1\" stroke=\"#000000\" stroke-opacity=\"1\" stroke-width=\"3.2\"/>\n<circle clip-path=\"url(#clip762)\" cx=\"1455.93\" cy=\"724.662\" r=\"14\" fill=\"#009af9\" fill-rule=\"evenodd\" fill-opacity=\"1\" stroke=\"#000000\" stroke-opacity=\"1\" stroke-width=\"3.2\"/>\n<circle clip-path=\"url(#clip762)\" cx=\"1541.98\" cy=\"852.37\" r=\"14\" fill=\"#009af9\" fill-rule=\"evenodd\" fill-opacity=\"1\" stroke=\"#000000\" stroke-opacity=\"1\" stroke-width=\"3.2\"/>\n<circle clip-path=\"url(#clip762)\" cx=\"1530.11\" cy=\"517.24\" r=\"14\" fill=\"#009af9\" fill-rule=\"evenodd\" fill-opacity=\"1\" stroke=\"#000000\" stroke-opacity=\"1\" stroke-width=\"3.2\"/>\n<circle clip-path=\"url(#clip762)\" cx=\"1583.81\" cy=\"576.193\" r=\"14\" fill=\"#009af9\" fill-rule=\"evenodd\" fill-opacity=\"1\" stroke=\"#000000\" stroke-opacity=\"1\" stroke-width=\"3.2\"/>\n<circle clip-path=\"url(#clip762)\" cx=\"1534.28\" cy=\"460.038\" r=\"14\" fill=\"#009af9\" fill-rule=\"evenodd\" fill-opacity=\"1\" stroke=\"#000000\" stroke-opacity=\"1\" stroke-width=\"3.2\"/>\n<circle clip-path=\"url(#clip762)\" cx=\"1582.05\" cy=\"459.84\" r=\"14\" fill=\"#009af9\" fill-rule=\"evenodd\" fill-opacity=\"1\" stroke=\"#000000\" stroke-opacity=\"1\" stroke-width=\"3.2\"/>\n<circle clip-path=\"url(#clip762)\" cx=\"1620.2\" cy=\"489.047\" r=\"14\" fill=\"#009af9\" fill-rule=\"evenodd\" fill-opacity=\"1\" stroke=\"#000000\" stroke-opacity=\"1\" stroke-width=\"3.2\"/>\n<circle clip-path=\"url(#clip762)\" cx=\"1514.01\" cy=\"717.189\" r=\"14\" fill=\"#009af9\" fill-rule=\"evenodd\" fill-opacity=\"1\" stroke=\"#000000\" stroke-opacity=\"1\" stroke-width=\"3.2\"/>\n<circle clip-path=\"url(#clip762)\" cx=\"1532.14\" cy=\"821.031\" r=\"14\" fill=\"#009af9\" fill-rule=\"evenodd\" fill-opacity=\"1\" stroke=\"#000000\" stroke-opacity=\"1\" stroke-width=\"3.2\"/>\n<circle clip-path=\"url(#clip762)\" cx=\"1497.78\" cy=\"555.158\" r=\"14\" fill=\"#009af9\" fill-rule=\"evenodd\" fill-opacity=\"1\" stroke=\"#000000\" stroke-opacity=\"1\" stroke-width=\"3.2\"/>\n<circle clip-path=\"url(#clip762)\" cx=\"1511.48\" cy=\"495.434\" r=\"14\" fill=\"#009af9\" fill-rule=\"evenodd\" fill-opacity=\"1\" stroke=\"#000000\" stroke-opacity=\"1\" stroke-width=\"3.2\"/>\n<circle clip-path=\"url(#clip762)\" cx=\"1532.14\" cy=\"821.031\" r=\"14\" fill=\"#009af9\" fill-rule=\"evenodd\" fill-opacity=\"1\" stroke=\"#000000\" stroke-opacity=\"1\" stroke-width=\"3.2\"/>\n<circle clip-path=\"url(#clip762)\" cx=\"1575.43\" cy=\"253.102\" r=\"14\" fill=\"#009af9\" fill-rule=\"evenodd\" fill-opacity=\"1\" stroke=\"#000000\" stroke-opacity=\"1\" stroke-width=\"3.2\"/>\n<circle clip-path=\"url(#clip762)\" cx=\"1503.16\" cy=\"795.858\" r=\"14\" fill=\"#009af9\" fill-rule=\"evenodd\" fill-opacity=\"1\" stroke=\"#000000\" stroke-opacity=\"1\" stroke-width=\"3.2\"/>\n<circle clip-path=\"url(#clip762)\" cx=\"1506.49\" cy=\"466.68\" r=\"14\" fill=\"#009af9\" fill-rule=\"evenodd\" fill-opacity=\"1\" stroke=\"#000000\" stroke-opacity=\"1\" stroke-width=\"3.2\"/>\n<circle clip-path=\"url(#clip762)\" cx=\"1470.96\" cy=\"456.615\" r=\"14\" fill=\"#009af9\" fill-rule=\"evenodd\" fill-opacity=\"1\" stroke=\"#000000\" stroke-opacity=\"1\" stroke-width=\"3.2\"/>\n<circle clip-path=\"url(#clip762)\" cx=\"1563.1\" cy=\"359.933\" r=\"14\" fill=\"#009af9\" fill-rule=\"evenodd\" fill-opacity=\"1\" stroke=\"#000000\" stroke-opacity=\"1\" stroke-width=\"3.2\"/>\n<circle clip-path=\"url(#clip762)\" cx=\"1532.66\" cy=\"474.797\" r=\"14\" fill=\"#009af9\" fill-rule=\"evenodd\" fill-opacity=\"1\" stroke=\"#000000\" stroke-opacity=\"1\" stroke-width=\"3.2\"/>\n<circle clip-path=\"url(#clip762)\" cx=\"1559.81\" cy=\"490.158\" r=\"14\" fill=\"#009af9\" fill-rule=\"evenodd\" fill-opacity=\"1\" stroke=\"#000000\" stroke-opacity=\"1\" stroke-width=\"3.2\"/>\n<circle clip-path=\"url(#clip762)\" cx=\"1539.12\" cy=\"802.026\" r=\"14\" fill=\"#009af9\" fill-rule=\"evenodd\" fill-opacity=\"1\" stroke=\"#000000\" stroke-opacity=\"1\" stroke-width=\"3.2\"/>\n<circle clip-path=\"url(#clip762)\" cx=\"1575.14\" cy=\"250.983\" r=\"14\" fill=\"#009af9\" fill-rule=\"evenodd\" fill-opacity=\"1\" stroke=\"#000000\" stroke-opacity=\"1\" stroke-width=\"3.2\"/>\n<circle clip-path=\"url(#clip762)\" cx=\"1564.89\" cy=\"486.265\" r=\"14\" fill=\"#009af9\" fill-rule=\"evenodd\" fill-opacity=\"1\" stroke=\"#000000\" stroke-opacity=\"1\" stroke-width=\"3.2\"/>\n<circle clip-path=\"url(#clip762)\" cx=\"1503.16\" cy=\"795.858\" r=\"14\" fill=\"#009af9\" fill-rule=\"evenodd\" fill-opacity=\"1\" stroke=\"#000000\" stroke-opacity=\"1\" stroke-width=\"3.2\"/>\n<circle clip-path=\"url(#clip762)\" cx=\"1540.8\" cy=\"473.158\" r=\"14\" fill=\"#009af9\" fill-rule=\"evenodd\" fill-opacity=\"1\" stroke=\"#000000\" stroke-opacity=\"1\" stroke-width=\"3.2\"/>\n<circle clip-path=\"url(#clip762)\" cx=\"1539.2\" cy=\"226.843\" r=\"14\" fill=\"#009af9\" fill-rule=\"evenodd\" fill-opacity=\"1\" stroke=\"#000000\" stroke-opacity=\"1\" stroke-width=\"3.2\"/>\n<circle clip-path=\"url(#clip762)\" cx=\"1492.72\" cy=\"661.164\" r=\"14\" fill=\"#009af9\" fill-rule=\"evenodd\" fill-opacity=\"1\" stroke=\"#000000\" stroke-opacity=\"1\" stroke-width=\"3.2\"/>\n<circle clip-path=\"url(#clip762)\" cx=\"1515.38\" cy=\"468.138\" r=\"14\" fill=\"#009af9\" fill-rule=\"evenodd\" fill-opacity=\"1\" stroke=\"#000000\" stroke-opacity=\"1\" stroke-width=\"3.2\"/>\n<circle clip-path=\"url(#clip762)\" cx=\"1533.54\" cy=\"892.449\" r=\"14\" fill=\"#009af9\" fill-rule=\"evenodd\" fill-opacity=\"1\" stroke=\"#000000\" stroke-opacity=\"1\" stroke-width=\"3.2\"/>\n<circle clip-path=\"url(#clip762)\" cx=\"1519.79\" cy=\"584.624\" r=\"14\" fill=\"#009af9\" fill-rule=\"evenodd\" fill-opacity=\"1\" stroke=\"#000000\" stroke-opacity=\"1\" stroke-width=\"3.2\"/>\n<circle clip-path=\"url(#clip762)\" cx=\"1540.07\" cy=\"468.018\" r=\"14\" fill=\"#009af9\" fill-rule=\"evenodd\" fill-opacity=\"1\" stroke=\"#000000\" stroke-opacity=\"1\" stroke-width=\"3.2\"/>\n<circle clip-path=\"url(#clip762)\" cx=\"1564.89\" cy=\"486.265\" r=\"14\" fill=\"#009af9\" fill-rule=\"evenodd\" fill-opacity=\"1\" stroke=\"#000000\" stroke-opacity=\"1\" stroke-width=\"3.2\"/>\n<circle clip-path=\"url(#clip762)\" cx=\"1519.79\" cy=\"584.624\" r=\"14\" fill=\"#009af9\" fill-rule=\"evenodd\" fill-opacity=\"1\" stroke=\"#000000\" stroke-opacity=\"1\" stroke-width=\"3.2\"/>\n<circle clip-path=\"url(#clip762)\" cx=\"1540.07\" cy=\"468.018\" r=\"14\" fill=\"#009af9\" fill-rule=\"evenodd\" fill-opacity=\"1\" stroke=\"#000000\" stroke-opacity=\"1\" stroke-width=\"3.2\"/>\n<circle clip-path=\"url(#clip762)\" cx=\"1522.62\" cy=\"827.121\" r=\"14\" fill=\"#009af9\" fill-rule=\"evenodd\" fill-opacity=\"1\" stroke=\"#000000\" stroke-opacity=\"1\" stroke-width=\"3.2\"/>\n<circle clip-path=\"url(#clip762)\" cx=\"1414.02\" cy=\"1002.58\" r=\"14\" fill=\"#009af9\" fill-rule=\"evenodd\" fill-opacity=\"1\" stroke=\"#000000\" stroke-opacity=\"1\" stroke-width=\"3.2\"/>\n<circle clip-path=\"url(#clip762)\" cx=\"1560\" cy=\"275.747\" r=\"14\" fill=\"#009af9\" fill-rule=\"evenodd\" fill-opacity=\"1\" stroke=\"#000000\" stroke-opacity=\"1\" stroke-width=\"3.2\"/>\n<circle clip-path=\"url(#clip762)\" cx=\"1528.38\" cy=\"740.056\" r=\"14\" fill=\"#009af9\" fill-rule=\"evenodd\" fill-opacity=\"1\" stroke=\"#000000\" stroke-opacity=\"1\" stroke-width=\"3.2\"/>\n<circle clip-path=\"url(#clip762)\" cx=\"1532.31\" cy=\"521.329\" r=\"14\" fill=\"#009af9\" fill-rule=\"evenodd\" fill-opacity=\"1\" stroke=\"#000000\" stroke-opacity=\"1\" stroke-width=\"3.2\"/>\n<circle clip-path=\"url(#clip762)\" cx=\"1540.11\" cy=\"619.203\" r=\"14\" fill=\"#009af9\" fill-rule=\"evenodd\" fill-opacity=\"1\" stroke=\"#000000\" stroke-opacity=\"1\" stroke-width=\"3.2\"/>\n<circle clip-path=\"url(#clip762)\" cx=\"1448.78\" cy=\"482.046\" r=\"14\" fill=\"#009af9\" fill-rule=\"evenodd\" fill-opacity=\"1\" stroke=\"#000000\" stroke-opacity=\"1\" stroke-width=\"3.2\"/>\n<circle clip-path=\"url(#clip762)\" cx=\"1523.2\" cy=\"886.351\" r=\"14\" fill=\"#009af9\" fill-rule=\"evenodd\" fill-opacity=\"1\" stroke=\"#000000\" stroke-opacity=\"1\" stroke-width=\"3.2\"/>\n<circle clip-path=\"url(#clip762)\" cx=\"1525.74\" cy=\"438.635\" r=\"14\" fill=\"#009af9\" fill-rule=\"evenodd\" fill-opacity=\"1\" stroke=\"#000000\" stroke-opacity=\"1\" stroke-width=\"3.2\"/>\n<circle clip-path=\"url(#clip762)\" cx=\"1464.47\" cy=\"616.678\" r=\"14\" fill=\"#009af9\" fill-rule=\"evenodd\" fill-opacity=\"1\" stroke=\"#000000\" stroke-opacity=\"1\" stroke-width=\"3.2\"/>\n<circle clip-path=\"url(#clip762)\" cx=\"1471.42\" cy=\"1069.58\" r=\"14\" fill=\"#009af9\" fill-rule=\"evenodd\" fill-opacity=\"1\" stroke=\"#000000\" stroke-opacity=\"1\" stroke-width=\"3.2\"/>\n<circle clip-path=\"url(#clip762)\" cx=\"1483.27\" cy=\"718.299\" r=\"14\" fill=\"#009af9\" fill-rule=\"evenodd\" fill-opacity=\"1\" stroke=\"#000000\" stroke-opacity=\"1\" stroke-width=\"3.2\"/>\n<circle clip-path=\"url(#clip762)\" cx=\"1465.93\" cy=\"952.905\" r=\"14\" fill=\"#009af9\" fill-rule=\"evenodd\" fill-opacity=\"1\" stroke=\"#000000\" stroke-opacity=\"1\" stroke-width=\"3.2\"/>\n<circle clip-path=\"url(#clip762)\" cx=\"1397.22\" cy=\"838.196\" r=\"14\" fill=\"#009af9\" fill-rule=\"evenodd\" fill-opacity=\"1\" stroke=\"#000000\" stroke-opacity=\"1\" stroke-width=\"3.2\"/>\n<circle clip-path=\"url(#clip762)\" cx=\"1490.37\" cy=\"993.053\" r=\"14\" fill=\"#009af9\" fill-rule=\"evenodd\" fill-opacity=\"1\" stroke=\"#000000\" stroke-opacity=\"1\" stroke-width=\"3.2\"/>\n<circle clip-path=\"url(#clip762)\" cx=\"1455.01\" cy=\"754.025\" r=\"14\" fill=\"#009af9\" fill-rule=\"evenodd\" fill-opacity=\"1\" stroke=\"#000000\" stroke-opacity=\"1\" stroke-width=\"3.2\"/>\n<circle clip-path=\"url(#clip762)\" cx=\"1438.64\" cy=\"898.505\" r=\"14\" fill=\"#009af9\" fill-rule=\"evenodd\" fill-opacity=\"1\" stroke=\"#000000\" stroke-opacity=\"1\" stroke-width=\"3.2\"/>\n<circle clip-path=\"url(#clip762)\" cx=\"1528.82\" cy=\"771.57\" r=\"14\" fill=\"#009af9\" fill-rule=\"evenodd\" fill-opacity=\"1\" stroke=\"#000000\" stroke-opacity=\"1\" stroke-width=\"3.2\"/>\n<circle clip-path=\"url(#clip762)\" cx=\"1567.82\" cy=\"832.581\" r=\"14\" fill=\"#009af9\" fill-rule=\"evenodd\" fill-opacity=\"1\" stroke=\"#000000\" stroke-opacity=\"1\" stroke-width=\"3.2\"/>\n<circle clip-path=\"url(#clip762)\" cx=\"1444.17\" cy=\"804.251\" r=\"14\" fill=\"#009af9\" fill-rule=\"evenodd\" fill-opacity=\"1\" stroke=\"#000000\" stroke-opacity=\"1\" stroke-width=\"3.2\"/>\n<circle clip-path=\"url(#clip762)\" cx=\"1497.8\" cy=\"603.731\" r=\"14\" fill=\"#009af9\" fill-rule=\"evenodd\" fill-opacity=\"1\" stroke=\"#000000\" stroke-opacity=\"1\" stroke-width=\"3.2\"/>\n<circle clip-path=\"url(#clip762)\" cx=\"1604.64\" cy=\"602.087\" r=\"14\" fill=\"#009af9\" fill-rule=\"evenodd\" fill-opacity=\"1\" stroke=\"#000000\" stroke-opacity=\"1\" stroke-width=\"3.2\"/>\n<circle clip-path=\"url(#clip762)\" cx=\"1510.18\" cy=\"627.431\" r=\"14\" fill=\"#009af9\" fill-rule=\"evenodd\" fill-opacity=\"1\" stroke=\"#000000\" stroke-opacity=\"1\" stroke-width=\"3.2\"/>\n<circle clip-path=\"url(#clip762)\" cx=\"1577.44\" cy=\"869.163\" r=\"14\" fill=\"#009af9\" fill-rule=\"evenodd\" fill-opacity=\"1\" stroke=\"#000000\" stroke-opacity=\"1\" stroke-width=\"3.2\"/>\n<circle clip-path=\"url(#clip762)\" cx=\"1422.76\" cy=\"756.495\" r=\"14\" fill=\"#009af9\" fill-rule=\"evenodd\" fill-opacity=\"1\" stroke=\"#000000\" stroke-opacity=\"1\" stroke-width=\"3.2\"/>\n<circle clip-path=\"url(#clip762)\" cx=\"1517.13\" cy=\"763.46\" r=\"14\" fill=\"#009af9\" fill-rule=\"evenodd\" fill-opacity=\"1\" stroke=\"#000000\" stroke-opacity=\"1\" stroke-width=\"3.2\"/>\n<circle clip-path=\"url(#clip762)\" cx=\"1581.48\" cy=\"704.422\" r=\"14\" fill=\"#009af9\" fill-rule=\"evenodd\" fill-opacity=\"1\" stroke=\"#000000\" stroke-opacity=\"1\" stroke-width=\"3.2\"/>\n<circle clip-path=\"url(#clip762)\" cx=\"1593.76\" cy=\"814.423\" r=\"14\" fill=\"#009af9\" fill-rule=\"evenodd\" fill-opacity=\"1\" stroke=\"#000000\" stroke-opacity=\"1\" stroke-width=\"3.2\"/>\n<circle clip-path=\"url(#clip762)\" cx=\"1461.74\" cy=\"715.518\" r=\"14\" fill=\"#009af9\" fill-rule=\"evenodd\" fill-opacity=\"1\" stroke=\"#000000\" stroke-opacity=\"1\" stroke-width=\"3.2\"/>\n<circle clip-path=\"url(#clip762)\" cx=\"1507.12\" cy=\"817.939\" r=\"14\" fill=\"#009af9\" fill-rule=\"evenodd\" fill-opacity=\"1\" stroke=\"#000000\" stroke-opacity=\"1\" stroke-width=\"3.2\"/>\n<circle clip-path=\"url(#clip762)\" cx=\"1390.27\" cy=\"632.859\" r=\"14\" fill=\"#009af9\" fill-rule=\"evenodd\" fill-opacity=\"1\" stroke=\"#000000\" stroke-opacity=\"1\" stroke-width=\"3.2\"/>\n<circle clip-path=\"url(#clip762)\" cx=\"1528.94\" cy=\"816.743\" r=\"14\" fill=\"#009af9\" fill-rule=\"evenodd\" fill-opacity=\"1\" stroke=\"#000000\" stroke-opacity=\"1\" stroke-width=\"3.2\"/>\n<circle clip-path=\"url(#clip762)\" cx=\"1507.58\" cy=\"595.161\" r=\"14\" fill=\"#009af9\" fill-rule=\"evenodd\" fill-opacity=\"1\" stroke=\"#000000\" stroke-opacity=\"1\" stroke-width=\"3.2\"/>\n<circle clip-path=\"url(#clip762)\" cx=\"1521.79\" cy=\"855.596\" r=\"14\" fill=\"#009af9\" fill-rule=\"evenodd\" fill-opacity=\"1\" stroke=\"#000000\" stroke-opacity=\"1\" stroke-width=\"3.2\"/>\n<circle clip-path=\"url(#clip762)\" cx=\"1460.67\" cy=\"695.56\" r=\"14\" fill=\"#009af9\" fill-rule=\"evenodd\" fill-opacity=\"1\" stroke=\"#000000\" stroke-opacity=\"1\" stroke-width=\"3.2\"/>\n<circle clip-path=\"url(#clip762)\" cx=\"1550.04\" cy=\"793.805\" r=\"14\" fill=\"#009af9\" fill-rule=\"evenodd\" fill-opacity=\"1\" stroke=\"#000000\" stroke-opacity=\"1\" stroke-width=\"3.2\"/>\n<circle clip-path=\"url(#clip762)\" cx=\"1560\" cy=\"275.747\" r=\"14\" fill=\"#009af9\" fill-rule=\"evenodd\" fill-opacity=\"1\" stroke=\"#000000\" stroke-opacity=\"1\" stroke-width=\"3.2\"/>\n<circle clip-path=\"url(#clip762)\" cx=\"1488.46\" cy=\"440.587\" r=\"14\" fill=\"#009af9\" fill-rule=\"evenodd\" fill-opacity=\"1\" stroke=\"#000000\" stroke-opacity=\"1\" stroke-width=\"3.2\"/>\n<circle clip-path=\"url(#clip762)\" cx=\"1541.28\" cy=\"899.365\" r=\"14\" fill=\"#009af9\" fill-rule=\"evenodd\" fill-opacity=\"1\" stroke=\"#000000\" stroke-opacity=\"1\" stroke-width=\"3.2\"/>\n<circle clip-path=\"url(#clip762)\" cx=\"1491.04\" cy=\"897.046\" r=\"14\" fill=\"#009af9\" fill-rule=\"evenodd\" fill-opacity=\"1\" stroke=\"#000000\" stroke-opacity=\"1\" stroke-width=\"3.2\"/>\n<circle clip-path=\"url(#clip762)\" cx=\"1560\" cy=\"275.747\" r=\"14\" fill=\"#009af9\" fill-rule=\"evenodd\" fill-opacity=\"1\" stroke=\"#000000\" stroke-opacity=\"1\" stroke-width=\"3.2\"/>\n<circle clip-path=\"url(#clip762)\" cx=\"1489.85\" cy=\"698.235\" r=\"14\" fill=\"#009af9\" fill-rule=\"evenodd\" fill-opacity=\"1\" stroke=\"#000000\" stroke-opacity=\"1\" stroke-width=\"3.2\"/>\n<circle clip-path=\"url(#clip762)\" cx=\"1481.9\" cy=\"970.778\" r=\"14\" fill=\"#009af9\" fill-rule=\"evenodd\" fill-opacity=\"1\" stroke=\"#000000\" stroke-opacity=\"1\" stroke-width=\"3.2\"/>\n<circle clip-path=\"url(#clip762)\" cx=\"1534.26\" cy=\"794.264\" r=\"14\" fill=\"#009af9\" fill-rule=\"evenodd\" fill-opacity=\"1\" stroke=\"#000000\" stroke-opacity=\"1\" stroke-width=\"3.2\"/>\n<circle clip-path=\"url(#clip762)\" cx=\"1520.34\" cy=\"639.29\" r=\"14\" fill=\"#009af9\" fill-rule=\"evenodd\" fill-opacity=\"1\" stroke=\"#000000\" stroke-opacity=\"1\" stroke-width=\"3.2\"/>\n<circle clip-path=\"url(#clip762)\" cx=\"1462.29\" cy=\"1023.79\" r=\"14\" fill=\"#009af9\" fill-rule=\"evenodd\" fill-opacity=\"1\" stroke=\"#000000\" stroke-opacity=\"1\" stroke-width=\"3.2\"/>\n<circle clip-path=\"url(#clip762)\" cx=\"1559.99\" cy=\"538.387\" r=\"14\" fill=\"#009af9\" fill-rule=\"evenodd\" fill-opacity=\"1\" stroke=\"#000000\" stroke-opacity=\"1\" stroke-width=\"3.2\"/>\n<circle clip-path=\"url(#clip762)\" cx=\"1586.7\" cy=\"641.744\" r=\"14\" fill=\"#009af9\" fill-rule=\"evenodd\" fill-opacity=\"1\" stroke=\"#000000\" stroke-opacity=\"1\" stroke-width=\"3.2\"/>\n<circle clip-path=\"url(#clip762)\" cx=\"1572.93\" cy=\"763.788\" r=\"14\" fill=\"#009af9\" fill-rule=\"evenodd\" fill-opacity=\"1\" stroke=\"#000000\" stroke-opacity=\"1\" stroke-width=\"3.2\"/>\n<circle clip-path=\"url(#clip762)\" cx=\"1489.8\" cy=\"696.361\" r=\"14\" fill=\"#009af9\" fill-rule=\"evenodd\" fill-opacity=\"1\" stroke=\"#000000\" stroke-opacity=\"1\" stroke-width=\"3.2\"/>\n<circle clip-path=\"url(#clip762)\" cx=\"1543.33\" cy=\"886.984\" r=\"14\" fill=\"#009af9\" fill-rule=\"evenodd\" fill-opacity=\"1\" stroke=\"#000000\" stroke-opacity=\"1\" stroke-width=\"3.2\"/>\n<circle clip-path=\"url(#clip762)\" cx=\"1415.85\" cy=\"794\" r=\"14\" fill=\"#009af9\" fill-rule=\"evenodd\" fill-opacity=\"1\" stroke=\"#000000\" stroke-opacity=\"1\" stroke-width=\"3.2\"/>\n<circle clip-path=\"url(#clip762)\" cx=\"1348.44\" cy=\"763.645\" r=\"14\" fill=\"#009af9\" fill-rule=\"evenodd\" fill-opacity=\"1\" stroke=\"#000000\" stroke-opacity=\"1\" stroke-width=\"3.2\"/>\n<circle clip-path=\"url(#clip762)\" cx=\"1569.19\" cy=\"790.986\" r=\"14\" fill=\"#009af9\" fill-rule=\"evenodd\" fill-opacity=\"1\" stroke=\"#000000\" stroke-opacity=\"1\" stroke-width=\"3.2\"/>\n<circle clip-path=\"url(#clip762)\" cx=\"1512.55\" cy=\"830.242\" r=\"14\" fill=\"#009af9\" fill-rule=\"evenodd\" fill-opacity=\"1\" stroke=\"#000000\" stroke-opacity=\"1\" stroke-width=\"3.2\"/>\n<circle clip-path=\"url(#clip762)\" cx=\"1317.79\" cy=\"1088.26\" r=\"14\" fill=\"#009af9\" fill-rule=\"evenodd\" fill-opacity=\"1\" stroke=\"#000000\" stroke-opacity=\"1\" stroke-width=\"3.2\"/>\n<circle clip-path=\"url(#clip762)\" cx=\"1487.14\" cy=\"924.342\" r=\"14\" fill=\"#009af9\" fill-rule=\"evenodd\" fill-opacity=\"1\" stroke=\"#000000\" stroke-opacity=\"1\" stroke-width=\"3.2\"/>\n<circle clip-path=\"url(#clip762)\" cx=\"1440.32\" cy=\"1052.73\" r=\"14\" fill=\"#009af9\" fill-rule=\"evenodd\" fill-opacity=\"1\" stroke=\"#000000\" stroke-opacity=\"1\" stroke-width=\"3.2\"/>\n<circle clip-path=\"url(#clip762)\" cx=\"1526.5\" cy=\"750.679\" r=\"14\" fill=\"#009af9\" fill-rule=\"evenodd\" fill-opacity=\"1\" stroke=\"#000000\" stroke-opacity=\"1\" stroke-width=\"3.2\"/>\n<circle clip-path=\"url(#clip762)\" cx=\"1525.31\" cy=\"966.108\" r=\"14\" fill=\"#009af9\" fill-rule=\"evenodd\" fill-opacity=\"1\" stroke=\"#000000\" stroke-opacity=\"1\" stroke-width=\"3.2\"/>\n<circle clip-path=\"url(#clip762)\" cx=\"1335.55\" cy=\"1022.2\" r=\"14\" fill=\"#009af9\" fill-rule=\"evenodd\" fill-opacity=\"1\" stroke=\"#000000\" stroke-opacity=\"1\" stroke-width=\"3.2\"/>\n<circle clip-path=\"url(#clip762)\" cx=\"1462.13\" cy=\"1267.33\" r=\"14\" fill=\"#009af9\" fill-rule=\"evenodd\" fill-opacity=\"1\" stroke=\"#000000\" stroke-opacity=\"1\" stroke-width=\"3.2\"/>\n<circle clip-path=\"url(#clip762)\" cx=\"1485.48\" cy=\"1053.63\" r=\"14\" fill=\"#009af9\" fill-rule=\"evenodd\" fill-opacity=\"1\" stroke=\"#000000\" stroke-opacity=\"1\" stroke-width=\"3.2\"/>\n<circle clip-path=\"url(#clip762)\" cx=\"1576.33\" cy=\"783.611\" r=\"14\" fill=\"#009af9\" fill-rule=\"evenodd\" fill-opacity=\"1\" stroke=\"#000000\" stroke-opacity=\"1\" stroke-width=\"3.2\"/>\n<circle clip-path=\"url(#clip762)\" cx=\"1505.13\" cy=\"1003.85\" r=\"14\" fill=\"#009af9\" fill-rule=\"evenodd\" fill-opacity=\"1\" stroke=\"#000000\" stroke-opacity=\"1\" stroke-width=\"3.2\"/>\n<circle clip-path=\"url(#clip762)\" cx=\"1413.67\" cy=\"545.814\" r=\"14\" fill=\"#009af9\" fill-rule=\"evenodd\" fill-opacity=\"1\" stroke=\"#000000\" stroke-opacity=\"1\" stroke-width=\"3.2\"/>\n<circle clip-path=\"url(#clip762)\" cx=\"1547.74\" cy=\"926.933\" r=\"14\" fill=\"#009af9\" fill-rule=\"evenodd\" fill-opacity=\"1\" stroke=\"#000000\" stroke-opacity=\"1\" stroke-width=\"3.2\"/>\n<circle clip-path=\"url(#clip762)\" cx=\"1485.65\" cy=\"552.305\" r=\"14\" fill=\"#009af9\" fill-rule=\"evenodd\" fill-opacity=\"1\" stroke=\"#000000\" stroke-opacity=\"1\" stroke-width=\"3.2\"/>\n<circle clip-path=\"url(#clip762)\" cx=\"1490.07\" cy=\"641.893\" r=\"14\" fill=\"#009af9\" fill-rule=\"evenodd\" fill-opacity=\"1\" stroke=\"#000000\" stroke-opacity=\"1\" stroke-width=\"3.2\"/>\n<circle clip-path=\"url(#clip762)\" cx=\"1423.54\" cy=\"484.153\" r=\"14\" fill=\"#009af9\" fill-rule=\"evenodd\" fill-opacity=\"1\" stroke=\"#000000\" stroke-opacity=\"1\" stroke-width=\"3.2\"/>\n<circle clip-path=\"url(#clip762)\" cx=\"1501.04\" cy=\"689.698\" r=\"14\" fill=\"#009af9\" fill-rule=\"evenodd\" fill-opacity=\"1\" stroke=\"#000000\" stroke-opacity=\"1\" stroke-width=\"3.2\"/>\n<circle clip-path=\"url(#clip762)\" cx=\"1459.88\" cy=\"877.812\" r=\"14\" fill=\"#009af9\" fill-rule=\"evenodd\" fill-opacity=\"1\" stroke=\"#000000\" stroke-opacity=\"1\" stroke-width=\"3.2\"/>\n<circle clip-path=\"url(#clip762)\" cx=\"1520.53\" cy=\"724.73\" r=\"14\" fill=\"#009af9\" fill-rule=\"evenodd\" fill-opacity=\"1\" stroke=\"#000000\" stroke-opacity=\"1\" stroke-width=\"3.2\"/>\n<circle clip-path=\"url(#clip762)\" cx=\"1423.54\" cy=\"484.153\" r=\"14\" fill=\"#009af9\" fill-rule=\"evenodd\" fill-opacity=\"1\" stroke=\"#000000\" stroke-opacity=\"1\" stroke-width=\"3.2\"/>\n<circle clip-path=\"url(#clip762)\" cx=\"1539.16\" cy=\"865.762\" r=\"14\" fill=\"#009af9\" fill-rule=\"evenodd\" fill-opacity=\"1\" stroke=\"#000000\" stroke-opacity=\"1\" stroke-width=\"3.2\"/>\n<circle clip-path=\"url(#clip762)\" cx=\"1604.63\" cy=\"464.569\" r=\"14\" fill=\"#009af9\" fill-rule=\"evenodd\" fill-opacity=\"1\" stroke=\"#000000\" stroke-opacity=\"1\" stroke-width=\"3.2\"/>\n<circle clip-path=\"url(#clip762)\" cx=\"1555.49\" cy=\"596.306\" r=\"14\" fill=\"#009af9\" fill-rule=\"evenodd\" fill-opacity=\"1\" stroke=\"#000000\" stroke-opacity=\"1\" stroke-width=\"3.2\"/>\n<circle clip-path=\"url(#clip762)\" cx=\"1463.76\" cy=\"990.269\" r=\"14\" fill=\"#009af9\" fill-rule=\"evenodd\" fill-opacity=\"1\" stroke=\"#000000\" stroke-opacity=\"1\" stroke-width=\"3.2\"/>\n<circle clip-path=\"url(#clip762)\" cx=\"1587.91\" cy=\"592.296\" r=\"14\" fill=\"#009af9\" fill-rule=\"evenodd\" fill-opacity=\"1\" stroke=\"#000000\" stroke-opacity=\"1\" stroke-width=\"3.2\"/>\n<circle clip-path=\"url(#clip762)\" cx=\"1564.65\" cy=\"700.83\" r=\"14\" fill=\"#009af9\" fill-rule=\"evenodd\" fill-opacity=\"1\" stroke=\"#000000\" stroke-opacity=\"1\" stroke-width=\"3.2\"/>\n<circle clip-path=\"url(#clip762)\" cx=\"1499.79\" cy=\"853.494\" r=\"14\" fill=\"#009af9\" fill-rule=\"evenodd\" fill-opacity=\"1\" stroke=\"#000000\" stroke-opacity=\"1\" stroke-width=\"3.2\"/>\n<circle clip-path=\"url(#clip762)\" cx=\"1468.36\" cy=\"777.385\" r=\"14\" fill=\"#009af9\" fill-rule=\"evenodd\" fill-opacity=\"1\" stroke=\"#000000\" stroke-opacity=\"1\" stroke-width=\"3.2\"/>\n<circle clip-path=\"url(#clip762)\" cx=\"1488.23\" cy=\"1048.97\" r=\"14\" fill=\"#009af9\" fill-rule=\"evenodd\" fill-opacity=\"1\" stroke=\"#000000\" stroke-opacity=\"1\" stroke-width=\"3.2\"/>\n<circle clip-path=\"url(#clip762)\" cx=\"1543.65\" cy=\"541.505\" r=\"14\" fill=\"#009af9\" fill-rule=\"evenodd\" fill-opacity=\"1\" stroke=\"#000000\" stroke-opacity=\"1\" stroke-width=\"3.2\"/>\n<circle clip-path=\"url(#clip762)\" cx=\"1586.43\" cy=\"707.842\" r=\"14\" fill=\"#009af9\" fill-rule=\"evenodd\" fill-opacity=\"1\" stroke=\"#000000\" stroke-opacity=\"1\" stroke-width=\"3.2\"/>\n<circle clip-path=\"url(#clip762)\" cx=\"1582.6\" cy=\"556.119\" r=\"14\" fill=\"#009af9\" fill-rule=\"evenodd\" fill-opacity=\"1\" stroke=\"#000000\" stroke-opacity=\"1\" stroke-width=\"3.2\"/>\n<circle clip-path=\"url(#clip762)\" cx=\"1474.08\" cy=\"878.165\" r=\"14\" fill=\"#009af9\" fill-rule=\"evenodd\" fill-opacity=\"1\" stroke=\"#000000\" stroke-opacity=\"1\" stroke-width=\"3.2\"/>\n<circle clip-path=\"url(#clip762)\" cx=\"1415.69\" cy=\"883.412\" r=\"14\" fill=\"#009af9\" fill-rule=\"evenodd\" fill-opacity=\"1\" stroke=\"#000000\" stroke-opacity=\"1\" stroke-width=\"3.2\"/>\n<circle clip-path=\"url(#clip762)\" cx=\"1405.41\" cy=\"813.327\" r=\"14\" fill=\"#009af9\" fill-rule=\"evenodd\" fill-opacity=\"1\" stroke=\"#000000\" stroke-opacity=\"1\" stroke-width=\"3.2\"/>\n<circle clip-path=\"url(#clip762)\" cx=\"1451.2\" cy=\"1130.95\" r=\"14\" fill=\"#009af9\" fill-rule=\"evenodd\" fill-opacity=\"1\" stroke=\"#000000\" stroke-opacity=\"1\" stroke-width=\"3.2\"/>\n<circle clip-path=\"url(#clip762)\" cx=\"1447.73\" cy=\"565.991\" r=\"14\" fill=\"#e26f46\" fill-rule=\"evenodd\" fill-opacity=\"1\" stroke=\"#000000\" stroke-opacity=\"1\" stroke-width=\"3.2\"/>\n<circle clip-path=\"url(#clip762)\" cx=\"1532.43\" cy=\"1015.09\" r=\"14\" fill=\"#e26f46\" fill-rule=\"evenodd\" fill-opacity=\"1\" stroke=\"#000000\" stroke-opacity=\"1\" stroke-width=\"3.2\"/>\n<circle clip-path=\"url(#clip762)\" cx=\"1596.55\" cy=\"564.547\" r=\"14\" fill=\"#e26f46\" fill-rule=\"evenodd\" fill-opacity=\"1\" stroke=\"#000000\" stroke-opacity=\"1\" stroke-width=\"3.2\"/>\n<circle clip-path=\"url(#clip762)\" cx=\"1539.16\" cy=\"865.762\" r=\"14\" fill=\"#e26f46\" fill-rule=\"evenodd\" fill-opacity=\"1\" stroke=\"#000000\" stroke-opacity=\"1\" stroke-width=\"3.2\"/>\n<circle clip-path=\"url(#clip762)\" cx=\"1489.52\" cy=\"912.007\" r=\"14\" fill=\"#e26f46\" fill-rule=\"evenodd\" fill-opacity=\"1\" stroke=\"#000000\" stroke-opacity=\"1\" stroke-width=\"3.2\"/>\n<circle clip-path=\"url(#clip762)\" cx=\"1539.2\" cy=\"226.843\" r=\"14\" fill=\"#e26f46\" fill-rule=\"evenodd\" fill-opacity=\"1\" stroke=\"#000000\" stroke-opacity=\"1\" stroke-width=\"3.2\"/>\n<circle clip-path=\"url(#clip762)\" cx=\"1522.9\" cy=\"574.085\" r=\"14\" fill=\"#e26f46\" fill-rule=\"evenodd\" fill-opacity=\"1\" stroke=\"#000000\" stroke-opacity=\"1\" stroke-width=\"3.2\"/>\n<circle clip-path=\"url(#clip762)\" cx=\"1600.64\" cy=\"520.247\" r=\"14\" fill=\"#e26f46\" fill-rule=\"evenodd\" fill-opacity=\"1\" stroke=\"#000000\" stroke-opacity=\"1\" stroke-width=\"3.2\"/>\n<circle clip-path=\"url(#clip762)\" cx=\"1515.43\" cy=\"297.697\" r=\"14\" fill=\"#e26f46\" fill-rule=\"evenodd\" fill-opacity=\"1\" stroke=\"#000000\" stroke-opacity=\"1\" stroke-width=\"3.2\"/>\n<circle clip-path=\"url(#clip762)\" cx=\"1461.49\" cy=\"593.597\" r=\"14\" fill=\"#e26f46\" fill-rule=\"evenodd\" fill-opacity=\"1\" stroke=\"#000000\" stroke-opacity=\"1\" stroke-width=\"3.2\"/>\n<circle clip-path=\"url(#clip762)\" cx=\"1622.57\" cy=\"464.191\" r=\"14\" fill=\"#e26f46\" fill-rule=\"evenodd\" fill-opacity=\"1\" stroke=\"#000000\" stroke-opacity=\"1\" stroke-width=\"3.2\"/>\n<circle clip-path=\"url(#clip762)\" cx=\"1520.53\" cy=\"724.73\" r=\"14\" fill=\"#e26f46\" fill-rule=\"evenodd\" fill-opacity=\"1\" stroke=\"#000000\" stroke-opacity=\"1\" stroke-width=\"3.2\"/>\n<circle clip-path=\"url(#clip762)\" cx=\"1501.74\" cy=\"645.193\" r=\"14\" fill=\"#e26f46\" fill-rule=\"evenodd\" fill-opacity=\"1\" stroke=\"#000000\" stroke-opacity=\"1\" stroke-width=\"3.2\"/>\n<circle clip-path=\"url(#clip762)\" cx=\"1562.69\" cy=\"806.233\" r=\"14\" fill=\"#e26f46\" fill-rule=\"evenodd\" fill-opacity=\"1\" stroke=\"#000000\" stroke-opacity=\"1\" stroke-width=\"3.2\"/>\n<circle clip-path=\"url(#clip762)\" cx=\"1534.2\" cy=\"664.104\" r=\"14\" fill=\"#e26f46\" fill-rule=\"evenodd\" fill-opacity=\"1\" stroke=\"#000000\" stroke-opacity=\"1\" stroke-width=\"3.2\"/>\n<circle clip-path=\"url(#clip762)\" cx=\"1596.34\" cy=\"571.325\" r=\"14\" fill=\"#e26f46\" fill-rule=\"evenodd\" fill-opacity=\"1\" stroke=\"#000000\" stroke-opacity=\"1\" stroke-width=\"3.2\"/>\n<circle clip-path=\"url(#clip762)\" cx=\"1607.7\" cy=\"564.336\" r=\"14\" fill=\"#e26f46\" fill-rule=\"evenodd\" fill-opacity=\"1\" stroke=\"#000000\" stroke-opacity=\"1\" stroke-width=\"3.2\"/>\n<circle clip-path=\"url(#clip762)\" cx=\"1497.27\" cy=\"914.659\" r=\"14\" fill=\"#e26f46\" fill-rule=\"evenodd\" fill-opacity=\"1\" stroke=\"#000000\" stroke-opacity=\"1\" stroke-width=\"3.2\"/>\n<circle clip-path=\"url(#clip762)\" cx=\"1543.06\" cy=\"938.265\" r=\"14\" fill=\"#e26f46\" fill-rule=\"evenodd\" fill-opacity=\"1\" stroke=\"#000000\" stroke-opacity=\"1\" stroke-width=\"3.2\"/>\n<circle clip-path=\"url(#clip762)\" cx=\"1574.44\" cy=\"471.117\" r=\"14\" fill=\"#e26f46\" fill-rule=\"evenodd\" fill-opacity=\"1\" stroke=\"#000000\" stroke-opacity=\"1\" stroke-width=\"3.2\"/>\n<circle clip-path=\"url(#clip762)\" cx=\"1507.21\" cy=\"651.516\" r=\"14\" fill=\"#e26f46\" fill-rule=\"evenodd\" fill-opacity=\"1\" stroke=\"#000000\" stroke-opacity=\"1\" stroke-width=\"3.2\"/>\n<circle clip-path=\"url(#clip762)\" cx=\"1523.5\" cy=\"267.381\" r=\"14\" fill=\"#e26f46\" fill-rule=\"evenodd\" fill-opacity=\"1\" stroke=\"#000000\" stroke-opacity=\"1\" stroke-width=\"3.2\"/>\n<circle clip-path=\"url(#clip762)\" cx=\"1582.34\" cy=\"629.454\" r=\"14\" fill=\"#e26f46\" fill-rule=\"evenodd\" fill-opacity=\"1\" stroke=\"#000000\" stroke-opacity=\"1\" stroke-width=\"3.2\"/>\n<circle clip-path=\"url(#clip762)\" cx=\"1598.49\" cy=\"661.347\" r=\"14\" fill=\"#e26f46\" fill-rule=\"evenodd\" fill-opacity=\"1\" stroke=\"#000000\" stroke-opacity=\"1\" stroke-width=\"3.2\"/>\n<circle clip-path=\"url(#clip762)\" cx=\"1597.85\" cy=\"440.962\" r=\"14\" fill=\"#e26f46\" fill-rule=\"evenodd\" fill-opacity=\"1\" stroke=\"#000000\" stroke-opacity=\"1\" stroke-width=\"3.2\"/>\n<circle clip-path=\"url(#clip762)\" cx=\"1520.74\" cy=\"459.35\" r=\"14\" fill=\"#e26f46\" fill-rule=\"evenodd\" fill-opacity=\"1\" stroke=\"#000000\" stroke-opacity=\"1\" stroke-width=\"3.2\"/>\n<circle clip-path=\"url(#clip762)\" cx=\"1515.07\" cy=\"761.55\" r=\"14\" fill=\"#e26f46\" fill-rule=\"evenodd\" fill-opacity=\"1\" stroke=\"#000000\" stroke-opacity=\"1\" stroke-width=\"3.2\"/>\n<circle clip-path=\"url(#clip762)\" cx=\"1603.21\" cy=\"445.603\" r=\"14\" fill=\"#e26f46\" fill-rule=\"evenodd\" fill-opacity=\"1\" stroke=\"#000000\" stroke-opacity=\"1\" stroke-width=\"3.2\"/>\n<circle clip-path=\"url(#clip762)\" cx=\"1602.38\" cy=\"814.481\" r=\"14\" fill=\"#e26f46\" fill-rule=\"evenodd\" fill-opacity=\"1\" stroke=\"#000000\" stroke-opacity=\"1\" stroke-width=\"3.2\"/>\n<circle clip-path=\"url(#clip762)\" cx=\"1496.29\" cy=\"858.836\" r=\"14\" fill=\"#e26f46\" fill-rule=\"evenodd\" fill-opacity=\"1\" stroke=\"#000000\" stroke-opacity=\"1\" stroke-width=\"3.2\"/>\n<circle clip-path=\"url(#clip762)\" cx=\"1454.26\" cy=\"803.414\" r=\"14\" fill=\"#e26f46\" fill-rule=\"evenodd\" fill-opacity=\"1\" stroke=\"#000000\" stroke-opacity=\"1\" stroke-width=\"3.2\"/>\n<circle clip-path=\"url(#clip762)\" cx=\"1503.41\" cy=\"576.394\" r=\"14\" fill=\"#e26f46\" fill-rule=\"evenodd\" fill-opacity=\"1\" stroke=\"#000000\" stroke-opacity=\"1\" stroke-width=\"3.2\"/>\n<circle clip-path=\"url(#clip762)\" cx=\"1575.82\" cy=\"413.895\" r=\"14\" fill=\"#e26f46\" fill-rule=\"evenodd\" fill-opacity=\"1\" stroke=\"#000000\" stroke-opacity=\"1\" stroke-width=\"3.2\"/>\n<circle clip-path=\"url(#clip762)\" cx=\"1515.44\" cy=\"789.103\" r=\"14\" fill=\"#e26f46\" fill-rule=\"evenodd\" fill-opacity=\"1\" stroke=\"#000000\" stroke-opacity=\"1\" stroke-width=\"3.2\"/>\n<circle clip-path=\"url(#clip762)\" cx=\"1536.38\" cy=\"440.678\" r=\"14\" fill=\"#e26f46\" fill-rule=\"evenodd\" fill-opacity=\"1\" stroke=\"#000000\" stroke-opacity=\"1\" stroke-width=\"3.2\"/>\n<circle clip-path=\"url(#clip762)\" cx=\"1620.17\" cy=\"483.103\" r=\"14\" fill=\"#e26f46\" fill-rule=\"evenodd\" fill-opacity=\"1\" stroke=\"#000000\" stroke-opacity=\"1\" stroke-width=\"3.2\"/>\n<circle clip-path=\"url(#clip762)\" cx=\"1537.49\" cy=\"845.49\" r=\"14\" fill=\"#e26f46\" fill-rule=\"evenodd\" fill-opacity=\"1\" stroke=\"#000000\" stroke-opacity=\"1\" stroke-width=\"3.2\"/>\n<circle clip-path=\"url(#clip762)\" cx=\"1505.3\" cy=\"657.61\" r=\"14\" fill=\"#e26f46\" fill-rule=\"evenodd\" fill-opacity=\"1\" stroke=\"#000000\" stroke-opacity=\"1\" stroke-width=\"3.2\"/>\n<circle clip-path=\"url(#clip762)\" cx=\"1563.68\" cy=\"535.713\" r=\"14\" fill=\"#e26f46\" fill-rule=\"evenodd\" fill-opacity=\"1\" stroke=\"#000000\" stroke-opacity=\"1\" stroke-width=\"3.2\"/>\n<circle clip-path=\"url(#clip762)\" cx=\"1499.04\" cy=\"879.525\" r=\"14\" fill=\"#e26f46\" fill-rule=\"evenodd\" fill-opacity=\"1\" stroke=\"#000000\" stroke-opacity=\"1\" stroke-width=\"3.2\"/>\n<circle clip-path=\"url(#clip762)\" cx=\"1541.17\" cy=\"415.99\" r=\"14\" fill=\"#e26f46\" fill-rule=\"evenodd\" fill-opacity=\"1\" stroke=\"#000000\" stroke-opacity=\"1\" stroke-width=\"3.2\"/>\n<circle clip-path=\"url(#clip762)\" cx=\"1615.86\" cy=\"486.465\" r=\"14\" fill=\"#e26f46\" fill-rule=\"evenodd\" fill-opacity=\"1\" stroke=\"#000000\" stroke-opacity=\"1\" stroke-width=\"3.2\"/>\n<circle clip-path=\"url(#clip762)\" cx=\"1515.53\" cy=\"842.923\" r=\"14\" fill=\"#e26f46\" fill-rule=\"evenodd\" fill-opacity=\"1\" stroke=\"#000000\" stroke-opacity=\"1\" stroke-width=\"3.2\"/>\n<circle clip-path=\"url(#clip762)\" cx=\"1615.51\" cy=\"574.174\" r=\"14\" fill=\"#e26f46\" fill-rule=\"evenodd\" fill-opacity=\"1\" stroke=\"#000000\" stroke-opacity=\"1\" stroke-width=\"3.2\"/>\n<circle clip-path=\"url(#clip762)\" cx=\"1595.73\" cy=\"644.812\" r=\"14\" fill=\"#e26f46\" fill-rule=\"evenodd\" fill-opacity=\"1\" stroke=\"#000000\" stroke-opacity=\"1\" stroke-width=\"3.2\"/>\n<circle clip-path=\"url(#clip762)\" cx=\"1489.46\" cy=\"817.856\" r=\"14\" fill=\"#e26f46\" fill-rule=\"evenodd\" fill-opacity=\"1\" stroke=\"#000000\" stroke-opacity=\"1\" stroke-width=\"3.2\"/>\n<circle clip-path=\"url(#clip762)\" cx=\"1509.93\" cy=\"552.676\" r=\"14\" fill=\"#e26f46\" fill-rule=\"evenodd\" fill-opacity=\"1\" stroke=\"#000000\" stroke-opacity=\"1\" stroke-width=\"3.2\"/>\n<circle clip-path=\"url(#clip762)\" cx=\"1485.79\" cy=\"762.961\" r=\"14\" fill=\"#e26f46\" fill-rule=\"evenodd\" fill-opacity=\"1\" stroke=\"#000000\" stroke-opacity=\"1\" stroke-width=\"3.2\"/>\n<circle clip-path=\"url(#clip762)\" cx=\"1535.66\" cy=\"506.306\" r=\"14\" fill=\"#e26f46\" fill-rule=\"evenodd\" fill-opacity=\"1\" stroke=\"#000000\" stroke-opacity=\"1\" stroke-width=\"3.2\"/>\n<circle clip-path=\"url(#clip762)\" cx=\"1460.71\" cy=\"497.493\" r=\"14\" fill=\"#e26f46\" fill-rule=\"evenodd\" fill-opacity=\"1\" stroke=\"#000000\" stroke-opacity=\"1\" stroke-width=\"3.2\"/>\n<circle clip-path=\"url(#clip762)\" cx=\"1624.59\" cy=\"725.165\" r=\"14\" fill=\"#e26f46\" fill-rule=\"evenodd\" fill-opacity=\"1\" stroke=\"#000000\" stroke-opacity=\"1\" stroke-width=\"3.2\"/>\n<circle clip-path=\"url(#clip762)\" cx=\"1531.95\" cy=\"500.295\" r=\"14\" fill=\"#e26f46\" fill-rule=\"evenodd\" fill-opacity=\"1\" stroke=\"#000000\" stroke-opacity=\"1\" stroke-width=\"3.2\"/>\n<circle clip-path=\"url(#clip762)\" cx=\"1620.96\" cy=\"547.347\" r=\"14\" fill=\"#e26f46\" fill-rule=\"evenodd\" fill-opacity=\"1\" stroke=\"#000000\" stroke-opacity=\"1\" stroke-width=\"3.2\"/>\n<circle clip-path=\"url(#clip762)\" cx=\"1506.98\" cy=\"606.982\" r=\"14\" fill=\"#e26f46\" fill-rule=\"evenodd\" fill-opacity=\"1\" stroke=\"#000000\" stroke-opacity=\"1\" stroke-width=\"3.2\"/>\n<circle clip-path=\"url(#clip762)\" cx=\"1511.72\" cy=\"778.038\" r=\"14\" fill=\"#e26f46\" fill-rule=\"evenodd\" fill-opacity=\"1\" stroke=\"#000000\" stroke-opacity=\"1\" stroke-width=\"3.2\"/>\n<circle clip-path=\"url(#clip762)\" cx=\"1515.47\" cy=\"795.046\" r=\"14\" fill=\"#e26f46\" fill-rule=\"evenodd\" fill-opacity=\"1\" stroke=\"#000000\" stroke-opacity=\"1\" stroke-width=\"3.2\"/>\n<circle clip-path=\"url(#clip762)\" cx=\"1583.35\" cy=\"777.682\" r=\"14\" fill=\"#e26f46\" fill-rule=\"evenodd\" fill-opacity=\"1\" stroke=\"#000000\" stroke-opacity=\"1\" stroke-width=\"3.2\"/>\n<circle clip-path=\"url(#clip762)\" cx=\"1510.56\" cy=\"989.828\" r=\"14\" fill=\"#e26f46\" fill-rule=\"evenodd\" fill-opacity=\"1\" stroke=\"#000000\" stroke-opacity=\"1\" stroke-width=\"3.2\"/>\n<circle clip-path=\"url(#clip762)\" cx=\"1578.69\" cy=\"685.546\" r=\"14\" fill=\"#e26f46\" fill-rule=\"evenodd\" fill-opacity=\"1\" stroke=\"#000000\" stroke-opacity=\"1\" stroke-width=\"3.2\"/>\n<circle clip-path=\"url(#clip762)\" cx=\"1485.23\" cy=\"400.479\" r=\"14\" fill=\"#e26f46\" fill-rule=\"evenodd\" fill-opacity=\"1\" stroke=\"#000000\" stroke-opacity=\"1\" stroke-width=\"3.2\"/>\n<circle clip-path=\"url(#clip762)\" cx=\"1509.39\" cy=\"906.418\" r=\"14\" fill=\"#e26f46\" fill-rule=\"evenodd\" fill-opacity=\"1\" stroke=\"#000000\" stroke-opacity=\"1\" stroke-width=\"3.2\"/>\n<circle clip-path=\"url(#clip762)\" cx=\"1567.86\" cy=\"665.505\" r=\"14\" fill=\"#e26f46\" fill-rule=\"evenodd\" fill-opacity=\"1\" stroke=\"#000000\" stroke-opacity=\"1\" stroke-width=\"3.2\"/>\n<circle clip-path=\"url(#clip762)\" cx=\"1477.49\" cy=\"445.329\" r=\"14\" fill=\"#e26f46\" fill-rule=\"evenodd\" fill-opacity=\"1\" stroke=\"#000000\" stroke-opacity=\"1\" stroke-width=\"3.2\"/>\n<circle clip-path=\"url(#clip762)\" cx=\"1589.79\" cy=\"577.525\" r=\"14\" fill=\"#e26f46\" fill-rule=\"evenodd\" fill-opacity=\"1\" stroke=\"#000000\" stroke-opacity=\"1\" stroke-width=\"3.2\"/>\n<circle clip-path=\"url(#clip762)\" cx=\"1496.9\" cy=\"575.65\" r=\"14\" fill=\"#e26f46\" fill-rule=\"evenodd\" fill-opacity=\"1\" stroke=\"#000000\" stroke-opacity=\"1\" stroke-width=\"3.2\"/>\n<circle clip-path=\"url(#clip762)\" cx=\"1470.58\" cy=\"697.067\" r=\"14\" fill=\"#e26f46\" fill-rule=\"evenodd\" fill-opacity=\"1\" stroke=\"#000000\" stroke-opacity=\"1\" stroke-width=\"3.2\"/>\n<circle clip-path=\"url(#clip762)\" cx=\"1583.44\" cy=\"537.513\" r=\"14\" fill=\"#e26f46\" fill-rule=\"evenodd\" fill-opacity=\"1\" stroke=\"#000000\" stroke-opacity=\"1\" stroke-width=\"3.2\"/>\n<circle clip-path=\"url(#clip762)\" cx=\"1548.1\" cy=\"819.639\" r=\"14\" fill=\"#e26f46\" fill-rule=\"evenodd\" fill-opacity=\"1\" stroke=\"#000000\" stroke-opacity=\"1\" stroke-width=\"3.2\"/>\n<circle clip-path=\"url(#clip762)\" cx=\"1552.28\" cy=\"823.219\" r=\"14\" fill=\"#e26f46\" fill-rule=\"evenodd\" fill-opacity=\"1\" stroke=\"#000000\" stroke-opacity=\"1\" stroke-width=\"3.2\"/>\n<circle clip-path=\"url(#clip762)\" cx=\"1491.96\" cy=\"799.542\" r=\"14\" fill=\"#e26f46\" fill-rule=\"evenodd\" fill-opacity=\"1\" stroke=\"#000000\" stroke-opacity=\"1\" stroke-width=\"3.2\"/>\n<circle clip-path=\"url(#clip762)\" cx=\"1502.84\" cy=\"374.978\" r=\"14\" fill=\"#e26f46\" fill-rule=\"evenodd\" fill-opacity=\"1\" stroke=\"#000000\" stroke-opacity=\"1\" stroke-width=\"3.2\"/>\n<circle clip-path=\"url(#clip762)\" cx=\"1536.08\" cy=\"341.416\" r=\"14\" fill=\"#e26f46\" fill-rule=\"evenodd\" fill-opacity=\"1\" stroke=\"#000000\" stroke-opacity=\"1\" stroke-width=\"3.2\"/>\n<circle clip-path=\"url(#clip762)\" cx=\"1582.03\" cy=\"433.364\" r=\"14\" fill=\"#e26f46\" fill-rule=\"evenodd\" fill-opacity=\"1\" stroke=\"#000000\" stroke-opacity=\"1\" stroke-width=\"3.2\"/>\n<circle clip-path=\"url(#clip762)\" cx=\"1544.86\" cy=\"443.329\" r=\"14\" fill=\"#e26f46\" fill-rule=\"evenodd\" fill-opacity=\"1\" stroke=\"#000000\" stroke-opacity=\"1\" stroke-width=\"3.2\"/>\n<circle clip-path=\"url(#clip762)\" cx=\"1497.61\" cy=\"565.264\" r=\"14\" fill=\"#e26f46\" fill-rule=\"evenodd\" fill-opacity=\"1\" stroke=\"#000000\" stroke-opacity=\"1\" stroke-width=\"3.2\"/>\n<circle clip-path=\"url(#clip762)\" cx=\"1533.54\" cy=\"892.449\" r=\"14\" fill=\"#e26f46\" fill-rule=\"evenodd\" fill-opacity=\"1\" stroke=\"#000000\" stroke-opacity=\"1\" stroke-width=\"3.2\"/>\n<circle clip-path=\"url(#clip762)\" cx=\"1508.51\" cy=\"716.409\" r=\"14\" fill=\"#e26f46\" fill-rule=\"evenodd\" fill-opacity=\"1\" stroke=\"#000000\" stroke-opacity=\"1\" stroke-width=\"3.2\"/>\n<circle clip-path=\"url(#clip762)\" cx=\"1455.93\" cy=\"724.662\" r=\"14\" fill=\"#e26f46\" fill-rule=\"evenodd\" fill-opacity=\"1\" stroke=\"#000000\" stroke-opacity=\"1\" stroke-width=\"3.2\"/>\n<circle clip-path=\"url(#clip762)\" cx=\"1541.98\" cy=\"852.37\" r=\"14\" fill=\"#e26f46\" fill-rule=\"evenodd\" fill-opacity=\"1\" stroke=\"#000000\" stroke-opacity=\"1\" stroke-width=\"3.2\"/>\n<circle clip-path=\"url(#clip762)\" cx=\"1530.11\" cy=\"517.24\" r=\"14\" fill=\"#e26f46\" fill-rule=\"evenodd\" fill-opacity=\"1\" stroke=\"#000000\" stroke-opacity=\"1\" stroke-width=\"3.2\"/>\n<circle clip-path=\"url(#clip762)\" cx=\"1583.81\" cy=\"576.193\" r=\"14\" fill=\"#e26f46\" fill-rule=\"evenodd\" fill-opacity=\"1\" stroke=\"#000000\" stroke-opacity=\"1\" stroke-width=\"3.2\"/>\n<circle clip-path=\"url(#clip762)\" cx=\"1534.28\" cy=\"460.038\" r=\"14\" fill=\"#e26f46\" fill-rule=\"evenodd\" fill-opacity=\"1\" stroke=\"#000000\" stroke-opacity=\"1\" stroke-width=\"3.2\"/>\n<circle clip-path=\"url(#clip762)\" cx=\"1582.05\" cy=\"459.84\" r=\"14\" fill=\"#e26f46\" fill-rule=\"evenodd\" fill-opacity=\"1\" stroke=\"#000000\" stroke-opacity=\"1\" stroke-width=\"3.2\"/>\n<circle clip-path=\"url(#clip762)\" cx=\"1620.2\" cy=\"489.047\" r=\"14\" fill=\"#e26f46\" fill-rule=\"evenodd\" fill-opacity=\"1\" stroke=\"#000000\" stroke-opacity=\"1\" stroke-width=\"3.2\"/>\n<circle clip-path=\"url(#clip762)\" cx=\"1514.01\" cy=\"717.189\" r=\"14\" fill=\"#e26f46\" fill-rule=\"evenodd\" fill-opacity=\"1\" stroke=\"#000000\" stroke-opacity=\"1\" stroke-width=\"3.2\"/>\n<circle clip-path=\"url(#clip762)\" cx=\"1532.14\" cy=\"821.031\" r=\"14\" fill=\"#e26f46\" fill-rule=\"evenodd\" fill-opacity=\"1\" stroke=\"#000000\" stroke-opacity=\"1\" stroke-width=\"3.2\"/>\n<circle clip-path=\"url(#clip762)\" cx=\"1497.78\" cy=\"555.158\" r=\"14\" fill=\"#e26f46\" fill-rule=\"evenodd\" fill-opacity=\"1\" stroke=\"#000000\" stroke-opacity=\"1\" stroke-width=\"3.2\"/>\n<circle clip-path=\"url(#clip762)\" cx=\"1511.48\" cy=\"495.434\" r=\"14\" fill=\"#e26f46\" fill-rule=\"evenodd\" fill-opacity=\"1\" stroke=\"#000000\" stroke-opacity=\"1\" stroke-width=\"3.2\"/>\n<circle clip-path=\"url(#clip762)\" cx=\"1532.14\" cy=\"821.031\" r=\"14\" fill=\"#e26f46\" fill-rule=\"evenodd\" fill-opacity=\"1\" stroke=\"#000000\" stroke-opacity=\"1\" stroke-width=\"3.2\"/>\n<circle clip-path=\"url(#clip762)\" cx=\"1575.43\" cy=\"253.102\" r=\"14\" fill=\"#e26f46\" fill-rule=\"evenodd\" fill-opacity=\"1\" stroke=\"#000000\" stroke-opacity=\"1\" stroke-width=\"3.2\"/>\n<circle clip-path=\"url(#clip762)\" cx=\"1503.16\" cy=\"795.858\" r=\"14\" fill=\"#e26f46\" fill-rule=\"evenodd\" fill-opacity=\"1\" stroke=\"#000000\" stroke-opacity=\"1\" stroke-width=\"3.2\"/>\n<circle clip-path=\"url(#clip762)\" cx=\"1506.49\" cy=\"466.68\" r=\"14\" fill=\"#e26f46\" fill-rule=\"evenodd\" fill-opacity=\"1\" stroke=\"#000000\" stroke-opacity=\"1\" stroke-width=\"3.2\"/>\n<circle clip-path=\"url(#clip762)\" cx=\"1470.96\" cy=\"456.615\" r=\"14\" fill=\"#e26f46\" fill-rule=\"evenodd\" fill-opacity=\"1\" stroke=\"#000000\" stroke-opacity=\"1\" stroke-width=\"3.2\"/>\n<circle clip-path=\"url(#clip762)\" cx=\"1563.1\" cy=\"359.933\" r=\"14\" fill=\"#e26f46\" fill-rule=\"evenodd\" fill-opacity=\"1\" stroke=\"#000000\" stroke-opacity=\"1\" stroke-width=\"3.2\"/>\n<circle clip-path=\"url(#clip762)\" cx=\"1532.66\" cy=\"474.797\" r=\"14\" fill=\"#e26f46\" fill-rule=\"evenodd\" fill-opacity=\"1\" stroke=\"#000000\" stroke-opacity=\"1\" stroke-width=\"3.2\"/>\n<circle clip-path=\"url(#clip762)\" cx=\"1559.81\" cy=\"490.158\" r=\"14\" fill=\"#e26f46\" fill-rule=\"evenodd\" fill-opacity=\"1\" stroke=\"#000000\" stroke-opacity=\"1\" stroke-width=\"3.2\"/>\n<circle clip-path=\"url(#clip762)\" cx=\"1539.12\" cy=\"802.026\" r=\"14\" fill=\"#e26f46\" fill-rule=\"evenodd\" fill-opacity=\"1\" stroke=\"#000000\" stroke-opacity=\"1\" stroke-width=\"3.2\"/>\n<circle clip-path=\"url(#clip762)\" cx=\"1575.14\" cy=\"250.983\" r=\"14\" fill=\"#e26f46\" fill-rule=\"evenodd\" fill-opacity=\"1\" stroke=\"#000000\" stroke-opacity=\"1\" stroke-width=\"3.2\"/>\n<circle clip-path=\"url(#clip762)\" cx=\"1564.89\" cy=\"486.265\" r=\"14\" fill=\"#e26f46\" fill-rule=\"evenodd\" fill-opacity=\"1\" stroke=\"#000000\" stroke-opacity=\"1\" stroke-width=\"3.2\"/>\n<circle clip-path=\"url(#clip762)\" cx=\"1503.16\" cy=\"795.858\" r=\"14\" fill=\"#e26f46\" fill-rule=\"evenodd\" fill-opacity=\"1\" stroke=\"#000000\" stroke-opacity=\"1\" stroke-width=\"3.2\"/>\n<circle clip-path=\"url(#clip762)\" cx=\"1540.8\" cy=\"473.158\" r=\"14\" fill=\"#e26f46\" fill-rule=\"evenodd\" fill-opacity=\"1\" stroke=\"#000000\" stroke-opacity=\"1\" stroke-width=\"3.2\"/>\n<circle clip-path=\"url(#clip762)\" cx=\"1539.2\" cy=\"226.843\" r=\"14\" fill=\"#e26f46\" fill-rule=\"evenodd\" fill-opacity=\"1\" stroke=\"#000000\" stroke-opacity=\"1\" stroke-width=\"3.2\"/>\n<circle clip-path=\"url(#clip762)\" cx=\"1492.72\" cy=\"661.164\" r=\"14\" fill=\"#e26f46\" fill-rule=\"evenodd\" fill-opacity=\"1\" stroke=\"#000000\" stroke-opacity=\"1\" stroke-width=\"3.2\"/>\n<circle clip-path=\"url(#clip762)\" cx=\"1515.38\" cy=\"468.138\" r=\"14\" fill=\"#e26f46\" fill-rule=\"evenodd\" fill-opacity=\"1\" stroke=\"#000000\" stroke-opacity=\"1\" stroke-width=\"3.2\"/>\n<circle clip-path=\"url(#clip762)\" cx=\"1533.54\" cy=\"892.449\" r=\"14\" fill=\"#e26f46\" fill-rule=\"evenodd\" fill-opacity=\"1\" stroke=\"#000000\" stroke-opacity=\"1\" stroke-width=\"3.2\"/>\n<circle clip-path=\"url(#clip762)\" cx=\"1519.79\" cy=\"584.624\" r=\"14\" fill=\"#e26f46\" fill-rule=\"evenodd\" fill-opacity=\"1\" stroke=\"#000000\" stroke-opacity=\"1\" stroke-width=\"3.2\"/>\n<circle clip-path=\"url(#clip762)\" cx=\"1540.07\" cy=\"468.018\" r=\"14\" fill=\"#e26f46\" fill-rule=\"evenodd\" fill-opacity=\"1\" stroke=\"#000000\" stroke-opacity=\"1\" stroke-width=\"3.2\"/>\n<circle clip-path=\"url(#clip762)\" cx=\"1564.89\" cy=\"486.265\" r=\"14\" fill=\"#e26f46\" fill-rule=\"evenodd\" fill-opacity=\"1\" stroke=\"#000000\" stroke-opacity=\"1\" stroke-width=\"3.2\"/>\n<circle clip-path=\"url(#clip762)\" cx=\"1519.79\" cy=\"584.624\" r=\"14\" fill=\"#e26f46\" fill-rule=\"evenodd\" fill-opacity=\"1\" stroke=\"#000000\" stroke-opacity=\"1\" stroke-width=\"3.2\"/>\n<circle clip-path=\"url(#clip762)\" cx=\"1540.07\" cy=\"468.018\" r=\"14\" fill=\"#e26f46\" fill-rule=\"evenodd\" fill-opacity=\"1\" stroke=\"#000000\" stroke-opacity=\"1\" stroke-width=\"3.2\"/>\n</svg>\n"
     },
     "metadata": {},
     "output_type": "display_data"
    }
   ],
   "source": [
    "function plot_pop(P)\n",
    "    scatter3d([i.y[1] for i in P], [i.y[2] for i in P], [i.y[3] for i in P], xlims=(0.0, 1.0), ylims=(0.0, 1.0), legend=:none)\n",
    "    ND = filter(indiv -> indiv.rank == 1, P)\n",
    "    scatter3d!([i.y[1] for i in ND], [i.y[2] for i in ND], [i.y[3] for i in ND], legend=:none)\n",
    "end\n",
    "\n",
    "nsga_max(popsize, nbgen, objective, init, fCV=constraint, fplot=plot_pop, plotevery=1, showprogress=true);"
   ]
  },
  {
   "cell_type": "markdown",
   "metadata": {
    "slideshow": {
     "slide_type": "slide"
    }
   },
   "source": [
    "This type of visualization, plotting one objective function as X and another as Y, allows us to see the Pareto front for 2 dimensions easily. However, once we increase the number of objectives, this plot is much less useful as we'll always be constrained to looking at 2 dimensions, or at best 3."
   ]
  },
  {
   "cell_type": "markdown",
   "metadata": {
    "slideshow": {
     "slide_type": "fragment"
    }
   },
   "source": [
    "<div class=\"alert alert-success\">\n",
    "    <b>Exercise 3</b>\n",
    "    <br/>\n",
    "    Change the number of objectives to 3. Then use a <tt>scatter3d</tt> plot instead of a <tt>scatter</tt> plot to plot the evolution over 3 objectives.\n",
    "    <br/>\n",
    "    <ul>\n",
    "        <li>Can you still observe the Pareto front?</li>\n",
    "        <li>Can you identify non-dominated individuals easily</li>\n",
    "        <li>Do you see the performance for each objective</li>\n",
    "    </ul>\n",
    "    <br/>\n",
    "</div>"
   ]
  },
  {
   "cell_type": "markdown",
   "metadata": {
    "slideshow": {
     "slide_type": "slide"
    }
   },
   "source": [
    "Another way to look at the different objectives is to plot the different objectives on the `x` axis and the fitness values on the `y` axis. Each individual in a population is then represented as a line. This is known as a Parallel Coordinate Plot. Let's try this method, increasing the number of objectives to 10."
   ]
  },
  {
   "cell_type": "code",
   "execution_count": 22,
   "metadata": {
    "slideshow": {
     "slide_type": "fragment"
    }
   },
   "outputs": [
    {
     "data": {
      "text/plain": [
       "init (generic function with 1 method)"
      ]
     },
     "execution_count": 22,
     "metadata": {},
     "output_type": "execute_result"
    }
   ],
   "source": [
    "n = 100\n",
    "n_objectives = 10\n",
    "values = rand(n, n_objectives)\n",
    "values = values ./ sum(values, dims=1)\n",
    "weights = rand(n)\n",
    "weights = weights ./ sum(weights)\n",
    "max_weight = 0.5\n",
    "popsize = 100\n",
    "nbgen = 50\n",
    "init() = bitrand(n)"
   ]
  },
  {
   "cell_type": "code",
   "execution_count": 24,
   "metadata": {
    "slideshow": {
     "slide_type": "slide"
    }
   },
   "outputs": [
    {
     "ename": "LoadError",
     "evalue": "MethodError: no method matching length(::Nothing)\n\u001b[0mClosest candidates are:\n\u001b[0m  length(\u001b[91m::Union{Base.KeySet, Base.ValueIterator}\u001b[39m) at /usr/share/julia/base/abstractdict.jl:58\n\u001b[0m  length(\u001b[91m::Union{ZMQ._Message, Base.RefValue{ZMQ._Message}}\u001b[39m) at ~/.julia/packages/ZMQ/R3wSD/src/_message.jl:31\n\u001b[0m  length(\u001b[91m::Union{LinearAlgebra.Adjoint{T, <:Union{StaticArrays.StaticVector{<:Any, T}, StaticArrays.StaticMatrix{<:Any, <:Any, T}}}, LinearAlgebra.Diagonal{T, <:StaticArrays.StaticVector{<:Any, T}}, LinearAlgebra.Hermitian{T, <:StaticArrays.StaticMatrix{<:Any, <:Any, T}}, LinearAlgebra.LowerTriangular{T, <:StaticArrays.StaticMatrix{<:Any, <:Any, T}}, LinearAlgebra.Symmetric{T, <:StaticArrays.StaticMatrix{<:Any, <:Any, T}}, LinearAlgebra.Transpose{T, <:Union{StaticArrays.StaticVector{<:Any, T}, StaticArrays.StaticMatrix{<:Any, <:Any, T}}}, LinearAlgebra.UnitLowerTriangular{T, <:StaticArrays.StaticMatrix{<:Any, <:Any, T}}, LinearAlgebra.UnitUpperTriangular{T, <:StaticArrays.StaticMatrix{<:Any, <:Any, T}}, LinearAlgebra.UpperTriangular{T, <:StaticArrays.StaticMatrix{<:Any, <:Any, T}}, StaticArrays.StaticVector{<:Any, T}, StaticArrays.StaticMatrix{<:Any, <:Any, T}, StaticArrays.StaticArray{<:Tuple, T}} where T\u001b[39m) at ~/.julia/packages/StaticArrays/12k3X/src/abstractarray.jl:1\n\u001b[0m  ...",
     "output_type": "error",
     "traceback": [
      "MethodError: no method matching length(::Nothing)\n\u001b[0mClosest candidates are:\n\u001b[0m  length(\u001b[91m::Union{Base.KeySet, Base.ValueIterator}\u001b[39m) at /usr/share/julia/base/abstractdict.jl:58\n\u001b[0m  length(\u001b[91m::Union{ZMQ._Message, Base.RefValue{ZMQ._Message}}\u001b[39m) at ~/.julia/packages/ZMQ/R3wSD/src/_message.jl:31\n\u001b[0m  length(\u001b[91m::Union{LinearAlgebra.Adjoint{T, <:Union{StaticArrays.StaticVector{<:Any, T}, StaticArrays.StaticMatrix{<:Any, <:Any, T}}}, LinearAlgebra.Diagonal{T, <:StaticArrays.StaticVector{<:Any, T}}, LinearAlgebra.Hermitian{T, <:StaticArrays.StaticMatrix{<:Any, <:Any, T}}, LinearAlgebra.LowerTriangular{T, <:StaticArrays.StaticMatrix{<:Any, <:Any, T}}, LinearAlgebra.Symmetric{T, <:StaticArrays.StaticMatrix{<:Any, <:Any, T}}, LinearAlgebra.Transpose{T, <:Union{StaticArrays.StaticVector{<:Any, T}, StaticArrays.StaticMatrix{<:Any, <:Any, T}}}, LinearAlgebra.UnitLowerTriangular{T, <:StaticArrays.StaticMatrix{<:Any, <:Any, T}}, LinearAlgebra.UnitUpperTriangular{T, <:StaticArrays.StaticMatrix{<:Any, <:Any, T}}, LinearAlgebra.UpperTriangular{T, <:StaticArrays.StaticMatrix{<:Any, <:Any, T}}, StaticArrays.StaticVector{<:Any, T}, StaticArrays.StaticMatrix{<:Any, <:Any, T}, StaticArrays.StaticArray{<:Tuple, T}} where T\u001b[39m) at ~/.julia/packages/StaticArrays/12k3X/src/abstractarray.jl:1\n\u001b[0m  ...",
      "",
      "Stacktrace:",
      "  [1] _zip_min_length(is::Tuple{Nothing})",
      "    @ Base.Iterators ./iterators.jl:316",
      "  [2] _zip_min_length(is::Tuple{Vector{Float64}, Nothing}) (repeats 2 times)",
      "    @ Base.Iterators ./iterators.jl:312",
      "  [3] length(z::Base.Iterators.Zip{Tuple{UnitRange{Int64}, Vector{Float64}, Nothing}})",
      "    @ Base.Iterators ./iterators.jl:306",
      "  [4] length(g::Base.Generator{Base.Iterators.Zip{Tuple{UnitRange{Int64}, Vector{Float64}, Nothing}}, Base.var\"#4#5\"{typeof(GR.wc3towc)}})",
      "    @ Base ./generator.jl:50",
      "  [5] _similar_shape(itr::Base.Generator{Base.Iterators.Zip{Tuple{UnitRange{Int64}, Vector{Float64}, Nothing}}, Base.var\"#4#5\"{typeof(GR.wc3towc)}}, #unused#::Base.HasLength)",
      "    @ Base ./array.jl:600",
      "  [6] collect(itr::Base.Generator{Base.Iterators.Zip{Tuple{UnitRange{Int64}, Vector{Float64}, Nothing}}, Base.var\"#4#5\"{typeof(GR.wc3towc)}})",
      "    @ Base ./array.jl:723",
      "  [7] map(::Function, ::UnitRange{Int64}, ::Vector{Float64}, ::Nothing)",
      "    @ Base ./abstractarray.jl:2948",
      "  [8] gr_add_series(sp::Plots.Subplot{Plots.GRBackend}, series::Plots.Series)",
      "    @ Plots ~/.julia/packages/Plots/dNEbX/src/backends/gr.jl:1845",
      "  [9] gr_display(sp::Plots.Subplot{Plots.GRBackend}, w::Measures.AbsoluteLength, h::Measures.AbsoluteLength, viewport_canvas::Vector{Float64})",
      "    @ Plots ~/.julia/packages/Plots/dNEbX/src/backends/gr.jl:1005",
      " [10] gr_display(plt::Plots.Plot{Plots.GRBackend}, fmt::String)",
      "    @ Plots ~/.julia/packages/Plots/dNEbX/src/backends/gr.jl:670",
      " [11] _show(io::IOBuffer, #unused#::MIME{Symbol(\"image/svg+xml\")}, plt::Plots.Plot{Plots.GRBackend})",
      "    @ Plots ~/.julia/packages/Plots/dNEbX/src/backends/gr.jl:2169",
      " [12] show(io::IOBuffer, m::MIME{Symbol(\"image/svg+xml\")}, plt::Plots.Plot{Plots.GRBackend})",
      "    @ Plots ~/.julia/packages/Plots/dNEbX/src/output.jl:212",
      " [13] sprint(::Function, ::MIME{Symbol(\"image/svg+xml\")}, ::Vararg{Any}; context::Nothing, sizehint::Int64)",
      "    @ Base ./strings/io.jl:114",
      " [14] sprint",
      "    @ ./strings/io.jl:108 [inlined]",
      " [15] _ijulia_display_dict(plt::Plots.Plot{Plots.GRBackend})",
      "    @ Plots ~/.julia/packages/Plots/dNEbX/src/ijulia.jl:47",
      " [16] display_dict",
      "    @ ~/.julia/packages/Plots/dNEbX/src/init.jl:92 [inlined]",
      " [17] display(d::IJulia.InlineDisplay, x::Plots.Plot{Plots.GRBackend})",
      "    @ IJulia ~/.julia/packages/IJulia/e8kqU/src/inline.jl:95",
      " [18] inline(plt::Plots.Plot{Plots.GRBackend})",
      "    @ Plots ~/.julia/packages/Plots/dNEbX/src/output.jl:141",
      " [19] _do_plot_show(plt::Plots.Plot{Plots.GRBackend}, showval::Symbol)",
      "    @ Plots ~/.julia/packages/Plots/dNEbX/src/output.jl:152",
      " [20] _plot!(plt::Plots.Plot, plotattributes::Any, args::Any)",
      "    @ Plots ~/.julia/packages/Plots/dNEbX/src/plot.jl:210",
      " [21] #plot!#146",
      "    @ ~/.julia/packages/Plots/dNEbX/src/plot.jl:198 [inlined]",
      " [22] plot!(::Any, ::Vararg{Any}; kw::Base.Pairs{Symbol, V, Tuple{Vararg{Symbol, N}}, NamedTuple{names, T}} where {V, N, names, T<:Tuple{Vararg{Any, N}}})",
      "    @ Plots ~/.julia/packages/Plots/dNEbX/src/plot.jl:188",
      " [23] scatter3d!(::Any, ::Vararg{Any}; kw::Base.Pairs{Symbol, V, Tuple{Vararg{Symbol, N}}, NamedTuple{names, T}} where {V, N, names, T<:Tuple{Vararg{Any, N}}})",
      "    @ Plots ~/.julia/packages/RecipesBase/qpxEX/src/RecipesBase.jl:411",
      " [24] plot_pop(P::Vector{NSGAII.indiv{BitVector, BitVector, NTuple{10, Float64}}})",
      "    @ Main ./In[24]:10",
      " [25] macro expansion",
      "    @ ~/.julia/packages/NSGAII/HZevC/src/functions.jl:52 [inlined]",
      " [26] macro expansion",
      "    @ ~/.julia/packages/ProgressMeter/sN2xr/src/ProgressMeter.jl:938 [inlined]",
      " [27] _nsga(#unused#::NSGAII.indiv{BitVector, BitVector, NTuple{10, Float64}}, sense::NSGAII.Max, popSize::Int64, nbGen::Int64, init::typeof(init), z::Function, fdecode::Function, fdecode!::Function, fCV::typeof(constraint), pmut::Float64, fmut::typeof(NSGAII.default_mutation!), fcross::typeof(NSGAII.default_crossover!), seed::Vector{BitVector}, fplot::typeof(plot_pop), plotevery::Int64, refreshtime::Float64)",
      "    @ NSGAII ~/.julia/packages/NSGAII/HZevC/src/functions.jl:19",
      " [28] nsga_max(popSize::Int64, nbGen::Int64, z::typeof(objective), init::typeof(init); fdecode::Function, fdecode!::Function, fCV::Function, pmut::Float64, fmut::Function, fcross::Function, seed::Vector{BitVector}, fplot::Function, plotevery::Int64, showprogress::Bool)",
      "    @ NSGAII ~/.julia/packages/NSGAII/HZevC/src/NSGAII.jl:36",
      " [29] top-level scope",
      "    @ In[24]:18",
      " [30] eval",
      "    @ ./boot.jl:373 [inlined]",
      " [31] include_string(mapexpr::typeof(REPL.softscope), mod::Module, code::String, filename::String)",
      "    @ Base ./loading.jl:1196"
     ]
    }
   ],
   "source": [
    "ymin = Inf\n",
    "ymax = -Inf\n",
    "function plot_pop(P)\n",
    "    global ymin = min(ymin, minimum([minimum(i.y) for i in P]))\n",
    "    global ymax = max(ymax, maximum([maximum(i.y) for i in P]))\n",
    "    plot(xlims=(1, n_objectives), ylims=(ymin, ymax))\n",
    "    ND = filter(indiv -> indiv.rank == 1, P)\n",
    "    dominated = filter(indiv->indiv.rank != 1, P)\n",
    "    for i in dominated\n",
    "        plot!(1:n_objectives, collect(i.y), legend=:none, color=:blue)\n",
    "    end\n",
    "    for i in ND\n",
    "        plot!(1:n_objectives, collect(i.y), legend=:none, color=:orange)\n",
    "    end\n",
    "    sleep(2.0)\n",
    "end\n",
    "\n",
    "non_dominated = nsga_max(popsize, 50, objective, init, fCV=constraint,\n",
    "    fplot=plot_pop, plotevery=10, showprogress=true);"
   ]
  },
  {
   "cell_type": "markdown",
   "metadata": {
    "slideshow": {
     "slide_type": "slide"
    }
   },
   "source": [
    "<div class=\"alert alert-success\"\n",
    "\n",
    ">    <b>Exercise 4</b>\n",
    "    <br/>\n",
    "Gradually increase $K$, the number of objectives, and watch the number of non-dominated individuals in the population over evolution. What do you notice as $K$ increases?\n",
    "    <br/>\n",
    "</div>"
   ]
  },
  {
   "cell_type": "code",
   "execution_count": null,
   "metadata": {},
   "outputs": [],
   "source": []
  }
 ],
 "metadata": {
  "@webio": {
   "lastCommId": null,
   "lastKernelId": null
  },
  "celltoolbar": "Slideshow",
  "kernelspec": {
   "display_name": "Julia 1.7.2",
   "language": "julia",
   "name": "julia-1.7"
  },
  "language_info": {
   "file_extension": ".jl",
   "mimetype": "application/julia",
   "name": "julia",
   "version": "1.7.2"
  }
 },
 "nbformat": 4,
 "nbformat_minor": 2
}
